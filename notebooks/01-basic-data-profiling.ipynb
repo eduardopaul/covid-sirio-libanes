{
 "cells": [
  {
   "cell_type": "markdown",
   "metadata": {},
   "source": [
    "# Basic data profiling"
   ]
  },
  {
   "cell_type": "markdown",
   "metadata": {},
   "source": [
    "In this notebook, I will explore the basic characteristics of the dataset and assess if it follows what the documentation describes."
   ]
  },
  {
   "cell_type": "markdown",
   "metadata": {},
   "source": [
    "## Importing data and basic cleaning"
   ]
  },
  {
   "cell_type": "code",
   "execution_count": 1,
   "metadata": {},
   "outputs": [
    {
     "data": {
      "text/html": "<div>\n<style scoped>\n    .dataframe tbody tr th:only-of-type {\n        vertical-align: middle;\n    }\n\n    .dataframe tbody tr th {\n        vertical-align: top;\n    }\n\n    .dataframe thead th {\n        text-align: right;\n    }\n</style>\n<table border=\"1\" class=\"dataframe\">\n  <thead>\n    <tr style=\"text-align: right;\">\n      <th></th>\n      <th>PATIENT_VISIT_IDENTIFIER</th>\n      <th>AGE_ABOVE65</th>\n      <th>AGE_PERCENTIL</th>\n      <th>GENDER</th>\n      <th>DISEASE GROUPING 1</th>\n      <th>DISEASE GROUPING 2</th>\n      <th>DISEASE GROUPING 3</th>\n      <th>DISEASE GROUPING 4</th>\n      <th>DISEASE GROUPING 5</th>\n      <th>DISEASE GROUPING 6</th>\n      <th>...</th>\n      <th>TEMPERATURE_DIFF</th>\n      <th>OXYGEN_SATURATION_DIFF</th>\n      <th>BLOODPRESSURE_DIASTOLIC_DIFF_REL</th>\n      <th>BLOODPRESSURE_SISTOLIC_DIFF_REL</th>\n      <th>HEART_RATE_DIFF_REL</th>\n      <th>RESPIRATORY_RATE_DIFF_REL</th>\n      <th>TEMPERATURE_DIFF_REL</th>\n      <th>OXYGEN_SATURATION_DIFF_REL</th>\n      <th>WINDOW</th>\n      <th>ICU</th>\n    </tr>\n  </thead>\n  <tbody>\n    <tr>\n      <th>0</th>\n      <td>0</td>\n      <td>1</td>\n      <td>60th</td>\n      <td>0</td>\n      <td>0.0</td>\n      <td>0.0</td>\n      <td>0.0</td>\n      <td>0.0</td>\n      <td>1.0</td>\n      <td>1.0</td>\n      <td>...</td>\n      <td>-1.000000</td>\n      <td>-1.000000</td>\n      <td>-1.000000</td>\n      <td>-1.000000</td>\n      <td>-1.000000</td>\n      <td>-1.000000</td>\n      <td>-1.000000</td>\n      <td>-1.000000</td>\n      <td>0-2</td>\n      <td>0</td>\n    </tr>\n    <tr>\n      <th>1</th>\n      <td>0</td>\n      <td>1</td>\n      <td>60th</td>\n      <td>0</td>\n      <td>0.0</td>\n      <td>0.0</td>\n      <td>0.0</td>\n      <td>0.0</td>\n      <td>1.0</td>\n      <td>1.0</td>\n      <td>...</td>\n      <td>-1.000000</td>\n      <td>-1.000000</td>\n      <td>-1.000000</td>\n      <td>-1.000000</td>\n      <td>-1.000000</td>\n      <td>-1.000000</td>\n      <td>-1.000000</td>\n      <td>-1.000000</td>\n      <td>2-4</td>\n      <td>0</td>\n    </tr>\n    <tr>\n      <th>2</th>\n      <td>0</td>\n      <td>1</td>\n      <td>60th</td>\n      <td>0</td>\n      <td>0.0</td>\n      <td>0.0</td>\n      <td>0.0</td>\n      <td>0.0</td>\n      <td>1.0</td>\n      <td>1.0</td>\n      <td>...</td>\n      <td>NaN</td>\n      <td>NaN</td>\n      <td>NaN</td>\n      <td>NaN</td>\n      <td>NaN</td>\n      <td>NaN</td>\n      <td>NaN</td>\n      <td>NaN</td>\n      <td>4-6</td>\n      <td>0</td>\n    </tr>\n    <tr>\n      <th>3</th>\n      <td>0</td>\n      <td>1</td>\n      <td>60th</td>\n      <td>0</td>\n      <td>0.0</td>\n      <td>0.0</td>\n      <td>0.0</td>\n      <td>0.0</td>\n      <td>1.0</td>\n      <td>1.0</td>\n      <td>...</td>\n      <td>-1.000000</td>\n      <td>-1.000000</td>\n      <td>NaN</td>\n      <td>NaN</td>\n      <td>NaN</td>\n      <td>NaN</td>\n      <td>-1.000000</td>\n      <td>-1.000000</td>\n      <td>6-12</td>\n      <td>0</td>\n    </tr>\n    <tr>\n      <th>4</th>\n      <td>0</td>\n      <td>1</td>\n      <td>60th</td>\n      <td>0</td>\n      <td>0.0</td>\n      <td>0.0</td>\n      <td>0.0</td>\n      <td>0.0</td>\n      <td>1.0</td>\n      <td>1.0</td>\n      <td>...</td>\n      <td>-0.238095</td>\n      <td>-0.818182</td>\n      <td>-0.389967</td>\n      <td>0.407558</td>\n      <td>-0.230462</td>\n      <td>0.096774</td>\n      <td>-0.242282</td>\n      <td>-0.814433</td>\n      <td>ABOVE_12</td>\n      <td>1</td>\n    </tr>\n    <tr>\n      <th>...</th>\n      <td>...</td>\n      <td>...</td>\n      <td>...</td>\n      <td>...</td>\n      <td>...</td>\n      <td>...</td>\n      <td>...</td>\n      <td>...</td>\n      <td>...</td>\n      <td>...</td>\n      <td>...</td>\n      <td>...</td>\n      <td>...</td>\n      <td>...</td>\n      <td>...</td>\n      <td>...</td>\n      <td>...</td>\n      <td>...</td>\n      <td>...</td>\n      <td>...</td>\n      <td>...</td>\n    </tr>\n    <tr>\n      <th>1920</th>\n      <td>384</td>\n      <td>0</td>\n      <td>50th</td>\n      <td>1</td>\n      <td>0.0</td>\n      <td>0.0</td>\n      <td>0.0</td>\n      <td>0.0</td>\n      <td>0.0</td>\n      <td>0.0</td>\n      <td>...</td>\n      <td>-1.000000</td>\n      <td>-1.000000</td>\n      <td>-1.000000</td>\n      <td>-1.000000</td>\n      <td>-1.000000</td>\n      <td>-1.000000</td>\n      <td>-1.000000</td>\n      <td>-1.000000</td>\n      <td>0-2</td>\n      <td>0</td>\n    </tr>\n    <tr>\n      <th>1921</th>\n      <td>384</td>\n      <td>0</td>\n      <td>50th</td>\n      <td>1</td>\n      <td>0.0</td>\n      <td>0.0</td>\n      <td>0.0</td>\n      <td>0.0</td>\n      <td>0.0</td>\n      <td>0.0</td>\n      <td>...</td>\n      <td>-1.000000</td>\n      <td>-1.000000</td>\n      <td>-1.000000</td>\n      <td>-1.000000</td>\n      <td>-1.000000</td>\n      <td>-1.000000</td>\n      <td>-1.000000</td>\n      <td>-1.000000</td>\n      <td>2-4</td>\n      <td>0</td>\n    </tr>\n    <tr>\n      <th>1922</th>\n      <td>384</td>\n      <td>0</td>\n      <td>50th</td>\n      <td>1</td>\n      <td>0.0</td>\n      <td>0.0</td>\n      <td>0.0</td>\n      <td>0.0</td>\n      <td>0.0</td>\n      <td>0.0</td>\n      <td>...</td>\n      <td>-1.000000</td>\n      <td>-1.000000</td>\n      <td>-1.000000</td>\n      <td>-1.000000</td>\n      <td>-1.000000</td>\n      <td>-1.000000</td>\n      <td>-1.000000</td>\n      <td>-1.000000</td>\n      <td>4-6</td>\n      <td>0</td>\n    </tr>\n    <tr>\n      <th>1923</th>\n      <td>384</td>\n      <td>0</td>\n      <td>50th</td>\n      <td>1</td>\n      <td>0.0</td>\n      <td>0.0</td>\n      <td>0.0</td>\n      <td>0.0</td>\n      <td>0.0</td>\n      <td>0.0</td>\n      <td>...</td>\n      <td>-1.000000</td>\n      <td>-1.000000</td>\n      <td>-1.000000</td>\n      <td>-1.000000</td>\n      <td>-1.000000</td>\n      <td>-1.000000</td>\n      <td>-1.000000</td>\n      <td>-1.000000</td>\n      <td>6-12</td>\n      <td>0</td>\n    </tr>\n    <tr>\n      <th>1924</th>\n      <td>384</td>\n      <td>0</td>\n      <td>50th</td>\n      <td>1</td>\n      <td>0.0</td>\n      <td>0.0</td>\n      <td>1.0</td>\n      <td>0.0</td>\n      <td>0.0</td>\n      <td>0.0</td>\n      <td>...</td>\n      <td>-0.547619</td>\n      <td>-0.838384</td>\n      <td>-0.701863</td>\n      <td>-0.585967</td>\n      <td>-0.763868</td>\n      <td>-0.612903</td>\n      <td>-0.551337</td>\n      <td>-0.835052</td>\n      <td>ABOVE_12</td>\n      <td>0</td>\n    </tr>\n  </tbody>\n</table>\n<p>1925 rows × 231 columns</p>\n</div>",
      "text/plain": "      PATIENT_VISIT_IDENTIFIER  AGE_ABOVE65 AGE_PERCENTIL  GENDER  \\\n0                            0            1          60th       0   \n1                            0            1          60th       0   \n2                            0            1          60th       0   \n3                            0            1          60th       0   \n4                            0            1          60th       0   \n...                        ...          ...           ...     ...   \n1920                       384            0          50th       1   \n1921                       384            0          50th       1   \n1922                       384            0          50th       1   \n1923                       384            0          50th       1   \n1924                       384            0          50th       1   \n\n      DISEASE GROUPING 1  DISEASE GROUPING 2  DISEASE GROUPING 3  \\\n0                    0.0                 0.0                 0.0   \n1                    0.0                 0.0                 0.0   \n2                    0.0                 0.0                 0.0   \n3                    0.0                 0.0                 0.0   \n4                    0.0                 0.0                 0.0   \n...                  ...                 ...                 ...   \n1920                 0.0                 0.0                 0.0   \n1921                 0.0                 0.0                 0.0   \n1922                 0.0                 0.0                 0.0   \n1923                 0.0                 0.0                 0.0   \n1924                 0.0                 0.0                 1.0   \n\n      DISEASE GROUPING 4  DISEASE GROUPING 5  DISEASE GROUPING 6  ...  \\\n0                    0.0                 1.0                 1.0  ...   \n1                    0.0                 1.0                 1.0  ...   \n2                    0.0                 1.0                 1.0  ...   \n3                    0.0                 1.0                 1.0  ...   \n4                    0.0                 1.0                 1.0  ...   \n...                  ...                 ...                 ...  ...   \n1920                 0.0                 0.0                 0.0  ...   \n1921                 0.0                 0.0                 0.0  ...   \n1922                 0.0                 0.0                 0.0  ...   \n1923                 0.0                 0.0                 0.0  ...   \n1924                 0.0                 0.0                 0.0  ...   \n\n      TEMPERATURE_DIFF  OXYGEN_SATURATION_DIFF  \\\n0            -1.000000               -1.000000   \n1            -1.000000               -1.000000   \n2                  NaN                     NaN   \n3            -1.000000               -1.000000   \n4            -0.238095               -0.818182   \n...                ...                     ...   \n1920         -1.000000               -1.000000   \n1921         -1.000000               -1.000000   \n1922         -1.000000               -1.000000   \n1923         -1.000000               -1.000000   \n1924         -0.547619               -0.838384   \n\n      BLOODPRESSURE_DIASTOLIC_DIFF_REL  BLOODPRESSURE_SISTOLIC_DIFF_REL  \\\n0                            -1.000000                        -1.000000   \n1                            -1.000000                        -1.000000   \n2                                  NaN                              NaN   \n3                                  NaN                              NaN   \n4                            -0.389967                         0.407558   \n...                                ...                              ...   \n1920                         -1.000000                        -1.000000   \n1921                         -1.000000                        -1.000000   \n1922                         -1.000000                        -1.000000   \n1923                         -1.000000                        -1.000000   \n1924                         -0.701863                        -0.585967   \n\n      HEART_RATE_DIFF_REL  RESPIRATORY_RATE_DIFF_REL  TEMPERATURE_DIFF_REL  \\\n0               -1.000000                  -1.000000             -1.000000   \n1               -1.000000                  -1.000000             -1.000000   \n2                     NaN                        NaN                   NaN   \n3                     NaN                        NaN             -1.000000   \n4               -0.230462                   0.096774             -0.242282   \n...                   ...                        ...                   ...   \n1920            -1.000000                  -1.000000             -1.000000   \n1921            -1.000000                  -1.000000             -1.000000   \n1922            -1.000000                  -1.000000             -1.000000   \n1923            -1.000000                  -1.000000             -1.000000   \n1924            -0.763868                  -0.612903             -0.551337   \n\n      OXYGEN_SATURATION_DIFF_REL    WINDOW  ICU  \n0                      -1.000000       0-2    0  \n1                      -1.000000       2-4    0  \n2                            NaN       4-6    0  \n3                      -1.000000      6-12    0  \n4                      -0.814433  ABOVE_12    1  \n...                          ...       ...  ...  \n1920                   -1.000000       0-2    0  \n1921                   -1.000000       2-4    0  \n1922                   -1.000000       4-6    0  \n1923                   -1.000000      6-12    0  \n1924                   -0.835052  ABOVE_12    0  \n\n[1925 rows x 231 columns]"
     },
     "execution_count": 1,
     "metadata": {},
     "output_type": "execute_result"
    }
   ],
   "source": [
    "import json\n",
    "from pathlib import Path\n",
    "\n",
    "import numpy as np\n",
    "import pandas as pd\n",
    "\n",
    "\n",
    "raw_data_path = Path('../data/Kaggle_Sirio_Libanes_ICU_Prediction.xlsx')\n",
    "\n",
    "raw_data = pd.read_excel(raw_data_path)\n",
    "\n",
    "raw_data"
   ]
  },
  {
   "cell_type": "markdown",
   "metadata": {},
   "source": [
    "Cleaning columns names, by making them conform to the standard Python variable names, makes it easier to work with the data.\n",
    "\n",
    "A standard Python variable name is composed of letters, numbers and underscores, but the first character is necessarily a letter."
   ]
  },
  {
   "cell_type": "code",
   "execution_count": 2,
   "metadata": {},
   "outputs": [],
   "source": [
    "data = raw_data.copy()\n",
    "\n",
    "data.columns = data.columns.str.lower().str.replace(' ', '_')"
   ]
  },
  {
   "cell_type": "markdown",
   "metadata": {},
   "source": [
    "There is no column name left that does not conform to the standard Python names."
   ]
  },
  {
   "cell_type": "code",
   "execution_count": 3,
   "metadata": {},
   "outputs": [
    {
     "data": {
      "text/plain": "Series([], Name: 0, dtype: object)"
     },
     "execution_count": 3,
     "metadata": {},
     "output_type": "execute_result"
    }
   ],
   "source": [
    "# Return column names that do not conform to a letter followed by letters,\n",
    "# numbers and underscores.\n",
    "(\n",
    "    data.columns\n",
    "    .str.extract('([^[a-z]\\w+])')\n",
    "    .squeeze()\n",
    "    .dropna()\n",
    ")"
   ]
  },
  {
   "cell_type": "markdown",
   "metadata": {},
   "source": [
    "## Indices"
   ]
  },
  {
   "cell_type": "markdown",
   "metadata": {},
   "source": [
    "According to the definitions given in the documentation, the columns *patient_visit_identifier* and *window* are not features that would make sense in any kind of predictive modeling. Given their nature, they could act together as a MultiIndex. But before doing that, they need to be validated."
   ]
  },
  {
   "cell_type": "markdown",
   "metadata": {},
   "source": [
    "### *patient_visit_identifier*"
   ]
  },
  {
   "cell_type": "markdown",
   "metadata": {},
   "source": [
    "Renaming this column *id* makes it simpler to use."
   ]
  },
  {
   "cell_type": "code",
   "execution_count": 4,
   "metadata": {},
   "outputs": [
    {
     "data": {
      "text/plain": "0         0\n1         0\n2         0\n3         0\n4         0\n       ... \n1920    384\n1921    384\n1922    384\n1923    384\n1924    384\nName: id, Length: 1925, dtype: int64"
     },
     "execution_count": 4,
     "metadata": {},
     "output_type": "execute_result"
    }
   ],
   "source": [
    "data.rename(\n",
    "    {'patient_visit_identifier': 'id'},\n",
    "    axis=1,\n",
    "    inplace=True,\n",
    ")\n",
    "\n",
    "data['id']"
   ]
  },
  {
   "cell_type": "markdown",
   "metadata": {},
   "source": [
    "The *id* column is apparently an ordered sequence of integers, from 0 to 384. Since there should be 5 time windows, each *id* is expected to be repeated 5 times. It can be checked against a template array."
   ]
  },
  {
   "cell_type": "code",
   "execution_count": 5,
   "metadata": {},
   "outputs": [
    {
     "data": {
      "text/plain": "<IntegerArray>\n[  0,   0,   0,   0,   0,   1,   1,   1,   1,   1,\n ...\n 383, 383, 383, 383, 383, 384, 384, 384, 384, 384]\nLength: 1925, dtype: Int64"
     },
     "execution_count": 5,
     "metadata": {},
     "output_type": "execute_result"
    }
   ],
   "source": [
    "id_template_array = pd.array([\n",
    "    id\n",
    "    for id in range(385)\n",
    "    for time_window in range(5)\n",
    "])\n",
    "\n",
    "id_template_array"
   ]
  },
  {
   "cell_type": "code",
   "execution_count": 6,
   "metadata": {},
   "outputs": [
    {
     "data": {
      "text/plain": "True"
     },
     "execution_count": 6,
     "metadata": {},
     "output_type": "execute_result"
    }
   ],
   "source": [
    "data['id'].eq(id_template_array).all()"
   ]
  },
  {
   "cell_type": "markdown",
   "metadata": {},
   "source": [
    "The equality shows the column *id* has the form we expected."
   ]
  },
  {
   "cell_type": "markdown",
   "metadata": {},
   "source": [
    "### *window*"
   ]
  },
  {
   "cell_type": "markdown",
   "metadata": {},
   "source": [
    "The *window* column is composed of the 5 possible time windows."
   ]
  },
  {
   "cell_type": "code",
   "execution_count": 7,
   "metadata": {},
   "outputs": [
    {
     "data": {
      "text/plain": "array(['0-2', '2-4', '4-6', '6-12', 'ABOVE_12'], dtype=object)"
     },
     "execution_count": 7,
     "metadata": {},
     "output_type": "execute_result"
    }
   ],
   "source": [
    "data['window'].unique()"
   ]
  },
  {
   "cell_type": "markdown",
   "metadata": {},
   "source": [
    "Clean its values."
   ]
  },
  {
   "cell_type": "code",
   "execution_count": 8,
   "metadata": {},
   "outputs": [
    {
     "data": {
      "text/plain": "array(['0-2', '2-4', '4-6', '6-12', 'above_12'], dtype=object)"
     },
     "execution_count": 8,
     "metadata": {},
     "output_type": "execute_result"
    }
   ],
   "source": [
    "data.loc[:, 'window'] = data.loc[:, 'window'].str.lower()\n",
    "\n",
    "data['window'].unique()"
   ]
  },
  {
   "cell_type": "markdown",
   "metadata": {},
   "source": [
    "Every patient should present each of the time windows in sequence. This can also be checked against a template."
   ]
  },
  {
   "cell_type": "code",
   "execution_count": 9,
   "metadata": {},
   "outputs": [
    {
     "data": {
      "text/plain": "array(['0-2', '2-4', '4-6', ..., '4-6', '6-12', 'above_12'], dtype=object)"
     },
     "execution_count": 9,
     "metadata": {},
     "output_type": "execute_result"
    }
   ],
   "source": [
    "windows_template_array = np.array([\n",
    "    data['window'].unique()\n",
    "    for patient_id in range(385)\n",
    "]).ravel()\n",
    "\n",
    "windows_template_array"
   ]
  },
  {
   "cell_type": "code",
   "execution_count": 10,
   "metadata": {},
   "outputs": [
    {
     "data": {
      "text/plain": "True"
     },
     "execution_count": 10,
     "metadata": {},
     "output_type": "execute_result"
    }
   ],
   "source": [
    "data['window'].eq(windows_template_array).all()"
   ]
  },
  {
   "cell_type": "markdown",
   "metadata": {},
   "source": [
    "Comparison with the proposed template confirms it has the proper format."
   ]
  },
  {
   "cell_type": "markdown",
   "metadata": {},
   "source": [
    "### MultiIndex"
   ]
  },
  {
   "cell_type": "markdown",
   "metadata": {},
   "source": [
    "Since both *id* and *window* have the expected format, being both arranged in groups of 5, it's natural to use them as a MultiIndex for the DataFrame. Doing so makes it easier to understand the *DataFrame*."
   ]
  },
  {
   "cell_type": "code",
   "execution_count": 11,
   "metadata": {},
   "outputs": [
    {
     "data": {
      "text/html": "<div>\n<style scoped>\n    .dataframe tbody tr th:only-of-type {\n        vertical-align: middle;\n    }\n\n    .dataframe tbody tr th {\n        vertical-align: top;\n    }\n\n    .dataframe thead th {\n        text-align: right;\n    }\n</style>\n<table border=\"1\" class=\"dataframe\">\n  <thead>\n    <tr style=\"text-align: right;\">\n      <th></th>\n      <th></th>\n      <th>age_above65</th>\n      <th>age_percentil</th>\n      <th>gender</th>\n      <th>disease_grouping_1</th>\n      <th>disease_grouping_2</th>\n      <th>disease_grouping_3</th>\n      <th>disease_grouping_4</th>\n      <th>disease_grouping_5</th>\n      <th>disease_grouping_6</th>\n      <th>htn</th>\n      <th>...</th>\n      <th>respiratory_rate_diff</th>\n      <th>temperature_diff</th>\n      <th>oxygen_saturation_diff</th>\n      <th>bloodpressure_diastolic_diff_rel</th>\n      <th>bloodpressure_sistolic_diff_rel</th>\n      <th>heart_rate_diff_rel</th>\n      <th>respiratory_rate_diff_rel</th>\n      <th>temperature_diff_rel</th>\n      <th>oxygen_saturation_diff_rel</th>\n      <th>icu</th>\n    </tr>\n    <tr>\n      <th>id</th>\n      <th>window</th>\n      <th></th>\n      <th></th>\n      <th></th>\n      <th></th>\n      <th></th>\n      <th></th>\n      <th></th>\n      <th></th>\n      <th></th>\n      <th></th>\n      <th></th>\n      <th></th>\n      <th></th>\n      <th></th>\n      <th></th>\n      <th></th>\n      <th></th>\n      <th></th>\n      <th></th>\n      <th></th>\n      <th></th>\n    </tr>\n  </thead>\n  <tbody>\n    <tr>\n      <th rowspan=\"5\" valign=\"top\">0</th>\n      <th>0-2</th>\n      <td>1</td>\n      <td>60th</td>\n      <td>0</td>\n      <td>0.0</td>\n      <td>0.0</td>\n      <td>0.0</td>\n      <td>0.0</td>\n      <td>1.0</td>\n      <td>1.0</td>\n      <td>0.0</td>\n      <td>...</td>\n      <td>-1.000000</td>\n      <td>-1.000000</td>\n      <td>-1.000000</td>\n      <td>-1.000000</td>\n      <td>-1.000000</td>\n      <td>-1.000000</td>\n      <td>-1.000000</td>\n      <td>-1.000000</td>\n      <td>-1.000000</td>\n      <td>0</td>\n    </tr>\n    <tr>\n      <th>2-4</th>\n      <td>1</td>\n      <td>60th</td>\n      <td>0</td>\n      <td>0.0</td>\n      <td>0.0</td>\n      <td>0.0</td>\n      <td>0.0</td>\n      <td>1.0</td>\n      <td>1.0</td>\n      <td>0.0</td>\n      <td>...</td>\n      <td>-1.000000</td>\n      <td>-1.000000</td>\n      <td>-1.000000</td>\n      <td>-1.000000</td>\n      <td>-1.000000</td>\n      <td>-1.000000</td>\n      <td>-1.000000</td>\n      <td>-1.000000</td>\n      <td>-1.000000</td>\n      <td>0</td>\n    </tr>\n    <tr>\n      <th>4-6</th>\n      <td>1</td>\n      <td>60th</td>\n      <td>0</td>\n      <td>0.0</td>\n      <td>0.0</td>\n      <td>0.0</td>\n      <td>0.0</td>\n      <td>1.0</td>\n      <td>1.0</td>\n      <td>0.0</td>\n      <td>...</td>\n      <td>NaN</td>\n      <td>NaN</td>\n      <td>NaN</td>\n      <td>NaN</td>\n      <td>NaN</td>\n      <td>NaN</td>\n      <td>NaN</td>\n      <td>NaN</td>\n      <td>NaN</td>\n      <td>0</td>\n    </tr>\n    <tr>\n      <th>6-12</th>\n      <td>1</td>\n      <td>60th</td>\n      <td>0</td>\n      <td>0.0</td>\n      <td>0.0</td>\n      <td>0.0</td>\n      <td>0.0</td>\n      <td>1.0</td>\n      <td>1.0</td>\n      <td>0.0</td>\n      <td>...</td>\n      <td>NaN</td>\n      <td>-1.000000</td>\n      <td>-1.000000</td>\n      <td>NaN</td>\n      <td>NaN</td>\n      <td>NaN</td>\n      <td>NaN</td>\n      <td>-1.000000</td>\n      <td>-1.000000</td>\n      <td>0</td>\n    </tr>\n    <tr>\n      <th>above_12</th>\n      <td>1</td>\n      <td>60th</td>\n      <td>0</td>\n      <td>0.0</td>\n      <td>0.0</td>\n      <td>0.0</td>\n      <td>0.0</td>\n      <td>1.0</td>\n      <td>1.0</td>\n      <td>0.0</td>\n      <td>...</td>\n      <td>0.176471</td>\n      <td>-0.238095</td>\n      <td>-0.818182</td>\n      <td>-0.389967</td>\n      <td>0.407558</td>\n      <td>-0.230462</td>\n      <td>0.096774</td>\n      <td>-0.242282</td>\n      <td>-0.814433</td>\n      <td>1</td>\n    </tr>\n    <tr>\n      <th>...</th>\n      <th>...</th>\n      <td>...</td>\n      <td>...</td>\n      <td>...</td>\n      <td>...</td>\n      <td>...</td>\n      <td>...</td>\n      <td>...</td>\n      <td>...</td>\n      <td>...</td>\n      <td>...</td>\n      <td>...</td>\n      <td>...</td>\n      <td>...</td>\n      <td>...</td>\n      <td>...</td>\n      <td>...</td>\n      <td>...</td>\n      <td>...</td>\n      <td>...</td>\n      <td>...</td>\n      <td>...</td>\n    </tr>\n    <tr>\n      <th rowspan=\"5\" valign=\"top\">384</th>\n      <th>0-2</th>\n      <td>0</td>\n      <td>50th</td>\n      <td>1</td>\n      <td>0.0</td>\n      <td>0.0</td>\n      <td>0.0</td>\n      <td>0.0</td>\n      <td>0.0</td>\n      <td>0.0</td>\n      <td>0.0</td>\n      <td>...</td>\n      <td>-1.000000</td>\n      <td>-1.000000</td>\n      <td>-1.000000</td>\n      <td>-1.000000</td>\n      <td>-1.000000</td>\n      <td>-1.000000</td>\n      <td>-1.000000</td>\n      <td>-1.000000</td>\n      <td>-1.000000</td>\n      <td>0</td>\n    </tr>\n    <tr>\n      <th>2-4</th>\n      <td>0</td>\n      <td>50th</td>\n      <td>1</td>\n      <td>0.0</td>\n      <td>0.0</td>\n      <td>0.0</td>\n      <td>0.0</td>\n      <td>0.0</td>\n      <td>0.0</td>\n      <td>0.0</td>\n      <td>...</td>\n      <td>-1.000000</td>\n      <td>-1.000000</td>\n      <td>-1.000000</td>\n      <td>-1.000000</td>\n      <td>-1.000000</td>\n      <td>-1.000000</td>\n      <td>-1.000000</td>\n      <td>-1.000000</td>\n      <td>-1.000000</td>\n      <td>0</td>\n    </tr>\n    <tr>\n      <th>4-6</th>\n      <td>0</td>\n      <td>50th</td>\n      <td>1</td>\n      <td>0.0</td>\n      <td>0.0</td>\n      <td>0.0</td>\n      <td>0.0</td>\n      <td>0.0</td>\n      <td>0.0</td>\n      <td>0.0</td>\n      <td>...</td>\n      <td>-1.000000</td>\n      <td>-1.000000</td>\n      <td>-1.000000</td>\n      <td>-1.000000</td>\n      <td>-1.000000</td>\n      <td>-1.000000</td>\n      <td>-1.000000</td>\n      <td>-1.000000</td>\n      <td>-1.000000</td>\n      <td>0</td>\n    </tr>\n    <tr>\n      <th>6-12</th>\n      <td>0</td>\n      <td>50th</td>\n      <td>1</td>\n      <td>0.0</td>\n      <td>0.0</td>\n      <td>0.0</td>\n      <td>0.0</td>\n      <td>0.0</td>\n      <td>0.0</td>\n      <td>0.0</td>\n      <td>...</td>\n      <td>-1.000000</td>\n      <td>-1.000000</td>\n      <td>-1.000000</td>\n      <td>-1.000000</td>\n      <td>-1.000000</td>\n      <td>-1.000000</td>\n      <td>-1.000000</td>\n      <td>-1.000000</td>\n      <td>-1.000000</td>\n      <td>0</td>\n    </tr>\n    <tr>\n      <th>above_12</th>\n      <td>0</td>\n      <td>50th</td>\n      <td>1</td>\n      <td>0.0</td>\n      <td>0.0</td>\n      <td>1.0</td>\n      <td>0.0</td>\n      <td>0.0</td>\n      <td>0.0</td>\n      <td>0.0</td>\n      <td>...</td>\n      <td>-0.647059</td>\n      <td>-0.547619</td>\n      <td>-0.838384</td>\n      <td>-0.701863</td>\n      <td>-0.585967</td>\n      <td>-0.763868</td>\n      <td>-0.612903</td>\n      <td>-0.551337</td>\n      <td>-0.835052</td>\n      <td>0</td>\n    </tr>\n  </tbody>\n</table>\n<p>1925 rows × 229 columns</p>\n</div>",
      "text/plain": "              age_above65 age_percentil  gender  disease_grouping_1  \\\nid  window                                                            \n0   0-2                 1          60th       0                 0.0   \n    2-4                 1          60th       0                 0.0   \n    4-6                 1          60th       0                 0.0   \n    6-12                1          60th       0                 0.0   \n    above_12            1          60th       0                 0.0   \n...                   ...           ...     ...                 ...   \n384 0-2                 0          50th       1                 0.0   \n    2-4                 0          50th       1                 0.0   \n    4-6                 0          50th       1                 0.0   \n    6-12                0          50th       1                 0.0   \n    above_12            0          50th       1                 0.0   \n\n              disease_grouping_2  disease_grouping_3  disease_grouping_4  \\\nid  window                                                                 \n0   0-2                      0.0                 0.0                 0.0   \n    2-4                      0.0                 0.0                 0.0   \n    4-6                      0.0                 0.0                 0.0   \n    6-12                     0.0                 0.0                 0.0   \n    above_12                 0.0                 0.0                 0.0   \n...                          ...                 ...                 ...   \n384 0-2                      0.0                 0.0                 0.0   \n    2-4                      0.0                 0.0                 0.0   \n    4-6                      0.0                 0.0                 0.0   \n    6-12                     0.0                 0.0                 0.0   \n    above_12                 0.0                 1.0                 0.0   \n\n              disease_grouping_5  disease_grouping_6  htn  ...  \\\nid  window                                                 ...   \n0   0-2                      1.0                 1.0  0.0  ...   \n    2-4                      1.0                 1.0  0.0  ...   \n    4-6                      1.0                 1.0  0.0  ...   \n    6-12                     1.0                 1.0  0.0  ...   \n    above_12                 1.0                 1.0  0.0  ...   \n...                          ...                 ...  ...  ...   \n384 0-2                      0.0                 0.0  0.0  ...   \n    2-4                      0.0                 0.0  0.0  ...   \n    4-6                      0.0                 0.0  0.0  ...   \n    6-12                     0.0                 0.0  0.0  ...   \n    above_12                 0.0                 0.0  0.0  ...   \n\n              respiratory_rate_diff  temperature_diff  oxygen_saturation_diff  \\\nid  window                                                                      \n0   0-2                   -1.000000         -1.000000               -1.000000   \n    2-4                   -1.000000         -1.000000               -1.000000   \n    4-6                         NaN               NaN                     NaN   \n    6-12                        NaN         -1.000000               -1.000000   \n    above_12               0.176471         -0.238095               -0.818182   \n...                             ...               ...                     ...   \n384 0-2                   -1.000000         -1.000000               -1.000000   \n    2-4                   -1.000000         -1.000000               -1.000000   \n    4-6                   -1.000000         -1.000000               -1.000000   \n    6-12                  -1.000000         -1.000000               -1.000000   \n    above_12              -0.647059         -0.547619               -0.838384   \n\n              bloodpressure_diastolic_diff_rel  \\\nid  window                                       \n0   0-2                              -1.000000   \n    2-4                              -1.000000   \n    4-6                                    NaN   \n    6-12                                   NaN   \n    above_12                         -0.389967   \n...                                        ...   \n384 0-2                              -1.000000   \n    2-4                              -1.000000   \n    4-6                              -1.000000   \n    6-12                             -1.000000   \n    above_12                         -0.701863   \n\n              bloodpressure_sistolic_diff_rel  heart_rate_diff_rel  \\\nid  window                                                           \n0   0-2                             -1.000000            -1.000000   \n    2-4                             -1.000000            -1.000000   \n    4-6                                   NaN                  NaN   \n    6-12                                  NaN                  NaN   \n    above_12                         0.407558            -0.230462   \n...                                       ...                  ...   \n384 0-2                             -1.000000            -1.000000   \n    2-4                             -1.000000            -1.000000   \n    4-6                             -1.000000            -1.000000   \n    6-12                            -1.000000            -1.000000   \n    above_12                        -0.585967            -0.763868   \n\n              respiratory_rate_diff_rel  temperature_diff_rel  \\\nid  window                                                      \n0   0-2                       -1.000000             -1.000000   \n    2-4                       -1.000000             -1.000000   \n    4-6                             NaN                   NaN   \n    6-12                            NaN             -1.000000   \n    above_12                   0.096774             -0.242282   \n...                                 ...                   ...   \n384 0-2                       -1.000000             -1.000000   \n    2-4                       -1.000000             -1.000000   \n    4-6                       -1.000000             -1.000000   \n    6-12                      -1.000000             -1.000000   \n    above_12                  -0.612903             -0.551337   \n\n              oxygen_saturation_diff_rel  icu  \nid  window                                     \n0   0-2                        -1.000000    0  \n    2-4                        -1.000000    0  \n    4-6                              NaN    0  \n    6-12                       -1.000000    0  \n    above_12                   -0.814433    1  \n...                                  ...  ...  \n384 0-2                        -1.000000    0  \n    2-4                        -1.000000    0  \n    4-6                        -1.000000    0  \n    6-12                       -1.000000    0  \n    above_12                   -0.835052    0  \n\n[1925 rows x 229 columns]"
     },
     "execution_count": 11,
     "metadata": {},
     "output_type": "execute_result"
    }
   ],
   "source": [
    "data = data.set_index(['id', 'window'])\n",
    "\n",
    "data"
   ]
  },
  {
   "cell_type": "markdown",
   "metadata": {},
   "source": [
    "## Target"
   ]
  },
  {
   "cell_type": "markdown",
   "metadata": {},
   "source": [
    "The target variable is *icu*, which is either 0 (no need for ICU) or 1 (need for ICU), at a given time window."
   ]
  },
  {
   "cell_type": "code",
   "execution_count": 12,
   "metadata": {},
   "outputs": [
    {
     "data": {
      "text/plain": "array([0, 1])"
     },
     "execution_count": 12,
     "metadata": {},
     "output_type": "execute_result"
    }
   ],
   "source": [
    "data['icu'].unique()"
   ]
  },
  {
   "cell_type": "markdown",
   "metadata": {},
   "source": [
    "## Features"
   ]
  },
  {
   "cell_type": "markdown",
   "metadata": {},
   "source": [
    "### Groups"
   ]
  },
  {
   "cell_type": "markdown",
   "metadata": {},
   "source": [
    "According to the documentation, the features can be split into four distinct groups: *demographics*, *comorbidities*, *lab tests* and *vital signs*."
   ]
  },
  {
   "cell_type": "code",
   "execution_count": 13,
   "metadata": {},
   "outputs": [],
   "source": [
    "groups = {\n",
    "    'demographics': ['age_above65', 'age_percentil', 'gender'],\n",
    "    'comorbidities': [\n",
    "        'disease_grouping_1', 'disease_grouping_2', 'disease_grouping_3',\n",
    "        'disease_grouping_4', 'disease_grouping_5', 'disease_grouping_6',\n",
    "        'htn', 'immunocompromised', 'other',\n",
    "    ],\n",
    "    'labs': [\n",
    "        'albumin_median', 'albumin_mean', 'albumin_min', 'albumin_max', 'albumin_diff',\n",
    "        'be_arterial_median', 'be_arterial_mean', 'be_arterial_min', 'be_arterial_max', 'be_arterial_diff',\n",
    "        'be_venous_median', 'be_venous_mean', 'be_venous_min', 'be_venous_max', 'be_venous_diff',\n",
    "        'bic_arterial_median', 'bic_arterial_mean', 'bic_arterial_min', 'bic_arterial_max', 'bic_arterial_diff',\n",
    "        'bic_venous_median', 'bic_venous_mean', 'bic_venous_min', 'bic_venous_max', 'bic_venous_diff',\n",
    "        'billirubin_median', 'billirubin_mean', 'billirubin_min', 'billirubin_max', 'billirubin_diff',\n",
    "        'blast_median', 'blast_mean', 'blast_min', 'blast_max', 'blast_diff',\n",
    "        'calcium_median', 'calcium_mean', 'calcium_min', 'calcium_max', 'calcium_diff',\n",
    "        'creatinin_median', 'creatinin_mean', 'creatinin_min', 'creatinin_max', 'creatinin_diff',\n",
    "        'ffa_median', 'ffa_mean', 'ffa_min', 'ffa_max', 'ffa_diff',\n",
    "        'ggt_median', 'ggt_mean', 'ggt_min', 'ggt_max', 'ggt_diff',\n",
    "        'glucose_median', 'glucose_mean', 'glucose_min', 'glucose_max', 'glucose_diff',\n",
    "        'hematocrite_median', 'hematocrite_mean', 'hematocrite_min', 'hematocrite_max', 'hematocrite_diff',\n",
    "        'hemoglobin_median', 'hemoglobin_mean', 'hemoglobin_min', 'hemoglobin_max', 'hemoglobin_diff',\n",
    "        'inr_median', 'inr_mean', 'inr_min', 'inr_max', 'inr_diff',\n",
    "        'lactate_median', 'lactate_mean', 'lactate_min', 'lactate_max', 'lactate_diff',\n",
    "        'leukocytes_median', 'leukocytes_mean', 'leukocytes_min', 'leukocytes_max', 'leukocytes_diff',\n",
    "        'linfocitos_median', 'linfocitos_mean', 'linfocitos_min', 'linfocitos_max', 'linfocitos_diff',\n",
    "        'neutrophiles_median', 'neutrophiles_mean', 'neutrophiles_min', 'neutrophiles_max', 'neutrophiles_diff',\n",
    "        'p02_arterial_median', 'p02_arterial_mean', 'p02_arterial_min', 'p02_arterial_max', 'p02_arterial_diff',\n",
    "        'p02_venous_median', 'p02_venous_mean', 'p02_venous_min', 'p02_venous_max', 'p02_venous_diff',\n",
    "        'pc02_arterial_median', 'pc02_arterial_mean', 'pc02_arterial_min', 'pc02_arterial_max', 'pc02_arterial_diff',\n",
    "        'pc02_venous_median', 'pc02_venous_mean', 'pc02_venous_min', 'pc02_venous_max', 'pc02_venous_diff',\n",
    "        'pcr_median', 'pcr_mean', 'pcr_min', 'pcr_max', 'pcr_diff',\n",
    "        'ph_arterial_median', 'ph_arterial_mean', 'ph_arterial_min', 'ph_arterial_max', 'ph_arterial_diff',\n",
    "        'ph_venous_median', 'ph_venous_mean', 'ph_venous_min', 'ph_venous_max', 'ph_venous_diff',\n",
    "        'platelets_median', 'platelets_mean', 'platelets_min', 'platelets_max', 'platelets_diff',\n",
    "        'potassium_median', 'potassium_mean', 'potassium_min', 'potassium_max', 'potassium_diff',\n",
    "        'sat02_arterial_median', 'sat02_arterial_mean', 'sat02_arterial_min', 'sat02_arterial_max', 'sat02_arterial_diff',\n",
    "        'sat02_venous_median', 'sat02_venous_mean', 'sat02_venous_min', 'sat02_venous_max', 'sat02_venous_diff',\n",
    "        'sodium_median', 'sodium_mean', 'sodium_min', 'sodium_max', 'sodium_diff',\n",
    "        'tgo_median', 'tgo_mean', 'tgo_min', 'tgo_max', 'tgo_diff',\n",
    "        'tgp_median', 'tgp_mean', 'tgp_min', 'tgp_max', 'tgp_diff',\n",
    "        'ttpa_median', 'ttpa_mean', 'ttpa_min', 'ttpa_max', 'ttpa_diff',\n",
    "        'urea_median', 'urea_mean', 'urea_min', 'urea_max', 'urea_diff',\n",
    "        'dimer_median', 'dimer_mean', 'dimer_min', 'dimer_max', 'dimer_diff',\n",
    "    ],\n",
    "    'vitals': [\n",
    "        'bloodpressure_diastolic_mean', 'bloodpressure_sistolic_mean', 'heart_rate_mean',\n",
    "        'respiratory_rate_mean', 'temperature_mean', 'oxygen_saturation_mean',\n",
    "        'bloodpressure_diastolic_median', 'bloodpressure_sistolic_median', 'heart_rate_median',\n",
    "        'respiratory_rate_median', 'temperature_median', 'oxygen_saturation_median',\n",
    "        'bloodpressure_diastolic_min', 'bloodpressure_sistolic_min', 'heart_rate_min',\n",
    "        'respiratory_rate_min', 'temperature_min', 'oxygen_saturation_min',\n",
    "        'bloodpressure_diastolic_max', 'bloodpressure_sistolic_max', 'heart_rate_max',\n",
    "        'respiratory_rate_max', 'temperature_max', 'oxygen_saturation_max',\n",
    "        'bloodpressure_diastolic_diff', 'bloodpressure_sistolic_diff', 'heart_rate_diff',\n",
    "        'respiratory_rate_diff', 'temperature_diff', 'oxygen_saturation_diff',\n",
    "        'bloodpressure_diastolic_diff_rel', 'bloodpressure_sistolic_diff_rel', 'heart_rate_diff_rel',\n",
    "        'respiratory_rate_diff_rel', 'temperature_diff_rel', 'oxygen_saturation_diff_rel',\n",
    "    ],\n",
    "}"
   ]
  },
  {
   "cell_type": "markdown",
   "metadata": {},
   "source": [
    "There are\n",
    "- 3 *demographics*,\n",
    "- 9 *comorbidities*,\n",
    "- 36 *labs*,\n",
    "- 6 *vitals*.\n",
    "\n",
    "Each *lab* feature is actually composed of 5 distinct ones (*median*, *mean*, *min*, *max* and *diff*) and each *vital* is composed of 6 (*median*, *mean*, *min*, *max*, *diff* and *diff_rel*).\n",
    "\n",
    "As expected, the total number of features is 3 + 9 + 36\\*5 + 6\\*6 = 228, which amounts to all the *DataFrame*'s columns when we add *id*, *window*, and *icu*."
   ]
  },
  {
   "cell_type": "markdown",
   "metadata": {},
   "source": [
    "### Demographics"
   ]
  },
  {
   "cell_type": "markdown",
   "metadata": {},
   "source": [
    "*age_above65* should take any of the values [0, 1], meaning *no* and *yes*. *gender* also takes the values [0, 1], but it is not known which corresponds to each gender."
   ]
  },
  {
   "cell_type": "code",
   "execution_count": 14,
   "metadata": {},
   "outputs": [
    {
     "data": {
      "text/plain": "array([1, 0])"
     },
     "execution_count": 14,
     "metadata": {},
     "output_type": "execute_result"
    }
   ],
   "source": [
    "data['age_above65'].unique()"
   ]
  },
  {
   "cell_type": "code",
   "execution_count": 15,
   "metadata": {},
   "outputs": [
    {
     "data": {
      "text/plain": "array([0, 1])"
     },
     "execution_count": 15,
     "metadata": {},
     "output_type": "execute_result"
    }
   ],
   "source": [
    "data['gender'].unique()"
   ]
  },
  {
   "cell_type": "markdown",
   "metadata": {},
   "source": [
    "*age_percentil* should present the ten percentile intervals."
   ]
  },
  {
   "cell_type": "code",
   "execution_count": 16,
   "metadata": {},
   "outputs": [
    {
     "data": {
      "text/plain": "array(['60th', '90th', '10th', '40th', '70th', '20th', '50th', '80th',\n       '30th', 'Above 90th'], dtype=object)"
     },
     "execution_count": 16,
     "metadata": {},
     "output_type": "execute_result"
    }
   ],
   "source": [
    "data['age_percentil'].unique()"
   ]
  },
  {
   "cell_type": "markdown",
   "metadata": {},
   "source": [
    "This feature's values can be cleaned."
   ]
  },
  {
   "cell_type": "code",
   "execution_count": 17,
   "metadata": {},
   "outputs": [
    {
     "data": {
      "text/plain": "array(['60th', '90th', '10th', '40th', '70th', '20th', '50th', '80th',\n       '30th', 'above_90th'], dtype=object)"
     },
     "execution_count": 17,
     "metadata": {},
     "output_type": "execute_result"
    }
   ],
   "source": [
    "data.loc[:, 'age_percentil'] = (\n",
    "    data.loc[:, 'age_percentil']\n",
    "    .str.replace(' ', '_')\n",
    "    .str.lower()\n",
    ")\n",
    "\n",
    "data['age_percentil'].unique()"
   ]
  },
  {
   "cell_type": "markdown",
   "metadata": {},
   "source": [
    "Since it is not expected that any of these features change whithin the dataset's time frame, their number of unique values should be 1 when considering each patient in isolation."
   ]
  },
  {
   "cell_type": "code",
   "execution_count": 18,
   "metadata": {},
   "outputs": [
    {
     "data": {
      "text/plain": "age_above65      0\nage_percentil    0\ngender           0\ndtype: int64"
     },
     "execution_count": 18,
     "metadata": {},
     "output_type": "execute_result"
    }
   ],
   "source": [
    "# If there's a change in any feature, nunique > 1. The sum indicates for how\n",
    "# many patients the values have changed.\n",
    "(\n",
    "    data[groups['demographics']]\n",
    "    .groupby('id')\n",
    "    .agg(lambda col: col.nunique() != 1)\n",
    "    .sum()\n",
    ")"
   ]
  },
  {
   "cell_type": "markdown",
   "metadata": {},
   "source": [
    "They're all constant as expected."
   ]
  },
  {
   "cell_type": "markdown",
   "metadata": {},
   "source": [
    "### Comorbidities"
   ]
  },
  {
   "cell_type": "markdown",
   "metadata": {},
   "source": [
    "Every disease group should have values in [0, 1]."
   ]
  },
  {
   "cell_type": "code",
   "execution_count": 19,
   "metadata": {},
   "outputs": [
    {
     "data": {
      "text/plain": "disease_grouping_1    True\ndisease_grouping_2    True\ndisease_grouping_3    True\ndisease_grouping_4    True\ndisease_grouping_5    True\ndisease_grouping_6    True\nhtn                   True\nimmunocompromised     True\nother                 True\ndtype: bool"
     },
     "execution_count": 19,
     "metadata": {},
     "output_type": "execute_result"
    }
   ],
   "source": [
    "data[groups['comorbidities']].agg(\n",
    "    lambda col: col.dropna().isin([0, 1])\n",
    "    .all()\n",
    ")"
   ]
  },
  {
   "cell_type": "markdown",
   "metadata": {},
   "source": [
    "Checking for consistency within each patient's data."
   ]
  },
  {
   "cell_type": "code",
   "execution_count": 20,
   "metadata": {},
   "outputs": [
    {
     "data": {
      "text/plain": "disease_grouping_1     19\ndisease_grouping_2     10\ndisease_grouping_3     24\ndisease_grouping_4      4\ndisease_grouping_5     16\ndisease_grouping_6     16\nhtn                    45\nimmunocompromised       9\nother                 120\ndtype: int64"
     },
     "execution_count": 20,
     "metadata": {},
     "output_type": "execute_result"
    }
   ],
   "source": [
    "(\n",
    "    data[groups['comorbidities']]\n",
    "    .groupby('id')\n",
    "    .agg(lambda col: col.nunique() != 1)\n",
    "    .sum()\n",
    ")"
   ]
  },
  {
   "cell_type": "markdown",
   "metadata": {},
   "source": [
    "In this case there are several patients for whom the disease information varied. This may be due to\n",
    "- Registration error.\n",
    "    - Maybe when this information was being registered into the dataset, errors were made. This seems unlikely because it would mean these errors affected every comorbidity, but no demographics.\n",
    "- Variation in the disease status.\n",
    "    - The patients may have got better or worse for any of the disease groups.\n",
    "- Variation in the disease assessment.\n",
    "    - Maybe distinct health-care professionals assessed the disease status in constrasting ways at different times.\n",
    "\n",
    "It's impossible to know for sure what is the reason for this variation. This issue will have to be dealt with later, depending on how the data processed."
   ]
  },
  {
   "cell_type": "markdown",
   "metadata": {},
   "source": [
    "### Labs"
   ]
  },
  {
   "cell_type": "markdown",
   "metadata": {},
   "source": [
    "Every lab result should take a real value between -1 and 1."
   ]
  },
  {
   "cell_type": "code",
   "execution_count": 21,
   "metadata": {},
   "outputs": [
    {
     "data": {
      "text/plain": "True"
     },
     "execution_count": 21,
     "metadata": {},
     "output_type": "execute_result"
    }
   ],
   "source": [
    "(\n",
    "    data[groups['labs']]\n",
    "    .dropna()\n",
    "    # Check if every absolute value is <= 1.\n",
    "    .abs()\n",
    "    .le(1)\n",
    "    # Calling the method *all* twice checks if every single value is True.\n",
    "    .all()\n",
    "    .all()\n",
    ")"
   ]
  },
  {
   "cell_type": "markdown",
   "metadata": {},
   "source": [
    "### Vitals"
   ]
  },
  {
   "cell_type": "markdown",
   "metadata": {},
   "source": [
    "The vitals also take values between -1 and 1."
   ]
  },
  {
   "cell_type": "code",
   "execution_count": 22,
   "metadata": {},
   "outputs": [
    {
     "data": {
      "text/plain": "True"
     },
     "execution_count": 22,
     "metadata": {},
     "output_type": "execute_result"
    }
   ],
   "source": [
    "(\n",
    "    data[groups['vitals']]\n",
    "    .dropna()\n",
    "    .abs()\n",
    "    .le(1)\n",
    "    .all()\n",
    "    .all()\n",
    ")"
   ]
  },
  {
   "cell_type": "markdown",
   "metadata": {},
   "source": [
    "## Exporting"
   ]
  },
  {
   "cell_type": "code",
   "execution_count": 23,
   "metadata": {},
   "outputs": [
    {
     "data": {
      "text/html": "<div>\n<style scoped>\n    .dataframe tbody tr th:only-of-type {\n        vertical-align: middle;\n    }\n\n    .dataframe tbody tr th {\n        vertical-align: top;\n    }\n\n    .dataframe thead th {\n        text-align: right;\n    }\n</style>\n<table border=\"1\" class=\"dataframe\">\n  <thead>\n    <tr style=\"text-align: right;\">\n      <th></th>\n      <th></th>\n      <th>age_above65</th>\n      <th>age_percentil</th>\n      <th>gender</th>\n      <th>disease_grouping_1</th>\n      <th>disease_grouping_2</th>\n      <th>disease_grouping_3</th>\n      <th>disease_grouping_4</th>\n      <th>disease_grouping_5</th>\n      <th>disease_grouping_6</th>\n      <th>htn</th>\n      <th>...</th>\n      <th>respiratory_rate_diff</th>\n      <th>temperature_diff</th>\n      <th>oxygen_saturation_diff</th>\n      <th>bloodpressure_diastolic_diff_rel</th>\n      <th>bloodpressure_sistolic_diff_rel</th>\n      <th>heart_rate_diff_rel</th>\n      <th>respiratory_rate_diff_rel</th>\n      <th>temperature_diff_rel</th>\n      <th>oxygen_saturation_diff_rel</th>\n      <th>icu</th>\n    </tr>\n    <tr>\n      <th>id</th>\n      <th>window</th>\n      <th></th>\n      <th></th>\n      <th></th>\n      <th></th>\n      <th></th>\n      <th></th>\n      <th></th>\n      <th></th>\n      <th></th>\n      <th></th>\n      <th></th>\n      <th></th>\n      <th></th>\n      <th></th>\n      <th></th>\n      <th></th>\n      <th></th>\n      <th></th>\n      <th></th>\n      <th></th>\n      <th></th>\n    </tr>\n  </thead>\n  <tbody>\n    <tr>\n      <th rowspan=\"5\" valign=\"top\">0</th>\n      <th>0-2</th>\n      <td>1</td>\n      <td>60th</td>\n      <td>0</td>\n      <td>0.0</td>\n      <td>0.0</td>\n      <td>0.0</td>\n      <td>0.0</td>\n      <td>1.0</td>\n      <td>1.0</td>\n      <td>0.0</td>\n      <td>...</td>\n      <td>-1.000000</td>\n      <td>-1.000000</td>\n      <td>-1.000000</td>\n      <td>-1.000000</td>\n      <td>-1.000000</td>\n      <td>-1.000000</td>\n      <td>-1.000000</td>\n      <td>-1.000000</td>\n      <td>-1.000000</td>\n      <td>0</td>\n    </tr>\n    <tr>\n      <th>2-4</th>\n      <td>1</td>\n      <td>60th</td>\n      <td>0</td>\n      <td>0.0</td>\n      <td>0.0</td>\n      <td>0.0</td>\n      <td>0.0</td>\n      <td>1.0</td>\n      <td>1.0</td>\n      <td>0.0</td>\n      <td>...</td>\n      <td>-1.000000</td>\n      <td>-1.000000</td>\n      <td>-1.000000</td>\n      <td>-1.000000</td>\n      <td>-1.000000</td>\n      <td>-1.000000</td>\n      <td>-1.000000</td>\n      <td>-1.000000</td>\n      <td>-1.000000</td>\n      <td>0</td>\n    </tr>\n    <tr>\n      <th>4-6</th>\n      <td>1</td>\n      <td>60th</td>\n      <td>0</td>\n      <td>0.0</td>\n      <td>0.0</td>\n      <td>0.0</td>\n      <td>0.0</td>\n      <td>1.0</td>\n      <td>1.0</td>\n      <td>0.0</td>\n      <td>...</td>\n      <td>NaN</td>\n      <td>NaN</td>\n      <td>NaN</td>\n      <td>NaN</td>\n      <td>NaN</td>\n      <td>NaN</td>\n      <td>NaN</td>\n      <td>NaN</td>\n      <td>NaN</td>\n      <td>0</td>\n    </tr>\n    <tr>\n      <th>6-12</th>\n      <td>1</td>\n      <td>60th</td>\n      <td>0</td>\n      <td>0.0</td>\n      <td>0.0</td>\n      <td>0.0</td>\n      <td>0.0</td>\n      <td>1.0</td>\n      <td>1.0</td>\n      <td>0.0</td>\n      <td>...</td>\n      <td>NaN</td>\n      <td>-1.000000</td>\n      <td>-1.000000</td>\n      <td>NaN</td>\n      <td>NaN</td>\n      <td>NaN</td>\n      <td>NaN</td>\n      <td>-1.000000</td>\n      <td>-1.000000</td>\n      <td>0</td>\n    </tr>\n    <tr>\n      <th>above_12</th>\n      <td>1</td>\n      <td>60th</td>\n      <td>0</td>\n      <td>0.0</td>\n      <td>0.0</td>\n      <td>0.0</td>\n      <td>0.0</td>\n      <td>1.0</td>\n      <td>1.0</td>\n      <td>0.0</td>\n      <td>...</td>\n      <td>0.176471</td>\n      <td>-0.238095</td>\n      <td>-0.818182</td>\n      <td>-0.389967</td>\n      <td>0.407558</td>\n      <td>-0.230462</td>\n      <td>0.096774</td>\n      <td>-0.242282</td>\n      <td>-0.814433</td>\n      <td>1</td>\n    </tr>\n    <tr>\n      <th>...</th>\n      <th>...</th>\n      <td>...</td>\n      <td>...</td>\n      <td>...</td>\n      <td>...</td>\n      <td>...</td>\n      <td>...</td>\n      <td>...</td>\n      <td>...</td>\n      <td>...</td>\n      <td>...</td>\n      <td>...</td>\n      <td>...</td>\n      <td>...</td>\n      <td>...</td>\n      <td>...</td>\n      <td>...</td>\n      <td>...</td>\n      <td>...</td>\n      <td>...</td>\n      <td>...</td>\n      <td>...</td>\n    </tr>\n    <tr>\n      <th rowspan=\"5\" valign=\"top\">384</th>\n      <th>0-2</th>\n      <td>0</td>\n      <td>50th</td>\n      <td>1</td>\n      <td>0.0</td>\n      <td>0.0</td>\n      <td>0.0</td>\n      <td>0.0</td>\n      <td>0.0</td>\n      <td>0.0</td>\n      <td>0.0</td>\n      <td>...</td>\n      <td>-1.000000</td>\n      <td>-1.000000</td>\n      <td>-1.000000</td>\n      <td>-1.000000</td>\n      <td>-1.000000</td>\n      <td>-1.000000</td>\n      <td>-1.000000</td>\n      <td>-1.000000</td>\n      <td>-1.000000</td>\n      <td>0</td>\n    </tr>\n    <tr>\n      <th>2-4</th>\n      <td>0</td>\n      <td>50th</td>\n      <td>1</td>\n      <td>0.0</td>\n      <td>0.0</td>\n      <td>0.0</td>\n      <td>0.0</td>\n      <td>0.0</td>\n      <td>0.0</td>\n      <td>0.0</td>\n      <td>...</td>\n      <td>-1.000000</td>\n      <td>-1.000000</td>\n      <td>-1.000000</td>\n      <td>-1.000000</td>\n      <td>-1.000000</td>\n      <td>-1.000000</td>\n      <td>-1.000000</td>\n      <td>-1.000000</td>\n      <td>-1.000000</td>\n      <td>0</td>\n    </tr>\n    <tr>\n      <th>4-6</th>\n      <td>0</td>\n      <td>50th</td>\n      <td>1</td>\n      <td>0.0</td>\n      <td>0.0</td>\n      <td>0.0</td>\n      <td>0.0</td>\n      <td>0.0</td>\n      <td>0.0</td>\n      <td>0.0</td>\n      <td>...</td>\n      <td>-1.000000</td>\n      <td>-1.000000</td>\n      <td>-1.000000</td>\n      <td>-1.000000</td>\n      <td>-1.000000</td>\n      <td>-1.000000</td>\n      <td>-1.000000</td>\n      <td>-1.000000</td>\n      <td>-1.000000</td>\n      <td>0</td>\n    </tr>\n    <tr>\n      <th>6-12</th>\n      <td>0</td>\n      <td>50th</td>\n      <td>1</td>\n      <td>0.0</td>\n      <td>0.0</td>\n      <td>0.0</td>\n      <td>0.0</td>\n      <td>0.0</td>\n      <td>0.0</td>\n      <td>0.0</td>\n      <td>...</td>\n      <td>-1.000000</td>\n      <td>-1.000000</td>\n      <td>-1.000000</td>\n      <td>-1.000000</td>\n      <td>-1.000000</td>\n      <td>-1.000000</td>\n      <td>-1.000000</td>\n      <td>-1.000000</td>\n      <td>-1.000000</td>\n      <td>0</td>\n    </tr>\n    <tr>\n      <th>above_12</th>\n      <td>0</td>\n      <td>50th</td>\n      <td>1</td>\n      <td>0.0</td>\n      <td>0.0</td>\n      <td>1.0</td>\n      <td>0.0</td>\n      <td>0.0</td>\n      <td>0.0</td>\n      <td>0.0</td>\n      <td>...</td>\n      <td>-0.647059</td>\n      <td>-0.547619</td>\n      <td>-0.838384</td>\n      <td>-0.701863</td>\n      <td>-0.585967</td>\n      <td>-0.763868</td>\n      <td>-0.612903</td>\n      <td>-0.551337</td>\n      <td>-0.835052</td>\n      <td>0</td>\n    </tr>\n  </tbody>\n</table>\n<p>1925 rows × 229 columns</p>\n</div>",
      "text/plain": "              age_above65 age_percentil  gender  disease_grouping_1  \\\nid  window                                                            \n0   0-2                 1          60th       0                 0.0   \n    2-4                 1          60th       0                 0.0   \n    4-6                 1          60th       0                 0.0   \n    6-12                1          60th       0                 0.0   \n    above_12            1          60th       0                 0.0   \n...                   ...           ...     ...                 ...   \n384 0-2                 0          50th       1                 0.0   \n    2-4                 0          50th       1                 0.0   \n    4-6                 0          50th       1                 0.0   \n    6-12                0          50th       1                 0.0   \n    above_12            0          50th       1                 0.0   \n\n              disease_grouping_2  disease_grouping_3  disease_grouping_4  \\\nid  window                                                                 \n0   0-2                      0.0                 0.0                 0.0   \n    2-4                      0.0                 0.0                 0.0   \n    4-6                      0.0                 0.0                 0.0   \n    6-12                     0.0                 0.0                 0.0   \n    above_12                 0.0                 0.0                 0.0   \n...                          ...                 ...                 ...   \n384 0-2                      0.0                 0.0                 0.0   \n    2-4                      0.0                 0.0                 0.0   \n    4-6                      0.0                 0.0                 0.0   \n    6-12                     0.0                 0.0                 0.0   \n    above_12                 0.0                 1.0                 0.0   \n\n              disease_grouping_5  disease_grouping_6  htn  ...  \\\nid  window                                                 ...   \n0   0-2                      1.0                 1.0  0.0  ...   \n    2-4                      1.0                 1.0  0.0  ...   \n    4-6                      1.0                 1.0  0.0  ...   \n    6-12                     1.0                 1.0  0.0  ...   \n    above_12                 1.0                 1.0  0.0  ...   \n...                          ...                 ...  ...  ...   \n384 0-2                      0.0                 0.0  0.0  ...   \n    2-4                      0.0                 0.0  0.0  ...   \n    4-6                      0.0                 0.0  0.0  ...   \n    6-12                     0.0                 0.0  0.0  ...   \n    above_12                 0.0                 0.0  0.0  ...   \n\n              respiratory_rate_diff  temperature_diff  oxygen_saturation_diff  \\\nid  window                                                                      \n0   0-2                   -1.000000         -1.000000               -1.000000   \n    2-4                   -1.000000         -1.000000               -1.000000   \n    4-6                         NaN               NaN                     NaN   \n    6-12                        NaN         -1.000000               -1.000000   \n    above_12               0.176471         -0.238095               -0.818182   \n...                             ...               ...                     ...   \n384 0-2                   -1.000000         -1.000000               -1.000000   \n    2-4                   -1.000000         -1.000000               -1.000000   \n    4-6                   -1.000000         -1.000000               -1.000000   \n    6-12                  -1.000000         -1.000000               -1.000000   \n    above_12              -0.647059         -0.547619               -0.838384   \n\n              bloodpressure_diastolic_diff_rel  \\\nid  window                                       \n0   0-2                              -1.000000   \n    2-4                              -1.000000   \n    4-6                                    NaN   \n    6-12                                   NaN   \n    above_12                         -0.389967   \n...                                        ...   \n384 0-2                              -1.000000   \n    2-4                              -1.000000   \n    4-6                              -1.000000   \n    6-12                             -1.000000   \n    above_12                         -0.701863   \n\n              bloodpressure_sistolic_diff_rel  heart_rate_diff_rel  \\\nid  window                                                           \n0   0-2                             -1.000000            -1.000000   \n    2-4                             -1.000000            -1.000000   \n    4-6                                   NaN                  NaN   \n    6-12                                  NaN                  NaN   \n    above_12                         0.407558            -0.230462   \n...                                       ...                  ...   \n384 0-2                             -1.000000            -1.000000   \n    2-4                             -1.000000            -1.000000   \n    4-6                             -1.000000            -1.000000   \n    6-12                            -1.000000            -1.000000   \n    above_12                        -0.585967            -0.763868   \n\n              respiratory_rate_diff_rel  temperature_diff_rel  \\\nid  window                                                      \n0   0-2                       -1.000000             -1.000000   \n    2-4                       -1.000000             -1.000000   \n    4-6                             NaN                   NaN   \n    6-12                            NaN             -1.000000   \n    above_12                   0.096774             -0.242282   \n...                                 ...                   ...   \n384 0-2                       -1.000000             -1.000000   \n    2-4                       -1.000000             -1.000000   \n    4-6                       -1.000000             -1.000000   \n    6-12                      -1.000000             -1.000000   \n    above_12                  -0.612903             -0.551337   \n\n              oxygen_saturation_diff_rel  icu  \nid  window                                     \n0   0-2                        -1.000000    0  \n    2-4                        -1.000000    0  \n    4-6                              NaN    0  \n    6-12                       -1.000000    0  \n    above_12                   -0.814433    1  \n...                                  ...  ...  \n384 0-2                        -1.000000    0  \n    2-4                        -1.000000    0  \n    4-6                        -1.000000    0  \n    6-12                       -1.000000    0  \n    above_12                   -0.835052    0  \n\n[1925 rows x 229 columns]"
     },
     "execution_count": 23,
     "metadata": {},
     "output_type": "execute_result"
    }
   ],
   "source": [
    "data"
   ]
  },
  {
   "cell_type": "markdown",
   "metadata": {},
   "source": [
    "Now that the data has been validated and properly categorized, it should be exported for being used in the following notebooks."
   ]
  },
  {
   "cell_type": "code",
   "execution_count": 24,
   "metadata": {},
   "outputs": [],
   "source": [
    "import json\n",
    "import pickle\n",
    "\n",
    "\n",
    "data_path = Path('../data/data.pkl')\n",
    "if not data_path.exists():\n",
    "    with data_path.open('wb') as file:\n",
    "        pickle.dump(data, file)\n",
    "\n",
    "groups_path = Path('../data/groups.json')\n",
    "if not groups_path.exists():\n",
    "    with groups_path.open('w') as file:\n",
    "        json.dump(groups, file, indent=2)"
   ]
  },
  {
   "cell_type": "markdown",
   "metadata": {},
   "source": [
    "## Summary"
   ]
  },
  {
   "cell_type": "markdown",
   "metadata": {},
   "source": [
    "This dataset mostly conforms with what is expected from the documentation. The only issue that was found is the variation of values the disease groups take for some of the patients, but it's not possible to know whether these discrepancies are expected. Care will need to be taken with this issue depending on how the data modelling is handled.\n",
    "\n",
    "The *DataFrame* was pickled to be used in subsequent notebooks. The dictionary containing the group each feature belongs to was also exported to aid future data handling."
   ]
  }
 ],
 "metadata": {
  "kernelspec": {
   "display_name": "Python 3.9.2 64-bit ('covid-sirio-libanes': conda)",
   "name": "python392jvsc74a57bd09c8242bc265a9bf850d223c2c72e0ecec2b908f7fad0146577f7efeebce4158b"
  },
  "language_info": {
   "codemirror_mode": {
    "name": "ipython",
    "version": 3
   },
   "file_extension": ".py",
   "mimetype": "text/x-python",
   "name": "python",
   "nbconvert_exporter": "python",
   "pygments_lexer": "ipython3",
   "version": "3.9.2"
  },
  "orig_nbformat": 2
 },
 "nbformat": 4,
 "nbformat_minor": 2
}