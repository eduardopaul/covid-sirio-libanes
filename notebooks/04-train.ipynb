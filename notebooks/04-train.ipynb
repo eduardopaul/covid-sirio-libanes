{
 "cells": [
  {
   "cell_type": "markdown",
   "metadata": {},
   "source": [
    "# Training"
   ]
  },
  {
   "cell_type": "markdown",
   "metadata": {},
   "source": [
    "## Imports"
   ]
  },
  {
   "cell_type": "code",
   "execution_count": 1,
   "metadata": {},
   "outputs": [],
   "source": [
    "import json\n",
    "from pathlib import Path\n",
    "import pickle\n",
    "\n",
    "\n",
    "import pandas as pd\n",
    "from sklearn.discriminant_analysis import LinearDiscriminantAnalysis, QuadraticDiscriminantAnalysis\n",
    "from sklearn.ensemble import RandomForestClassifier\n",
    "from sklearn.impute import SimpleImputer\n",
    "from sklearn.linear_model import LogisticRegression, SGDClassifier\n",
    "from sklearn.naive_bayes import MultinomialNB\n",
    "from sklearn.neighbors import KNeighborsClassifier\n",
    "from sklearn.pipeline import make_pipeline\n",
    "from sklearn.preprocessing import MinMaxScaler, OneHotEncoder\n",
    "from sklearn.svm import LinearSVC, SVC\n",
    "from sklearn.tree import DecisionTreeClassifier\n",
    "\n",
    "\n",
    "train_data = dict()\n",
    "train_data_path = Path('../data/train_data.pkl')\n",
    "with train_data_path.open('rb') as file:\n",
    "    train_data['in'] = pickle.load(file)\n",
    "\n",
    "test_data_path = Path('../data/test_data.pkl')\n",
    "with test_data_path.open('rb') as file:\n",
    "    test_data = pickle.load(file)\n",
    "\n",
    "groups_path = Path('../data/groups.json')\n",
    "with groups_path.open('r') as file:\n",
    "    groups = json.load(file)"
   ]
  },
  {
   "cell_type": "markdown",
   "metadata": {},
   "source": [
    "## Functions definitions"
   ]
  },
  {
   "cell_type": "markdown",
   "metadata": {},
   "source": [
    "### Pre-processing functions"
   ]
  },
  {
   "cell_type": "markdown",
   "metadata": {},
   "source": [
    "As discussed during the exploratory data analysis, there are several pre-processing steps that could be taken. This section defines those steps as functions."
   ]
  },
  {
   "cell_type": "code",
   "execution_count": 2,
   "metadata": {},
   "outputs": [],
   "source": [
    "def drop_redundant_columns(df):\n",
    "    '''\n",
    "    Drop redundant columns from the ``DataFrame``.\n",
    "\n",
    "    Returns the ``DataFrame`` with the ``_diff`` and ``_diff_rel`` columns\n",
    "    removed.\n",
    "    '''\n",
    "    redundant_features = (\n",
    "        df.columns\n",
    "        .str.extract('(\\w+_diff(?:_rel)?(?:__.+)?)')\n",
    "        .squeeze()\n",
    "        .dropna()\n",
    "    )\n",
    "\n",
    "    out_df = df.drop(redundant_features, axis=1)\n",
    "\n",
    "    return out_df\n",
    "\n",
    "\n",
    "def drop_duplicate_columns(df, groups=groups):\n",
    "    '''\n",
    "    Drop ``DataFrame``'s repeated columns.\n",
    "\n",
    "    Since the ``DataFrame`` only has duplicated columns in the ``labs``\n",
    "    category, they can be dropped directly.\n",
    "    '''\n",
    "    # Since some of the columns may have been dropped in a previous operation,\n",
    "    # it is necessary to get the intersection of ``groups['labs']`` with the\n",
    "    # columns present in ``df`` to avoid a ``KeyError``.\n",
    "    columns = df.columns.intersection(groups['labs'])\n",
    "\n",
    "    cols_to_drop = (\n",
    "        df.loc[:, columns]\n",
    "        .columns\n",
    "        .str.extract('(\\w+_(?:mean|median|min|diff|diff_rel)(?:__.+)?)')\n",
    "        .squeeze()\n",
    "        .dropna()\n",
    "    )\n",
    "\n",
    "    out_df = df.drop(cols_to_drop, axis=1)\n",
    "\n",
    "    return out_df\n",
    "\n",
    "\n",
    "def impute_data(df):\n",
    "    '''\n",
    "    Impute missing data.\n",
    "\n",
    "    Fills ``DataFrame`` by each ``id`` group, using backwards and forwards\n",
    "    fill, in this order.\n",
    "    '''\n",
    "    out_df = (\n",
    "        df.groupby('id')\n",
    "        .transform(lambda col: col.bfill().ffill())\n",
    "    )\n",
    "\n",
    "    return out_df\n",
    "\n",
    "def one_hot_encode(df):\n",
    "    '''\n",
    "    One-hot encode ``age_percentil`` column.\n",
    "\n",
    "    Returns ``DataFrame`` with the column ``age_percentil`` substituted by a\n",
    "    set of columns with its one-hot encoded values.\n",
    "    '''\n",
    "    df_ = df.drop(['age_percentil'], axis=1)\n",
    "\n",
    "    dummies = pd.get_dummies(df['age_percentil'])\n",
    "    for col in dummies:\n",
    "        df_.insert(1, col, dummies[col])\n",
    "\n",
    "    return df_\n",
    "\n",
    "def reencode_icu(df):\n",
    "    '''\n",
    "    Return ``df`` with ``icu`` column reencoded.\n",
    "\n",
    "    The returned ``DataFrame``'s ``icu`` column is transformed such that\n",
    "    every row for a given patient is equal to 1 if the patient was\n",
    "    admitted at any point in time and 0 otherwise.\n",
    "    '''\n",
    "    out_df = df.copy()\n",
    "\n",
    "    out_df.loc[:, 'icu'] = (\n",
    "        out_df.loc[:, 'icu']\n",
    "        .groupby('id')\n",
    "        .transform('max')\n",
    "    )\n",
    "\n",
    "    return out_df\n",
    "\n",
    "\n",
    "def process_rows(df, how='every_row', groups=groups):\n",
    "    '''\n",
    "    Process ``DataFrame`` according to discussion in the EDA.\n",
    "    '''\n",
    "    in_df = df.copy()\n",
    "\n",
    "    in_df = reencode_icu(in_df)\n",
    "\n",
    "    if how == 'every_row':\n",
    "        # Nothing has to be done in this case.\n",
    "        out_df = in_df\n",
    "\n",
    "    elif how == 'first_window':\n",
    "        out_df = in_df.loc[(slice(None), '0-2'), :]\n",
    "\n",
    "    elif how == 'aggregate':\n",
    "        agg_funcs_dict = {\n",
    "            'demographics': 'first',\n",
    "            'comorbidities': 'max',\n",
    "            'labs': 'mean',\n",
    "            'vitals': 'mean',\n",
    "        }\n",
    "\n",
    "        agg_funcs = {\n",
    "            feature: agg_funcs_dict[group]\n",
    "            for group, feature_list in groups.items()\n",
    "            for feature in feature_list\n",
    "            # Check if given feature is among ``DataFrame``'s columns in case\n",
    "            # it has been dropped.\n",
    "            if feature in in_df.columns\n",
    "        }\n",
    "\n",
    "        # ``icu`` is not in the groups dictionary.\n",
    "        agg_funcs['icu'] = 'max'\n",
    "\n",
    "        out_df = (\n",
    "            in_df.groupby('id')\n",
    "            .agg(agg_funcs)\n",
    "        )\n",
    "\n",
    "    elif how == 'pivot':\n",
    "        # Only ``labs`` and ``vitals`` have different values for the distinct\n",
    "        # time windows.  The intersection prevents a ``KeyError`` due to\n",
    "        # dropped columns.\n",
    "        features_to_pivot = in_df.columns.intersection(groups['labs']+groups['vitals'])\n",
    "\n",
    "        pivoted_df = in_df[features_to_pivot].unstack('window')\n",
    "\n",
    "        # Flattens the ``MultiIndex`` to a single level.\n",
    "        pivoted_df.columns = pivoted_df.columns.map(\n",
    "            lambda multiindex_tuple: '__'.join(multiindex_tuple).replace('-', '_')\n",
    "        )\n",
    "\n",
    "        # Reconstructs the whole ``DataFrame`` by concatenating with the\n",
    "        # remaining features aggregated.\n",
    "        out_df = pd.concat(\n",
    "            [\n",
    "                in_df[groups['demographics']+groups['comorbidities']].groupby('id').max(),\n",
    "                pivoted_df,\n",
    "                in_df['icu'].groupby('id').first(),\n",
    "            ],\n",
    "            axis=1,\n",
    "        )\n",
    "    \n",
    "    else:\n",
    "        print('Invalid option passed to \"how\" parameter.')\n",
    "\n",
    "    return out_df"
   ]
  },
  {
   "cell_type": "markdown",
   "metadata": {},
   "source": [
    "## Training"
   ]
  },
  {
   "cell_type": "markdown",
   "metadata": {},
   "source": [
    "### Pre-processing"
   ]
  },
  {
   "cell_type": "markdown",
   "metadata": {},
   "source": [
    "Before passing the *train_data* to ``scikit-learn``, it has to go through the pre-processing steps that were discussed during the EDA."
   ]
  },
  {
   "cell_type": "code",
   "execution_count": 3,
   "metadata": {},
   "outputs": [
    {
     "data": {
      "text/html": "<div>\n<style scoped>\n    .dataframe tbody tr th:only-of-type {\n        vertical-align: middle;\n    }\n\n    .dataframe tbody tr th {\n        vertical-align: top;\n    }\n\n    .dataframe thead th {\n        text-align: right;\n    }\n</style>\n<table border=\"1\" class=\"dataframe\">\n  <thead>\n    <tr style=\"text-align: right;\">\n      <th></th>\n      <th></th>\n      <th>age_above65</th>\n      <th>above_90th</th>\n      <th>90th</th>\n      <th>80th</th>\n      <th>70th</th>\n      <th>60th</th>\n      <th>50th</th>\n      <th>40th</th>\n      <th>30th</th>\n      <th>20th</th>\n      <th>...</th>\n      <th>respiratory_rate_min</th>\n      <th>temperature_min</th>\n      <th>oxygen_saturation_min</th>\n      <th>bloodpressure_diastolic_max</th>\n      <th>bloodpressure_sistolic_max</th>\n      <th>heart_rate_max</th>\n      <th>respiratory_rate_max</th>\n      <th>temperature_max</th>\n      <th>oxygen_saturation_max</th>\n      <th>icu</th>\n    </tr>\n    <tr>\n      <th>id</th>\n      <th>window</th>\n      <th></th>\n      <th></th>\n      <th></th>\n      <th></th>\n      <th></th>\n      <th></th>\n      <th></th>\n      <th></th>\n      <th></th>\n      <th></th>\n      <th></th>\n      <th></th>\n      <th></th>\n      <th></th>\n      <th></th>\n      <th></th>\n      <th></th>\n      <th></th>\n      <th></th>\n      <th></th>\n      <th></th>\n    </tr>\n  </thead>\n  <tbody>\n    <tr>\n      <th rowspan=\"5\" valign=\"top\">1</th>\n      <th>0-2</th>\n      <td>1</td>\n      <td>0</td>\n      <td>1</td>\n      <td>0</td>\n      <td>0</td>\n      <td>0</td>\n      <td>0</td>\n      <td>0</td>\n      <td>0</td>\n      <td>0</td>\n      <td>...</td>\n      <td>1.000000</td>\n      <td>0.318681</td>\n      <td>1.000000</td>\n      <td>-0.504274</td>\n      <td>-0.329730</td>\n      <td>-0.059701</td>\n      <td>0.636364</td>\n      <td>-0.275362</td>\n      <td>1.000000</td>\n      <td>1</td>\n    </tr>\n    <tr>\n      <th>2-4</th>\n      <td>1</td>\n      <td>0</td>\n      <td>1</td>\n      <td>0</td>\n      <td>0</td>\n      <td>0</td>\n      <td>0</td>\n      <td>0</td>\n      <td>0</td>\n      <td>0</td>\n      <td>...</td>\n      <td>-0.285714</td>\n      <td>0.318681</td>\n      <td>0.959596</td>\n      <td>-0.589744</td>\n      <td>0.329730</td>\n      <td>-0.388060</td>\n      <td>-0.454545</td>\n      <td>-0.275362</td>\n      <td>0.894737</td>\n      <td>1</td>\n    </tr>\n    <tr>\n      <th>4-6</th>\n      <td>1</td>\n      <td>0</td>\n      <td>1</td>\n      <td>0</td>\n      <td>0</td>\n      <td>0</td>\n      <td>0</td>\n      <td>0</td>\n      <td>0</td>\n      <td>0</td>\n      <td>...</td>\n      <td>-0.357143</td>\n      <td>0.362637</td>\n      <td>1.000000</td>\n      <td>-0.589744</td>\n      <td>0.124324</td>\n      <td>-0.492537</td>\n      <td>-0.515152</td>\n      <td>-0.217391</td>\n      <td>1.000000</td>\n      <td>1</td>\n    </tr>\n    <tr>\n      <th>6-12</th>\n      <td>1</td>\n      <td>0</td>\n      <td>1</td>\n      <td>0</td>\n      <td>0</td>\n      <td>0</td>\n      <td>0</td>\n      <td>0</td>\n      <td>0</td>\n      <td>0</td>\n      <td>...</td>\n      <td>-0.142857</td>\n      <td>0.406593</td>\n      <td>1.000000</td>\n      <td>-0.572650</td>\n      <td>0.167568</td>\n      <td>-0.477612</td>\n      <td>-0.090909</td>\n      <td>-0.014493</td>\n      <td>1.000000</td>\n      <td>1</td>\n    </tr>\n    <tr>\n      <th>above_12</th>\n      <td>1</td>\n      <td>0</td>\n      <td>1</td>\n      <td>0</td>\n      <td>0</td>\n      <td>0</td>\n      <td>0</td>\n      <td>0</td>\n      <td>0</td>\n      <td>0</td>\n      <td>...</td>\n      <td>-1.000000</td>\n      <td>0.010989</td>\n      <td>0.797980</td>\n      <td>0.555556</td>\n      <td>0.556757</td>\n      <td>0.298507</td>\n      <td>0.757576</td>\n      <td>0.710145</td>\n      <td>1.000000</td>\n      <td>1</td>\n    </tr>\n    <tr>\n      <th rowspan=\"5\" valign=\"top\">2</th>\n      <th>0-2</th>\n      <td>0</td>\n      <td>0</td>\n      <td>0</td>\n      <td>0</td>\n      <td>0</td>\n      <td>0</td>\n      <td>0</td>\n      <td>0</td>\n      <td>0</td>\n      <td>0</td>\n      <td>...</td>\n      <td>-0.714286</td>\n      <td>0.604396</td>\n      <td>0.959596</td>\n      <td>-0.435897</td>\n      <td>-0.491892</td>\n      <td>0.000000</td>\n      <td>-0.575758</td>\n      <td>0.101449</td>\n      <td>1.000000</td>\n      <td>1</td>\n    </tr>\n    <tr>\n      <th>2-4</th>\n      <td>0</td>\n      <td>0</td>\n      <td>0</td>\n      <td>0</td>\n      <td>0</td>\n      <td>0</td>\n      <td>0</td>\n      <td>0</td>\n      <td>0</td>\n      <td>0</td>\n      <td>...</td>\n      <td>-0.714286</td>\n      <td>0.604396</td>\n      <td>0.959596</td>\n      <td>-0.435897</td>\n      <td>-0.491892</td>\n      <td>0.000000</td>\n      <td>-0.575758</td>\n      <td>0.101449</td>\n      <td>1.000000</td>\n      <td>1</td>\n    </tr>\n    <tr>\n      <th>4-6</th>\n      <td>0</td>\n      <td>0</td>\n      <td>0</td>\n      <td>0</td>\n      <td>0</td>\n      <td>0</td>\n      <td>0</td>\n      <td>0</td>\n      <td>0</td>\n      <td>0</td>\n      <td>...</td>\n      <td>-0.714286</td>\n      <td>0.604396</td>\n      <td>0.959596</td>\n      <td>-0.435897</td>\n      <td>-0.491892</td>\n      <td>0.000000</td>\n      <td>-0.575758</td>\n      <td>0.101449</td>\n      <td>1.000000</td>\n      <td>1</td>\n    </tr>\n    <tr>\n      <th>6-12</th>\n      <td>0</td>\n      <td>0</td>\n      <td>0</td>\n      <td>0</td>\n      <td>0</td>\n      <td>0</td>\n      <td>0</td>\n      <td>0</td>\n      <td>0</td>\n      <td>0</td>\n      <td>...</td>\n      <td>-0.642857</td>\n      <td>0.604396</td>\n      <td>0.797980</td>\n      <td>-0.572650</td>\n      <td>-0.762162</td>\n      <td>0.000000</td>\n      <td>-0.696970</td>\n      <td>0.101449</td>\n      <td>1.000000</td>\n      <td>1</td>\n    </tr>\n    <tr>\n      <th>above_12</th>\n      <td>0</td>\n      <td>0</td>\n      <td>0</td>\n      <td>0</td>\n      <td>0</td>\n      <td>0</td>\n      <td>0</td>\n      <td>0</td>\n      <td>0</td>\n      <td>0</td>\n      <td>...</td>\n      <td>-0.642857</td>\n      <td>0.142857</td>\n      <td>0.878788</td>\n      <td>-0.247863</td>\n      <td>-0.351351</td>\n      <td>-0.149254</td>\n      <td>-0.454545</td>\n      <td>0.101449</td>\n      <td>0.947368</td>\n      <td>1</td>\n    </tr>\n    <tr>\n      <th rowspan=\"5\" valign=\"top\">3</th>\n      <th>0-2</th>\n      <td>0</td>\n      <td>0</td>\n      <td>0</td>\n      <td>0</td>\n      <td>0</td>\n      <td>0</td>\n      <td>0</td>\n      <td>1</td>\n      <td>0</td>\n      <td>0</td>\n      <td>...</td>\n      <td>-0.357143</td>\n      <td>0.208791</td>\n      <td>0.878788</td>\n      <td>-0.299145</td>\n      <td>-0.556757</td>\n      <td>-0.626866</td>\n      <td>-0.515152</td>\n      <td>-0.420290</td>\n      <td>0.684211</td>\n      <td>0</td>\n    </tr>\n    <tr>\n      <th>2-4</th>\n      <td>0</td>\n      <td>0</td>\n      <td>0</td>\n      <td>0</td>\n      <td>0</td>\n      <td>0</td>\n      <td>0</td>\n      <td>1</td>\n      <td>0</td>\n      <td>0</td>\n      <td>...</td>\n      <td>-0.357143</td>\n      <td>0.208791</td>\n      <td>0.878788</td>\n      <td>-0.299145</td>\n      <td>-0.556757</td>\n      <td>-0.626866</td>\n      <td>-0.515152</td>\n      <td>-0.420290</td>\n      <td>0.684211</td>\n      <td>0</td>\n    </tr>\n    <tr>\n      <th>4-6</th>\n      <td>0</td>\n      <td>0</td>\n      <td>0</td>\n      <td>0</td>\n      <td>0</td>\n      <td>0</td>\n      <td>0</td>\n      <td>1</td>\n      <td>0</td>\n      <td>0</td>\n      <td>...</td>\n      <td>-0.357143</td>\n      <td>0.208791</td>\n      <td>0.878788</td>\n      <td>-0.299145</td>\n      <td>-0.556757</td>\n      <td>-0.626866</td>\n      <td>-0.515152</td>\n      <td>-0.420290</td>\n      <td>0.684211</td>\n      <td>0</td>\n    </tr>\n    <tr>\n      <th>6-12</th>\n      <td>0</td>\n      <td>0</td>\n      <td>0</td>\n      <td>0</td>\n      <td>0</td>\n      <td>0</td>\n      <td>0</td>\n      <td>1</td>\n      <td>0</td>\n      <td>0</td>\n      <td>...</td>\n      <td>-0.428571</td>\n      <td>0.318681</td>\n      <td>0.838384</td>\n      <td>-0.589744</td>\n      <td>-0.675676</td>\n      <td>-0.641791</td>\n      <td>-0.575758</td>\n      <td>-0.275362</td>\n      <td>0.578947</td>\n      <td>0</td>\n    </tr>\n    <tr>\n      <th>above_12</th>\n      <td>0</td>\n      <td>0</td>\n      <td>0</td>\n      <td>0</td>\n      <td>0</td>\n      <td>0</td>\n      <td>0</td>\n      <td>1</td>\n      <td>0</td>\n      <td>0</td>\n      <td>...</td>\n      <td>-0.857143</td>\n      <td>0.120879</td>\n      <td>0.171717</td>\n      <td>0.145299</td>\n      <td>-0.286486</td>\n      <td>0.477612</td>\n      <td>-0.272727</td>\n      <td>0.623188</td>\n      <td>1.000000</td>\n      <td>0</td>\n    </tr>\n  </tbody>\n</table>\n<p>15 rows × 82 columns</p>\n</div>",
      "text/plain": "             age_above65  above_90th  90th  80th  70th  60th  50th  40th  \\\nid window                                                                  \n1  0-2                 1           0     1     0     0     0     0     0   \n   2-4                 1           0     1     0     0     0     0     0   \n   4-6                 1           0     1     0     0     0     0     0   \n   6-12                1           0     1     0     0     0     0     0   \n   above_12            1           0     1     0     0     0     0     0   \n2  0-2                 0           0     0     0     0     0     0     0   \n   2-4                 0           0     0     0     0     0     0     0   \n   4-6                 0           0     0     0     0     0     0     0   \n   6-12                0           0     0     0     0     0     0     0   \n   above_12            0           0     0     0     0     0     0     0   \n3  0-2                 0           0     0     0     0     0     0     1   \n   2-4                 0           0     0     0     0     0     0     1   \n   4-6                 0           0     0     0     0     0     0     1   \n   6-12                0           0     0     0     0     0     0     1   \n   above_12            0           0     0     0     0     0     0     1   \n\n             30th  20th  ...  respiratory_rate_min  temperature_min  \\\nid window                ...                                          \n1  0-2          0     0  ...              1.000000         0.318681   \n   2-4          0     0  ...             -0.285714         0.318681   \n   4-6          0     0  ...             -0.357143         0.362637   \n   6-12         0     0  ...             -0.142857         0.406593   \n   above_12     0     0  ...             -1.000000         0.010989   \n2  0-2          0     0  ...             -0.714286         0.604396   \n   2-4          0     0  ...             -0.714286         0.604396   \n   4-6          0     0  ...             -0.714286         0.604396   \n   6-12         0     0  ...             -0.642857         0.604396   \n   above_12     0     0  ...             -0.642857         0.142857   \n3  0-2          0     0  ...             -0.357143         0.208791   \n   2-4          0     0  ...             -0.357143         0.208791   \n   4-6          0     0  ...             -0.357143         0.208791   \n   6-12         0     0  ...             -0.428571         0.318681   \n   above_12     0     0  ...             -0.857143         0.120879   \n\n             oxygen_saturation_min  bloodpressure_diastolic_max  \\\nid window                                                         \n1  0-2                    1.000000                    -0.504274   \n   2-4                    0.959596                    -0.589744   \n   4-6                    1.000000                    -0.589744   \n   6-12                   1.000000                    -0.572650   \n   above_12               0.797980                     0.555556   \n2  0-2                    0.959596                    -0.435897   \n   2-4                    0.959596                    -0.435897   \n   4-6                    0.959596                    -0.435897   \n   6-12                   0.797980                    -0.572650   \n   above_12               0.878788                    -0.247863   \n3  0-2                    0.878788                    -0.299145   \n   2-4                    0.878788                    -0.299145   \n   4-6                    0.878788                    -0.299145   \n   6-12                   0.838384                    -0.589744   \n   above_12               0.171717                     0.145299   \n\n             bloodpressure_sistolic_max  heart_rate_max  respiratory_rate_max  \\\nid window                                                                       \n1  0-2                        -0.329730       -0.059701              0.636364   \n   2-4                         0.329730       -0.388060             -0.454545   \n   4-6                         0.124324       -0.492537             -0.515152   \n   6-12                        0.167568       -0.477612             -0.090909   \n   above_12                    0.556757        0.298507              0.757576   \n2  0-2                        -0.491892        0.000000             -0.575758   \n   2-4                        -0.491892        0.000000             -0.575758   \n   4-6                        -0.491892        0.000000             -0.575758   \n   6-12                       -0.762162        0.000000             -0.696970   \n   above_12                   -0.351351       -0.149254             -0.454545   \n3  0-2                        -0.556757       -0.626866             -0.515152   \n   2-4                        -0.556757       -0.626866             -0.515152   \n   4-6                        -0.556757       -0.626866             -0.515152   \n   6-12                       -0.675676       -0.641791             -0.575758   \n   above_12                   -0.286486        0.477612             -0.272727   \n\n             temperature_max  oxygen_saturation_max  icu  \nid window                                                 \n1  0-2             -0.275362               1.000000    1  \n   2-4             -0.275362               0.894737    1  \n   4-6             -0.217391               1.000000    1  \n   6-12            -0.014493               1.000000    1  \n   above_12         0.710145               1.000000    1  \n2  0-2              0.101449               1.000000    1  \n   2-4              0.101449               1.000000    1  \n   4-6              0.101449               1.000000    1  \n   6-12             0.101449               1.000000    1  \n   above_12         0.101449               0.947368    1  \n3  0-2             -0.420290               0.684211    0  \n   2-4             -0.420290               0.684211    0  \n   4-6             -0.420290               0.684211    0  \n   6-12            -0.275362               0.578947    0  \n   above_12         0.623188               1.000000    0  \n\n[15 rows x 82 columns]"
     },
     "execution_count": 3,
     "metadata": {},
     "output_type": "execute_result"
    }
   ],
   "source": [
    "train_data['preprocessed'] = (\n",
    "    train_data['in']\n",
    "    .pipe(drop_redundant_columns)\n",
    "    .pipe(drop_duplicate_columns)\n",
    "    .pipe(impute_data)\n",
    "    .pipe(one_hot_encode)\n",
    "    .pipe(reencode_icu)\n",
    ")\n",
    "\n",
    "train_data['preprocessed'].head(15)"
   ]
  },
  {
   "cell_type": "markdown",
   "metadata": {},
   "source": [
    "The *test_data* also goes through all of the pre-processing."
   ]
  },
  {
   "cell_type": "code",
   "execution_count": 4,
   "metadata": {},
   "outputs": [
    {
     "data": {
      "text/html": "<div>\n<style scoped>\n    .dataframe tbody tr th:only-of-type {\n        vertical-align: middle;\n    }\n\n    .dataframe tbody tr th {\n        vertical-align: top;\n    }\n\n    .dataframe thead th {\n        text-align: right;\n    }\n</style>\n<table border=\"1\" class=\"dataframe\">\n  <thead>\n    <tr style=\"text-align: right;\">\n      <th></th>\n      <th></th>\n      <th>age_above65</th>\n      <th>above_90th</th>\n      <th>90th</th>\n      <th>80th</th>\n      <th>70th</th>\n      <th>60th</th>\n      <th>50th</th>\n      <th>40th</th>\n      <th>30th</th>\n      <th>20th</th>\n      <th>...</th>\n      <th>respiratory_rate_min</th>\n      <th>temperature_min</th>\n      <th>oxygen_saturation_min</th>\n      <th>bloodpressure_diastolic_max</th>\n      <th>bloodpressure_sistolic_max</th>\n      <th>heart_rate_max</th>\n      <th>respiratory_rate_max</th>\n      <th>temperature_max</th>\n      <th>oxygen_saturation_max</th>\n      <th>icu</th>\n    </tr>\n    <tr>\n      <th>id</th>\n      <th>window</th>\n      <th></th>\n      <th></th>\n      <th></th>\n      <th></th>\n      <th></th>\n      <th></th>\n      <th></th>\n      <th></th>\n      <th></th>\n      <th></th>\n      <th></th>\n      <th></th>\n      <th></th>\n      <th></th>\n      <th></th>\n      <th></th>\n      <th></th>\n      <th></th>\n      <th></th>\n      <th></th>\n      <th></th>\n    </tr>\n  </thead>\n  <tbody>\n    <tr>\n      <th rowspan=\"5\" valign=\"top\">0</th>\n      <th>0-2</th>\n      <td>1</td>\n      <td>0</td>\n      <td>0</td>\n      <td>0</td>\n      <td>0</td>\n      <td>1</td>\n      <td>0</td>\n      <td>0</td>\n      <td>0</td>\n      <td>0</td>\n      <td>...</td>\n      <td>-0.500000</td>\n      <td>0.208791</td>\n      <td>0.898990</td>\n      <td>-0.247863</td>\n      <td>-0.459459</td>\n      <td>-0.432836</td>\n      <td>-0.636364</td>\n      <td>-0.420290</td>\n      <td>0.736842</td>\n      <td>1</td>\n    </tr>\n    <tr>\n      <th>2-4</th>\n      <td>1</td>\n      <td>0</td>\n      <td>0</td>\n      <td>0</td>\n      <td>0</td>\n      <td>1</td>\n      <td>0</td>\n      <td>0</td>\n      <td>0</td>\n      <td>0</td>\n      <td>...</td>\n      <td>-0.500000</td>\n      <td>0.714286</td>\n      <td>0.838384</td>\n      <td>-0.076923</td>\n      <td>-0.459459</td>\n      <td>-0.313433</td>\n      <td>-0.636364</td>\n      <td>0.246377</td>\n      <td>0.578947</td>\n      <td>1</td>\n    </tr>\n    <tr>\n      <th>4-6</th>\n      <td>1</td>\n      <td>0</td>\n      <td>0</td>\n      <td>0</td>\n      <td>0</td>\n      <td>1</td>\n      <td>0</td>\n      <td>0</td>\n      <td>0</td>\n      <td>0</td>\n      <td>...</td>\n      <td>-0.857143</td>\n      <td>0.318681</td>\n      <td>0.898990</td>\n      <td>-0.076923</td>\n      <td>0.286486</td>\n      <td>0.298507</td>\n      <td>0.272727</td>\n      <td>-0.275362</td>\n      <td>0.736842</td>\n      <td>1</td>\n    </tr>\n    <tr>\n      <th>6-12</th>\n      <td>1</td>\n      <td>0</td>\n      <td>0</td>\n      <td>0</td>\n      <td>0</td>\n      <td>1</td>\n      <td>0</td>\n      <td>0</td>\n      <td>0</td>\n      <td>0</td>\n      <td>...</td>\n      <td>-0.857143</td>\n      <td>0.318681</td>\n      <td>0.898990</td>\n      <td>-0.076923</td>\n      <td>0.286486</td>\n      <td>0.298507</td>\n      <td>0.272727</td>\n      <td>-0.275362</td>\n      <td>0.736842</td>\n      <td>1</td>\n    </tr>\n    <tr>\n      <th>above_12</th>\n      <td>1</td>\n      <td>0</td>\n      <td>0</td>\n      <td>0</td>\n      <td>0</td>\n      <td>1</td>\n      <td>0</td>\n      <td>0</td>\n      <td>0</td>\n      <td>0</td>\n      <td>...</td>\n      <td>-0.857143</td>\n      <td>0.098901</td>\n      <td>0.797980</td>\n      <td>-0.076923</td>\n      <td>0.286486</td>\n      <td>0.298507</td>\n      <td>0.272727</td>\n      <td>0.362319</td>\n      <td>0.947368</td>\n      <td>1</td>\n    </tr>\n    <tr>\n      <th rowspan=\"5\" valign=\"top\">4</th>\n      <th>0-2</th>\n      <td>0</td>\n      <td>0</td>\n      <td>0</td>\n      <td>0</td>\n      <td>0</td>\n      <td>0</td>\n      <td>0</td>\n      <td>0</td>\n      <td>0</td>\n      <td>0</td>\n      <td>...</td>\n      <td>-0.571429</td>\n      <td>0.538462</td>\n      <td>0.939394</td>\n      <td>-0.076923</td>\n      <td>-0.351351</td>\n      <td>-0.044776</td>\n      <td>-0.575758</td>\n      <td>0.072464</td>\n      <td>0.894737</td>\n      <td>0</td>\n    </tr>\n    <tr>\n      <th>2-4</th>\n      <td>0</td>\n      <td>0</td>\n      <td>0</td>\n      <td>0</td>\n      <td>0</td>\n      <td>0</td>\n      <td>0</td>\n      <td>0</td>\n      <td>0</td>\n      <td>0</td>\n      <td>...</td>\n      <td>-0.571429</td>\n      <td>0.538462</td>\n      <td>0.939394</td>\n      <td>-0.076923</td>\n      <td>-0.351351</td>\n      <td>-0.044776</td>\n      <td>-0.575758</td>\n      <td>0.072464</td>\n      <td>0.894737</td>\n      <td>0</td>\n    </tr>\n    <tr>\n      <th>4-6</th>\n      <td>0</td>\n      <td>0</td>\n      <td>0</td>\n      <td>0</td>\n      <td>0</td>\n      <td>0</td>\n      <td>0</td>\n      <td>0</td>\n      <td>0</td>\n      <td>0</td>\n      <td>...</td>\n      <td>-0.571429</td>\n      <td>0.538462</td>\n      <td>0.939394</td>\n      <td>-0.076923</td>\n      <td>-0.351351</td>\n      <td>-0.044776</td>\n      <td>-0.575758</td>\n      <td>0.072464</td>\n      <td>0.894737</td>\n      <td>0</td>\n    </tr>\n    <tr>\n      <th>6-12</th>\n      <td>0</td>\n      <td>0</td>\n      <td>0</td>\n      <td>0</td>\n      <td>0</td>\n      <td>0</td>\n      <td>0</td>\n      <td>0</td>\n      <td>0</td>\n      <td>0</td>\n      <td>...</td>\n      <td>-0.428571</td>\n      <td>0.340659</td>\n      <td>0.939394</td>\n      <td>-0.247863</td>\n      <td>-0.351351</td>\n      <td>0.000000</td>\n      <td>-0.575758</td>\n      <td>0.130435</td>\n      <td>0.947368</td>\n      <td>0</td>\n    </tr>\n    <tr>\n      <th>above_12</th>\n      <td>0</td>\n      <td>0</td>\n      <td>0</td>\n      <td>0</td>\n      <td>0</td>\n      <td>0</td>\n      <td>0</td>\n      <td>0</td>\n      <td>0</td>\n      <td>0</td>\n      <td>...</td>\n      <td>-0.500000</td>\n      <td>0.208791</td>\n      <td>0.898990</td>\n      <td>0.094017</td>\n      <td>-0.178378</td>\n      <td>0.104478</td>\n      <td>-0.454545</td>\n      <td>0.014493</td>\n      <td>0.894737</td>\n      <td>0</td>\n    </tr>\n    <tr>\n      <th rowspan=\"5\" valign=\"top\">11</th>\n      <th>0-2</th>\n      <td>1</td>\n      <td>0</td>\n      <td>0</td>\n      <td>1</td>\n      <td>0</td>\n      <td>0</td>\n      <td>0</td>\n      <td>0</td>\n      <td>0</td>\n      <td>0</td>\n      <td>...</td>\n      <td>-0.285714</td>\n      <td>0.868132</td>\n      <td>0.878788</td>\n      <td>-0.282051</td>\n      <td>-0.470270</td>\n      <td>-0.537313</td>\n      <td>-0.454545</td>\n      <td>0.449275</td>\n      <td>0.684211</td>\n      <td>1</td>\n    </tr>\n    <tr>\n      <th>2-4</th>\n      <td>1</td>\n      <td>0</td>\n      <td>0</td>\n      <td>1</td>\n      <td>0</td>\n      <td>0</td>\n      <td>0</td>\n      <td>0</td>\n      <td>0</td>\n      <td>0</td>\n      <td>...</td>\n      <td>-0.285714</td>\n      <td>0.868132</td>\n      <td>0.878788</td>\n      <td>-0.282051</td>\n      <td>-0.470270</td>\n      <td>-0.537313</td>\n      <td>-0.454545</td>\n      <td>0.449275</td>\n      <td>0.684211</td>\n      <td>1</td>\n    </tr>\n    <tr>\n      <th>4-6</th>\n      <td>1</td>\n      <td>0</td>\n      <td>0</td>\n      <td>1</td>\n      <td>0</td>\n      <td>0</td>\n      <td>0</td>\n      <td>0</td>\n      <td>0</td>\n      <td>0</td>\n      <td>...</td>\n      <td>-0.285714</td>\n      <td>0.868132</td>\n      <td>0.878788</td>\n      <td>-0.282051</td>\n      <td>-0.470270</td>\n      <td>-0.537313</td>\n      <td>-0.454545</td>\n      <td>0.449275</td>\n      <td>0.684211</td>\n      <td>1</td>\n    </tr>\n    <tr>\n      <th>6-12</th>\n      <td>1</td>\n      <td>0</td>\n      <td>0</td>\n      <td>1</td>\n      <td>0</td>\n      <td>0</td>\n      <td>0</td>\n      <td>0</td>\n      <td>0</td>\n      <td>0</td>\n      <td>...</td>\n      <td>0.071429</td>\n      <td>0.494505</td>\n      <td>0.898990</td>\n      <td>-0.623932</td>\n      <td>-0.535135</td>\n      <td>-0.522388</td>\n      <td>-0.151515</td>\n      <td>-0.043478</td>\n      <td>0.736842</td>\n      <td>1</td>\n    </tr>\n    <tr>\n      <th>above_12</th>\n      <td>1</td>\n      <td>0</td>\n      <td>0</td>\n      <td>1</td>\n      <td>0</td>\n      <td>0</td>\n      <td>0</td>\n      <td>0</td>\n      <td>0</td>\n      <td>0</td>\n      <td>...</td>\n      <td>-0.642857</td>\n      <td>0.076923</td>\n      <td>0.797980</td>\n      <td>-0.247863</td>\n      <td>-0.351351</td>\n      <td>-0.328358</td>\n      <td>0.272727</td>\n      <td>0.217391</td>\n      <td>0.789474</td>\n      <td>1</td>\n    </tr>\n  </tbody>\n</table>\n<p>15 rows × 82 columns</p>\n</div>",
      "text/plain": "             age_above65  above_90th  90th  80th  70th  60th  50th  40th  \\\nid window                                                                  \n0  0-2                 1           0     0     0     0     1     0     0   \n   2-4                 1           0     0     0     0     1     0     0   \n   4-6                 1           0     0     0     0     1     0     0   \n   6-12                1           0     0     0     0     1     0     0   \n   above_12            1           0     0     0     0     1     0     0   \n4  0-2                 0           0     0     0     0     0     0     0   \n   2-4                 0           0     0     0     0     0     0     0   \n   4-6                 0           0     0     0     0     0     0     0   \n   6-12                0           0     0     0     0     0     0     0   \n   above_12            0           0     0     0     0     0     0     0   \n11 0-2                 1           0     0     1     0     0     0     0   \n   2-4                 1           0     0     1     0     0     0     0   \n   4-6                 1           0     0     1     0     0     0     0   \n   6-12                1           0     0     1     0     0     0     0   \n   above_12            1           0     0     1     0     0     0     0   \n\n             30th  20th  ...  respiratory_rate_min  temperature_min  \\\nid window                ...                                          \n0  0-2          0     0  ...             -0.500000         0.208791   \n   2-4          0     0  ...             -0.500000         0.714286   \n   4-6          0     0  ...             -0.857143         0.318681   \n   6-12         0     0  ...             -0.857143         0.318681   \n   above_12     0     0  ...             -0.857143         0.098901   \n4  0-2          0     0  ...             -0.571429         0.538462   \n   2-4          0     0  ...             -0.571429         0.538462   \n   4-6          0     0  ...             -0.571429         0.538462   \n   6-12         0     0  ...             -0.428571         0.340659   \n   above_12     0     0  ...             -0.500000         0.208791   \n11 0-2          0     0  ...             -0.285714         0.868132   \n   2-4          0     0  ...             -0.285714         0.868132   \n   4-6          0     0  ...             -0.285714         0.868132   \n   6-12         0     0  ...              0.071429         0.494505   \n   above_12     0     0  ...             -0.642857         0.076923   \n\n             oxygen_saturation_min  bloodpressure_diastolic_max  \\\nid window                                                         \n0  0-2                    0.898990                    -0.247863   \n   2-4                    0.838384                    -0.076923   \n   4-6                    0.898990                    -0.076923   \n   6-12                   0.898990                    -0.076923   \n   above_12               0.797980                    -0.076923   \n4  0-2                    0.939394                    -0.076923   \n   2-4                    0.939394                    -0.076923   \n   4-6                    0.939394                    -0.076923   \n   6-12                   0.939394                    -0.247863   \n   above_12               0.898990                     0.094017   \n11 0-2                    0.878788                    -0.282051   \n   2-4                    0.878788                    -0.282051   \n   4-6                    0.878788                    -0.282051   \n   6-12                   0.898990                    -0.623932   \n   above_12               0.797980                    -0.247863   \n\n             bloodpressure_sistolic_max  heart_rate_max  respiratory_rate_max  \\\nid window                                                                       \n0  0-2                        -0.459459       -0.432836             -0.636364   \n   2-4                        -0.459459       -0.313433             -0.636364   \n   4-6                         0.286486        0.298507              0.272727   \n   6-12                        0.286486        0.298507              0.272727   \n   above_12                    0.286486        0.298507              0.272727   \n4  0-2                        -0.351351       -0.044776             -0.575758   \n   2-4                        -0.351351       -0.044776             -0.575758   \n   4-6                        -0.351351       -0.044776             -0.575758   \n   6-12                       -0.351351        0.000000             -0.575758   \n   above_12                   -0.178378        0.104478             -0.454545   \n11 0-2                        -0.470270       -0.537313             -0.454545   \n   2-4                        -0.470270       -0.537313             -0.454545   \n   4-6                        -0.470270       -0.537313             -0.454545   \n   6-12                       -0.535135       -0.522388             -0.151515   \n   above_12                   -0.351351       -0.328358              0.272727   \n\n             temperature_max  oxygen_saturation_max  icu  \nid window                                                 \n0  0-2             -0.420290               0.736842    1  \n   2-4              0.246377               0.578947    1  \n   4-6             -0.275362               0.736842    1  \n   6-12            -0.275362               0.736842    1  \n   above_12         0.362319               0.947368    1  \n4  0-2              0.072464               0.894737    0  \n   2-4              0.072464               0.894737    0  \n   4-6              0.072464               0.894737    0  \n   6-12             0.130435               0.947368    0  \n   above_12         0.014493               0.894737    0  \n11 0-2              0.449275               0.684211    1  \n   2-4              0.449275               0.684211    1  \n   4-6              0.449275               0.684211    1  \n   6-12            -0.043478               0.736842    1  \n   above_12         0.217391               0.789474    1  \n\n[15 rows x 82 columns]"
     },
     "execution_count": 4,
     "metadata": {},
     "output_type": "execute_result"
    }
   ],
   "source": [
    "test_data = (\n",
    "    test_data\n",
    "    .pipe(drop_redundant_columns)\n",
    "    .pipe(drop_duplicate_columns)\n",
    "    .pipe(impute_data)\n",
    "    .pipe(one_hot_encode)\n",
    "    .pipe(reencode_icu)\n",
    ")\n",
    "\n",
    "test_data.head(15)"
   ]
  },
  {
   "cell_type": "markdown",
   "metadata": {},
   "source": [
    "### Training"
   ]
  },
  {
   "cell_type": "code",
   "execution_count": 5,
   "metadata": {},
   "outputs": [],
   "source": [
    "from tempfile import mkdtemp\n",
    "from shutil import rmtree\n",
    "\n",
    "cachedir = mkdtemp()\n",
    "\n",
    "train_X = train_data['preprocessed'].drop(['icu'], axis=1)\n",
    "train_y = train_data['preprocessed']['icu']\n",
    "\n",
    "pipeline = make_pipeline(\n",
    "    SimpleImputer(),\n",
    "    LogisticRegression(max_iter=1000),\n",
    "    memory=cachedir,\n",
    ")\n",
    "\n",
    "pipeline.fit(train_X, train_y)\n",
    "\n",
    "rmtree(cachedir)"
   ]
  },
  {
   "cell_type": "code",
   "execution_count": 6,
   "metadata": {},
   "outputs": [
    {
     "data": {
      "text/plain": "0.766"
     },
     "execution_count": 6,
     "metadata": {},
     "output_type": "execute_result"
    }
   ],
   "source": [
    "test_X = test_data.drop(['icu'], axis=1)\n",
    "test_y = test_data['icu']\n",
    "\n",
    "results = pd.concat(\n",
    "    [\n",
    "        test_y,\n",
    "        pd.Series(pipeline.predict(test_X), index=test_y.index, name='prediction').to_frame(),\n",
    "    ],\n",
    "    axis=1,\n",
    ")\n",
    "\n",
    "results.eval('correct = icu == prediction', inplace=True)\n",
    "\n",
    "results['correct'].sum() / results.shape[0]"
   ]
  },
  {
   "cell_type": "code",
   "execution_count": 7,
   "metadata": {},
   "outputs": [
    {
     "name": "stdout",
     "output_type": "stream",
     "text": [
      "Time window: 0-2\n",
      "    accuracy: 0.7\n",
      "    recall: 0.7058823529411765\n",
      "\n",
      "\n",
      "Time window: 2-4\n",
      "    accuracy: 0.67\n",
      "    recall: 0.6470588235294118\n",
      "\n",
      "\n",
      "Time window: 4-6\n",
      "    accuracy: 0.81\n",
      "    recall: 0.8235294117647058\n",
      "\n",
      "\n",
      "Time window: 6-12\n",
      "    accuracy: 0.81\n",
      "    recall: 0.8627450980392157\n",
      "\n",
      "\n",
      "Time window: above_12\n",
      "    accuracy: 0.84\n",
      "    recall: 0.8627450980392157\n",
      "\n",
      "\n"
     ]
    }
   ],
   "source": [
    "from sklearn.metrics import accuracy_score, recall_score\n",
    "\n",
    "predictions = pd.Series(\n",
    "    pipeline.predict(test_X),\n",
    "    index=test_y.index,\n",
    "    name='prediction'\n",
    ")\n",
    "\n",
    "time_windows = ['0-2', '2-4', '4-6', '6-12', 'above_12']\n",
    "for time_window in time_windows:\n",
    "    rows_to_consider = (slice(None), time_window) \n",
    "    test = test_y[rows_to_consider]\n",
    "    pred = predictions[rows_to_consider]\n",
    "    print(\n",
    "        f'Time window: {time_window}',\n",
    "        f'    accuracy: {accuracy_score(test, pred)}',\n",
    "        f'    recall: {recall_score(test, pred)}',\n",
    "        '\\n',\n",
    "        sep='\\n',\n",
    "    )"
   ]
  }
 ],
 "metadata": {
  "kernelspec": {
   "display_name": "Python 3.9.2 64-bit ('covid19': conda)",
   "name": "python392jvsc74a57bd001df4937fe10f0b782b7cc58276db2d8e1dd1e5af07b5f89f2331fd46a13fc9e"
  },
  "language_info": {
   "codemirror_mode": {
    "name": "ipython",
    "version": 3
   },
   "file_extension": ".py",
   "mimetype": "text/x-python",
   "name": "python",
   "nbconvert_exporter": "python",
   "pygments_lexer": "ipython3",
   "version": "3.9.2"
  },
  "orig_nbformat": 2
 },
 "nbformat": 4,
 "nbformat_minor": 2
}