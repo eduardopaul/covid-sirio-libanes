{
 "cells": [
  {
   "cell_type": "markdown",
   "metadata": {},
   "source": [
    "# Splitting the data"
   ]
  },
  {
   "cell_type": "markdown",
   "metadata": {},
   "source": [
    "It's important to make sure all models trained can be compared on equal grounds, which means always using the same train/test split.\n",
    "\n",
    "Depending on how the patients' different time windows are used, the models may be fed with one or multiple rows corresponding to each patient.\n",
    "This fact can make splitting inconsistent if done on the usual row basis:\n",
    "- If the splits are done before the rows processing, it will certainly be the case that many patients will have some of their time windows assigned to the train set and the other time windows assigned to the test set.\n",
    "    - This would make the aggregating procedures not work.\n",
    "- If the splits are done after the rows processing, they can't be done consistently by row. This is because the different processing procedures produce datasets with distinct numbers of rows.\n",
    "\n",
    "For this reason, instead of splitting by individual rows, in this case it's better to split by patient *id*.\n",
    "This way, the same patients will be in the train/test sets, regardless of how the time windows are being handled, and then processed without issue."
   ]
  },
  {
   "cell_type": "markdown",
   "metadata": {},
   "source": [
    "## Importing the data"
   ]
  },
  {
   "cell_type": "code",
   "execution_count": 1,
   "metadata": {},
   "outputs": [
    {
     "data": {
      "text/html": "<div>\n<style scoped>\n    .dataframe tbody tr th:only-of-type {\n        vertical-align: middle;\n    }\n\n    .dataframe tbody tr th {\n        vertical-align: top;\n    }\n\n    .dataframe thead th {\n        text-align: right;\n    }\n</style>\n<table border=\"1\" class=\"dataframe\">\n  <thead>\n    <tr style=\"text-align: right;\">\n      <th></th>\n      <th></th>\n      <th>age_above65</th>\n      <th>age_percentil</th>\n      <th>gender</th>\n      <th>disease_grouping_1</th>\n      <th>disease_grouping_2</th>\n      <th>disease_grouping_3</th>\n      <th>disease_grouping_4</th>\n      <th>disease_grouping_5</th>\n      <th>disease_grouping_6</th>\n      <th>htn</th>\n      <th>...</th>\n      <th>respiratory_rate_diff</th>\n      <th>temperature_diff</th>\n      <th>oxygen_saturation_diff</th>\n      <th>bloodpressure_diastolic_diff_rel</th>\n      <th>bloodpressure_sistolic_diff_rel</th>\n      <th>heart_rate_diff_rel</th>\n      <th>respiratory_rate_diff_rel</th>\n      <th>temperature_diff_rel</th>\n      <th>oxygen_saturation_diff_rel</th>\n      <th>icu</th>\n    </tr>\n    <tr>\n      <th>id</th>\n      <th>window</th>\n      <th></th>\n      <th></th>\n      <th></th>\n      <th></th>\n      <th></th>\n      <th></th>\n      <th></th>\n      <th></th>\n      <th></th>\n      <th></th>\n      <th></th>\n      <th></th>\n      <th></th>\n      <th></th>\n      <th></th>\n      <th></th>\n      <th></th>\n      <th></th>\n      <th></th>\n      <th></th>\n      <th></th>\n    </tr>\n  </thead>\n  <tbody>\n    <tr>\n      <th rowspan=\"5\" valign=\"top\">0</th>\n      <th>0-2</th>\n      <td>1</td>\n      <td>60th</td>\n      <td>0</td>\n      <td>0.0</td>\n      <td>0.0</td>\n      <td>0.0</td>\n      <td>0.0</td>\n      <td>1.0</td>\n      <td>1.0</td>\n      <td>0.0</td>\n      <td>...</td>\n      <td>-1.000000</td>\n      <td>-1.000000</td>\n      <td>-1.000000</td>\n      <td>-1.000000</td>\n      <td>-1.000000</td>\n      <td>-1.000000</td>\n      <td>-1.000000</td>\n      <td>-1.000000</td>\n      <td>-1.000000</td>\n      <td>0</td>\n    </tr>\n    <tr>\n      <th>2-4</th>\n      <td>1</td>\n      <td>60th</td>\n      <td>0</td>\n      <td>0.0</td>\n      <td>0.0</td>\n      <td>0.0</td>\n      <td>0.0</td>\n      <td>1.0</td>\n      <td>1.0</td>\n      <td>0.0</td>\n      <td>...</td>\n      <td>-1.000000</td>\n      <td>-1.000000</td>\n      <td>-1.000000</td>\n      <td>-1.000000</td>\n      <td>-1.000000</td>\n      <td>-1.000000</td>\n      <td>-1.000000</td>\n      <td>-1.000000</td>\n      <td>-1.000000</td>\n      <td>0</td>\n    </tr>\n    <tr>\n      <th>4-6</th>\n      <td>1</td>\n      <td>60th</td>\n      <td>0</td>\n      <td>0.0</td>\n      <td>0.0</td>\n      <td>0.0</td>\n      <td>0.0</td>\n      <td>1.0</td>\n      <td>1.0</td>\n      <td>0.0</td>\n      <td>...</td>\n      <td>NaN</td>\n      <td>NaN</td>\n      <td>NaN</td>\n      <td>NaN</td>\n      <td>NaN</td>\n      <td>NaN</td>\n      <td>NaN</td>\n      <td>NaN</td>\n      <td>NaN</td>\n      <td>0</td>\n    </tr>\n    <tr>\n      <th>6-12</th>\n      <td>1</td>\n      <td>60th</td>\n      <td>0</td>\n      <td>0.0</td>\n      <td>0.0</td>\n      <td>0.0</td>\n      <td>0.0</td>\n      <td>1.0</td>\n      <td>1.0</td>\n      <td>0.0</td>\n      <td>...</td>\n      <td>NaN</td>\n      <td>-1.000000</td>\n      <td>-1.000000</td>\n      <td>NaN</td>\n      <td>NaN</td>\n      <td>NaN</td>\n      <td>NaN</td>\n      <td>-1.000000</td>\n      <td>-1.000000</td>\n      <td>0</td>\n    </tr>\n    <tr>\n      <th>above_12</th>\n      <td>1</td>\n      <td>60th</td>\n      <td>0</td>\n      <td>0.0</td>\n      <td>0.0</td>\n      <td>0.0</td>\n      <td>0.0</td>\n      <td>1.0</td>\n      <td>1.0</td>\n      <td>0.0</td>\n      <td>...</td>\n      <td>0.176471</td>\n      <td>-0.238095</td>\n      <td>-0.818182</td>\n      <td>-0.389967</td>\n      <td>0.407558</td>\n      <td>-0.230462</td>\n      <td>0.096774</td>\n      <td>-0.242282</td>\n      <td>-0.814433</td>\n      <td>1</td>\n    </tr>\n    <tr>\n      <th>...</th>\n      <th>...</th>\n      <td>...</td>\n      <td>...</td>\n      <td>...</td>\n      <td>...</td>\n      <td>...</td>\n      <td>...</td>\n      <td>...</td>\n      <td>...</td>\n      <td>...</td>\n      <td>...</td>\n      <td>...</td>\n      <td>...</td>\n      <td>...</td>\n      <td>...</td>\n      <td>...</td>\n      <td>...</td>\n      <td>...</td>\n      <td>...</td>\n      <td>...</td>\n      <td>...</td>\n      <td>...</td>\n    </tr>\n    <tr>\n      <th rowspan=\"5\" valign=\"top\">384</th>\n      <th>0-2</th>\n      <td>0</td>\n      <td>50th</td>\n      <td>1</td>\n      <td>0.0</td>\n      <td>0.0</td>\n      <td>0.0</td>\n      <td>0.0</td>\n      <td>0.0</td>\n      <td>0.0</td>\n      <td>0.0</td>\n      <td>...</td>\n      <td>-1.000000</td>\n      <td>-1.000000</td>\n      <td>-1.000000</td>\n      <td>-1.000000</td>\n      <td>-1.000000</td>\n      <td>-1.000000</td>\n      <td>-1.000000</td>\n      <td>-1.000000</td>\n      <td>-1.000000</td>\n      <td>0</td>\n    </tr>\n    <tr>\n      <th>2-4</th>\n      <td>0</td>\n      <td>50th</td>\n      <td>1</td>\n      <td>0.0</td>\n      <td>0.0</td>\n      <td>0.0</td>\n      <td>0.0</td>\n      <td>0.0</td>\n      <td>0.0</td>\n      <td>0.0</td>\n      <td>...</td>\n      <td>-1.000000</td>\n      <td>-1.000000</td>\n      <td>-1.000000</td>\n      <td>-1.000000</td>\n      <td>-1.000000</td>\n      <td>-1.000000</td>\n      <td>-1.000000</td>\n      <td>-1.000000</td>\n      <td>-1.000000</td>\n      <td>0</td>\n    </tr>\n    <tr>\n      <th>4-6</th>\n      <td>0</td>\n      <td>50th</td>\n      <td>1</td>\n      <td>0.0</td>\n      <td>0.0</td>\n      <td>0.0</td>\n      <td>0.0</td>\n      <td>0.0</td>\n      <td>0.0</td>\n      <td>0.0</td>\n      <td>...</td>\n      <td>-1.000000</td>\n      <td>-1.000000</td>\n      <td>-1.000000</td>\n      <td>-1.000000</td>\n      <td>-1.000000</td>\n      <td>-1.000000</td>\n      <td>-1.000000</td>\n      <td>-1.000000</td>\n      <td>-1.000000</td>\n      <td>0</td>\n    </tr>\n    <tr>\n      <th>6-12</th>\n      <td>0</td>\n      <td>50th</td>\n      <td>1</td>\n      <td>0.0</td>\n      <td>0.0</td>\n      <td>0.0</td>\n      <td>0.0</td>\n      <td>0.0</td>\n      <td>0.0</td>\n      <td>0.0</td>\n      <td>...</td>\n      <td>-1.000000</td>\n      <td>-1.000000</td>\n      <td>-1.000000</td>\n      <td>-1.000000</td>\n      <td>-1.000000</td>\n      <td>-1.000000</td>\n      <td>-1.000000</td>\n      <td>-1.000000</td>\n      <td>-1.000000</td>\n      <td>0</td>\n    </tr>\n    <tr>\n      <th>above_12</th>\n      <td>0</td>\n      <td>50th</td>\n      <td>1</td>\n      <td>0.0</td>\n      <td>0.0</td>\n      <td>1.0</td>\n      <td>0.0</td>\n      <td>0.0</td>\n      <td>0.0</td>\n      <td>0.0</td>\n      <td>...</td>\n      <td>-0.647059</td>\n      <td>-0.547619</td>\n      <td>-0.838384</td>\n      <td>-0.701863</td>\n      <td>-0.585967</td>\n      <td>-0.763868</td>\n      <td>-0.612903</td>\n      <td>-0.551337</td>\n      <td>-0.835052</td>\n      <td>0</td>\n    </tr>\n  </tbody>\n</table>\n<p>1925 rows × 229 columns</p>\n</div>",
      "text/plain": "              age_above65 age_percentil  gender  disease_grouping_1  \\\nid  window                                                            \n0   0-2                 1          60th       0                 0.0   \n    2-4                 1          60th       0                 0.0   \n    4-6                 1          60th       0                 0.0   \n    6-12                1          60th       0                 0.0   \n    above_12            1          60th       0                 0.0   \n...                   ...           ...     ...                 ...   \n384 0-2                 0          50th       1                 0.0   \n    2-4                 0          50th       1                 0.0   \n    4-6                 0          50th       1                 0.0   \n    6-12                0          50th       1                 0.0   \n    above_12            0          50th       1                 0.0   \n\n              disease_grouping_2  disease_grouping_3  disease_grouping_4  \\\nid  window                                                                 \n0   0-2                      0.0                 0.0                 0.0   \n    2-4                      0.0                 0.0                 0.0   \n    4-6                      0.0                 0.0                 0.0   \n    6-12                     0.0                 0.0                 0.0   \n    above_12                 0.0                 0.0                 0.0   \n...                          ...                 ...                 ...   \n384 0-2                      0.0                 0.0                 0.0   \n    2-4                      0.0                 0.0                 0.0   \n    4-6                      0.0                 0.0                 0.0   \n    6-12                     0.0                 0.0                 0.0   \n    above_12                 0.0                 1.0                 0.0   \n\n              disease_grouping_5  disease_grouping_6  htn  ...  \\\nid  window                                                 ...   \n0   0-2                      1.0                 1.0  0.0  ...   \n    2-4                      1.0                 1.0  0.0  ...   \n    4-6                      1.0                 1.0  0.0  ...   \n    6-12                     1.0                 1.0  0.0  ...   \n    above_12                 1.0                 1.0  0.0  ...   \n...                          ...                 ...  ...  ...   \n384 0-2                      0.0                 0.0  0.0  ...   \n    2-4                      0.0                 0.0  0.0  ...   \n    4-6                      0.0                 0.0  0.0  ...   \n    6-12                     0.0                 0.0  0.0  ...   \n    above_12                 0.0                 0.0  0.0  ...   \n\n              respiratory_rate_diff  temperature_diff  oxygen_saturation_diff  \\\nid  window                                                                      \n0   0-2                   -1.000000         -1.000000               -1.000000   \n    2-4                   -1.000000         -1.000000               -1.000000   \n    4-6                         NaN               NaN                     NaN   \n    6-12                        NaN         -1.000000               -1.000000   \n    above_12               0.176471         -0.238095               -0.818182   \n...                             ...               ...                     ...   \n384 0-2                   -1.000000         -1.000000               -1.000000   \n    2-4                   -1.000000         -1.000000               -1.000000   \n    4-6                   -1.000000         -1.000000               -1.000000   \n    6-12                  -1.000000         -1.000000               -1.000000   \n    above_12              -0.647059         -0.547619               -0.838384   \n\n              bloodpressure_diastolic_diff_rel  \\\nid  window                                       \n0   0-2                              -1.000000   \n    2-4                              -1.000000   \n    4-6                                    NaN   \n    6-12                                   NaN   \n    above_12                         -0.389967   \n...                                        ...   \n384 0-2                              -1.000000   \n    2-4                              -1.000000   \n    4-6                              -1.000000   \n    6-12                             -1.000000   \n    above_12                         -0.701863   \n\n              bloodpressure_sistolic_diff_rel  heart_rate_diff_rel  \\\nid  window                                                           \n0   0-2                             -1.000000            -1.000000   \n    2-4                             -1.000000            -1.000000   \n    4-6                                   NaN                  NaN   \n    6-12                                  NaN                  NaN   \n    above_12                         0.407558            -0.230462   \n...                                       ...                  ...   \n384 0-2                             -1.000000            -1.000000   \n    2-4                             -1.000000            -1.000000   \n    4-6                             -1.000000            -1.000000   \n    6-12                            -1.000000            -1.000000   \n    above_12                        -0.585967            -0.763868   \n\n              respiratory_rate_diff_rel  temperature_diff_rel  \\\nid  window                                                      \n0   0-2                       -1.000000             -1.000000   \n    2-4                       -1.000000             -1.000000   \n    4-6                             NaN                   NaN   \n    6-12                            NaN             -1.000000   \n    above_12                   0.096774             -0.242282   \n...                                 ...                   ...   \n384 0-2                       -1.000000             -1.000000   \n    2-4                       -1.000000             -1.000000   \n    4-6                       -1.000000             -1.000000   \n    6-12                      -1.000000             -1.000000   \n    above_12                  -0.612903             -0.551337   \n\n              oxygen_saturation_diff_rel  icu  \nid  window                                     \n0   0-2                        -1.000000    0  \n    2-4                        -1.000000    0  \n    4-6                              NaN    0  \n    6-12                       -1.000000    0  \n    above_12                   -0.814433    1  \n...                                  ...  ...  \n384 0-2                        -1.000000    0  \n    2-4                        -1.000000    0  \n    4-6                        -1.000000    0  \n    6-12                       -1.000000    0  \n    above_12                   -0.835052    0  \n\n[1925 rows x 229 columns]"
     },
     "execution_count": 1,
     "metadata": {},
     "output_type": "execute_result"
    }
   ],
   "source": [
    "from pathlib import Path\n",
    "import pickle\n",
    "\n",
    "\n",
    "data_path = Path('../data/data.pkl')\n",
    "with data_path.open('rb') as file:\n",
    "    data = pickle.load(file)\n",
    "\n",
    "data"
   ]
  },
  {
   "cell_type": "markdown",
   "metadata": {},
   "source": [
    "## Defining the splitting procedure"
   ]
  },
  {
   "cell_type": "code",
   "execution_count": 2,
   "metadata": {},
   "outputs": [],
   "source": [
    "def split(data, random_seed=None, n=100):\n",
    "    '''\n",
    "    Split data into train and test set.\n",
    "\n",
    "    The test set corresponds to n patient ids. The split is done by the index\n",
    "    first level.\n",
    "    '''\n",
    "    from random import seed, shuffle\n",
    "\n",
    "    # The unique method returns an Index, with which shuffle won't work, so it\n",
    "    # has to be converted to an array.\n",
    "    idx = data.index.get_level_values(0).unique().array\n",
    "\n",
    "    if random_seed is not None:\n",
    "        seed(random_seed)\n",
    "\n",
    "    shuffle(idx)\n",
    "\n",
    "    train_idx = sorted(idx[n:])\n",
    "    test_idx = sorted(idx[:n])\n",
    "\n",
    "    train_data = data.loc[train_idx, :]\n",
    "    test_data = data.loc[test_idx, :]\n",
    "\n",
    "    return train_data, test_data"
   ]
  },
  {
   "cell_type": "markdown",
   "metadata": {},
   "source": [
    "## Exporting split data"
   ]
  },
  {
   "cell_type": "code",
   "execution_count": 3,
   "metadata": {},
   "outputs": [],
   "source": [
    "train_data, test_data = split(data, random_seed=8001672212340744)\n",
    "\n",
    "train_data_path = Path('../data/train_data.pkl')\n",
    "\n",
    "if not train_data_path.exists():\n",
    "    with train_data_path.open('wb') as file:\n",
    "        pickle.dump(train_data, file)\n",
    "\n",
    "\n",
    "test_data_path = Path('../data/test_data.pkl')\n",
    "\n",
    "if not test_data_path.exists():\n",
    "    with test_data_path.open('wb') as file:\n",
    "        pickle.dump(test_data, file)"
   ]
  }
 ],
 "metadata": {
  "kernelspec": {
   "display_name": "Python 3.9.2 64-bit ('covid-sirio-libanes': conda)",
   "name": "python392jvsc74a57bd09c8242bc265a9bf850d223c2c72e0ecec2b908f7fad0146577f7efeebce4158b"
  },
  "language_info": {
   "codemirror_mode": {
    "name": "ipython",
    "version": 3
   },
   "file_extension": ".py",
   "mimetype": "text/x-python",
   "name": "python",
   "nbconvert_exporter": "python",
   "pygments_lexer": "ipython3",
   "version": "3.9.2"
  },
  "orig_nbformat": 2
 },
 "nbformat": 4,
 "nbformat_minor": 2
}