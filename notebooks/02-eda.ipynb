{
 "cells": [
  {
   "cell_type": "markdown",
   "metadata": {},
   "source": [
    "# Exploratory data analysis"
   ]
  },
  {
   "cell_type": "markdown",
   "metadata": {},
   "source": [
    "In this notebook, the data is further explored."
   ]
  },
  {
   "cell_type": "markdown",
   "metadata": {},
   "source": [
    "## Importing data"
   ]
  },
  {
   "cell_type": "code",
   "execution_count": 1,
   "metadata": {},
   "outputs": [
    {
     "data": {
      "text/html": "<div>\n<style scoped>\n    .dataframe tbody tr th:only-of-type {\n        vertical-align: middle;\n    }\n\n    .dataframe tbody tr th {\n        vertical-align: top;\n    }\n\n    .dataframe thead th {\n        text-align: right;\n    }\n</style>\n<table border=\"1\" class=\"dataframe\">\n  <thead>\n    <tr style=\"text-align: right;\">\n      <th></th>\n      <th></th>\n      <th>age_above65</th>\n      <th>age_percentil</th>\n      <th>gender</th>\n      <th>disease_grouping_1</th>\n      <th>disease_grouping_2</th>\n      <th>disease_grouping_3</th>\n      <th>disease_grouping_4</th>\n      <th>disease_grouping_5</th>\n      <th>disease_grouping_6</th>\n      <th>htn</th>\n      <th>...</th>\n      <th>respiratory_rate_diff</th>\n      <th>temperature_diff</th>\n      <th>oxygen_saturation_diff</th>\n      <th>bloodpressure_diastolic_diff_rel</th>\n      <th>bloodpressure_sistolic_diff_rel</th>\n      <th>heart_rate_diff_rel</th>\n      <th>respiratory_rate_diff_rel</th>\n      <th>temperature_diff_rel</th>\n      <th>oxygen_saturation_diff_rel</th>\n      <th>icu</th>\n    </tr>\n    <tr>\n      <th>id</th>\n      <th>window</th>\n      <th></th>\n      <th></th>\n      <th></th>\n      <th></th>\n      <th></th>\n      <th></th>\n      <th></th>\n      <th></th>\n      <th></th>\n      <th></th>\n      <th></th>\n      <th></th>\n      <th></th>\n      <th></th>\n      <th></th>\n      <th></th>\n      <th></th>\n      <th></th>\n      <th></th>\n      <th></th>\n      <th></th>\n    </tr>\n  </thead>\n  <tbody>\n    <tr>\n      <th rowspan=\"5\" valign=\"top\">0</th>\n      <th>0-2</th>\n      <td>1</td>\n      <td>60th</td>\n      <td>0</td>\n      <td>0.0</td>\n      <td>0.0</td>\n      <td>0.0</td>\n      <td>0.0</td>\n      <td>1.0</td>\n      <td>1.0</td>\n      <td>0.0</td>\n      <td>...</td>\n      <td>-1.000000</td>\n      <td>-1.000000</td>\n      <td>-1.000000</td>\n      <td>-1.000000</td>\n      <td>-1.000000</td>\n      <td>-1.000000</td>\n      <td>-1.000000</td>\n      <td>-1.000000</td>\n      <td>-1.000000</td>\n      <td>0</td>\n    </tr>\n    <tr>\n      <th>2-4</th>\n      <td>1</td>\n      <td>60th</td>\n      <td>0</td>\n      <td>0.0</td>\n      <td>0.0</td>\n      <td>0.0</td>\n      <td>0.0</td>\n      <td>1.0</td>\n      <td>1.0</td>\n      <td>0.0</td>\n      <td>...</td>\n      <td>-1.000000</td>\n      <td>-1.000000</td>\n      <td>-1.000000</td>\n      <td>-1.000000</td>\n      <td>-1.000000</td>\n      <td>-1.000000</td>\n      <td>-1.000000</td>\n      <td>-1.000000</td>\n      <td>-1.000000</td>\n      <td>0</td>\n    </tr>\n    <tr>\n      <th>4-6</th>\n      <td>1</td>\n      <td>60th</td>\n      <td>0</td>\n      <td>0.0</td>\n      <td>0.0</td>\n      <td>0.0</td>\n      <td>0.0</td>\n      <td>1.0</td>\n      <td>1.0</td>\n      <td>0.0</td>\n      <td>...</td>\n      <td>NaN</td>\n      <td>NaN</td>\n      <td>NaN</td>\n      <td>NaN</td>\n      <td>NaN</td>\n      <td>NaN</td>\n      <td>NaN</td>\n      <td>NaN</td>\n      <td>NaN</td>\n      <td>0</td>\n    </tr>\n    <tr>\n      <th>6-12</th>\n      <td>1</td>\n      <td>60th</td>\n      <td>0</td>\n      <td>0.0</td>\n      <td>0.0</td>\n      <td>0.0</td>\n      <td>0.0</td>\n      <td>1.0</td>\n      <td>1.0</td>\n      <td>0.0</td>\n      <td>...</td>\n      <td>NaN</td>\n      <td>-1.000000</td>\n      <td>-1.000000</td>\n      <td>NaN</td>\n      <td>NaN</td>\n      <td>NaN</td>\n      <td>NaN</td>\n      <td>-1.000000</td>\n      <td>-1.000000</td>\n      <td>0</td>\n    </tr>\n    <tr>\n      <th>above_12</th>\n      <td>1</td>\n      <td>60th</td>\n      <td>0</td>\n      <td>0.0</td>\n      <td>0.0</td>\n      <td>0.0</td>\n      <td>0.0</td>\n      <td>1.0</td>\n      <td>1.0</td>\n      <td>0.0</td>\n      <td>...</td>\n      <td>0.176471</td>\n      <td>-0.238095</td>\n      <td>-0.818182</td>\n      <td>-0.389967</td>\n      <td>0.407558</td>\n      <td>-0.230462</td>\n      <td>0.096774</td>\n      <td>-0.242282</td>\n      <td>-0.814433</td>\n      <td>1</td>\n    </tr>\n    <tr>\n      <th>...</th>\n      <th>...</th>\n      <td>...</td>\n      <td>...</td>\n      <td>...</td>\n      <td>...</td>\n      <td>...</td>\n      <td>...</td>\n      <td>...</td>\n      <td>...</td>\n      <td>...</td>\n      <td>...</td>\n      <td>...</td>\n      <td>...</td>\n      <td>...</td>\n      <td>...</td>\n      <td>...</td>\n      <td>...</td>\n      <td>...</td>\n      <td>...</td>\n      <td>...</td>\n      <td>...</td>\n      <td>...</td>\n    </tr>\n    <tr>\n      <th rowspan=\"5\" valign=\"top\">384</th>\n      <th>0-2</th>\n      <td>0</td>\n      <td>50th</td>\n      <td>1</td>\n      <td>0.0</td>\n      <td>0.0</td>\n      <td>0.0</td>\n      <td>0.0</td>\n      <td>0.0</td>\n      <td>0.0</td>\n      <td>0.0</td>\n      <td>...</td>\n      <td>-1.000000</td>\n      <td>-1.000000</td>\n      <td>-1.000000</td>\n      <td>-1.000000</td>\n      <td>-1.000000</td>\n      <td>-1.000000</td>\n      <td>-1.000000</td>\n      <td>-1.000000</td>\n      <td>-1.000000</td>\n      <td>0</td>\n    </tr>\n    <tr>\n      <th>2-4</th>\n      <td>0</td>\n      <td>50th</td>\n      <td>1</td>\n      <td>0.0</td>\n      <td>0.0</td>\n      <td>0.0</td>\n      <td>0.0</td>\n      <td>0.0</td>\n      <td>0.0</td>\n      <td>0.0</td>\n      <td>...</td>\n      <td>-1.000000</td>\n      <td>-1.000000</td>\n      <td>-1.000000</td>\n      <td>-1.000000</td>\n      <td>-1.000000</td>\n      <td>-1.000000</td>\n      <td>-1.000000</td>\n      <td>-1.000000</td>\n      <td>-1.000000</td>\n      <td>0</td>\n    </tr>\n    <tr>\n      <th>4-6</th>\n      <td>0</td>\n      <td>50th</td>\n      <td>1</td>\n      <td>0.0</td>\n      <td>0.0</td>\n      <td>0.0</td>\n      <td>0.0</td>\n      <td>0.0</td>\n      <td>0.0</td>\n      <td>0.0</td>\n      <td>...</td>\n      <td>-1.000000</td>\n      <td>-1.000000</td>\n      <td>-1.000000</td>\n      <td>-1.000000</td>\n      <td>-1.000000</td>\n      <td>-1.000000</td>\n      <td>-1.000000</td>\n      <td>-1.000000</td>\n      <td>-1.000000</td>\n      <td>0</td>\n    </tr>\n    <tr>\n      <th>6-12</th>\n      <td>0</td>\n      <td>50th</td>\n      <td>1</td>\n      <td>0.0</td>\n      <td>0.0</td>\n      <td>0.0</td>\n      <td>0.0</td>\n      <td>0.0</td>\n      <td>0.0</td>\n      <td>0.0</td>\n      <td>...</td>\n      <td>-1.000000</td>\n      <td>-1.000000</td>\n      <td>-1.000000</td>\n      <td>-1.000000</td>\n      <td>-1.000000</td>\n      <td>-1.000000</td>\n      <td>-1.000000</td>\n      <td>-1.000000</td>\n      <td>-1.000000</td>\n      <td>0</td>\n    </tr>\n    <tr>\n      <th>above_12</th>\n      <td>0</td>\n      <td>50th</td>\n      <td>1</td>\n      <td>0.0</td>\n      <td>0.0</td>\n      <td>1.0</td>\n      <td>0.0</td>\n      <td>0.0</td>\n      <td>0.0</td>\n      <td>0.0</td>\n      <td>...</td>\n      <td>-0.647059</td>\n      <td>-0.547619</td>\n      <td>-0.838384</td>\n      <td>-0.701863</td>\n      <td>-0.585967</td>\n      <td>-0.763868</td>\n      <td>-0.612903</td>\n      <td>-0.551337</td>\n      <td>-0.835052</td>\n      <td>0</td>\n    </tr>\n  </tbody>\n</table>\n<p>1925 rows × 229 columns</p>\n</div>",
      "text/plain": "              age_above65 age_percentil  gender  disease_grouping_1  \\\nid  window                                                            \n0   0-2                 1          60th       0                 0.0   \n    2-4                 1          60th       0                 0.0   \n    4-6                 1          60th       0                 0.0   \n    6-12                1          60th       0                 0.0   \n    above_12            1          60th       0                 0.0   \n...                   ...           ...     ...                 ...   \n384 0-2                 0          50th       1                 0.0   \n    2-4                 0          50th       1                 0.0   \n    4-6                 0          50th       1                 0.0   \n    6-12                0          50th       1                 0.0   \n    above_12            0          50th       1                 0.0   \n\n              disease_grouping_2  disease_grouping_3  disease_grouping_4  \\\nid  window                                                                 \n0   0-2                      0.0                 0.0                 0.0   \n    2-4                      0.0                 0.0                 0.0   \n    4-6                      0.0                 0.0                 0.0   \n    6-12                     0.0                 0.0                 0.0   \n    above_12                 0.0                 0.0                 0.0   \n...                          ...                 ...                 ...   \n384 0-2                      0.0                 0.0                 0.0   \n    2-4                      0.0                 0.0                 0.0   \n    4-6                      0.0                 0.0                 0.0   \n    6-12                     0.0                 0.0                 0.0   \n    above_12                 0.0                 1.0                 0.0   \n\n              disease_grouping_5  disease_grouping_6  htn  ...  \\\nid  window                                                 ...   \n0   0-2                      1.0                 1.0  0.0  ...   \n    2-4                      1.0                 1.0  0.0  ...   \n    4-6                      1.0                 1.0  0.0  ...   \n    6-12                     1.0                 1.0  0.0  ...   \n    above_12                 1.0                 1.0  0.0  ...   \n...                          ...                 ...  ...  ...   \n384 0-2                      0.0                 0.0  0.0  ...   \n    2-4                      0.0                 0.0  0.0  ...   \n    4-6                      0.0                 0.0  0.0  ...   \n    6-12                     0.0                 0.0  0.0  ...   \n    above_12                 0.0                 0.0  0.0  ...   \n\n              respiratory_rate_diff  temperature_diff  oxygen_saturation_diff  \\\nid  window                                                                      \n0   0-2                   -1.000000         -1.000000               -1.000000   \n    2-4                   -1.000000         -1.000000               -1.000000   \n    4-6                         NaN               NaN                     NaN   \n    6-12                        NaN         -1.000000               -1.000000   \n    above_12               0.176471         -0.238095               -0.818182   \n...                             ...               ...                     ...   \n384 0-2                   -1.000000         -1.000000               -1.000000   \n    2-4                   -1.000000         -1.000000               -1.000000   \n    4-6                   -1.000000         -1.000000               -1.000000   \n    6-12                  -1.000000         -1.000000               -1.000000   \n    above_12              -0.647059         -0.547619               -0.838384   \n\n              bloodpressure_diastolic_diff_rel  \\\nid  window                                       \n0   0-2                              -1.000000   \n    2-4                              -1.000000   \n    4-6                                    NaN   \n    6-12                                   NaN   \n    above_12                         -0.389967   \n...                                        ...   \n384 0-2                              -1.000000   \n    2-4                              -1.000000   \n    4-6                              -1.000000   \n    6-12                             -1.000000   \n    above_12                         -0.701863   \n\n              bloodpressure_sistolic_diff_rel  heart_rate_diff_rel  \\\nid  window                                                           \n0   0-2                             -1.000000            -1.000000   \n    2-4                             -1.000000            -1.000000   \n    4-6                                   NaN                  NaN   \n    6-12                                  NaN                  NaN   \n    above_12                         0.407558            -0.230462   \n...                                       ...                  ...   \n384 0-2                             -1.000000            -1.000000   \n    2-4                             -1.000000            -1.000000   \n    4-6                             -1.000000            -1.000000   \n    6-12                            -1.000000            -1.000000   \n    above_12                        -0.585967            -0.763868   \n\n              respiratory_rate_diff_rel  temperature_diff_rel  \\\nid  window                                                      \n0   0-2                       -1.000000             -1.000000   \n    2-4                       -1.000000             -1.000000   \n    4-6                             NaN                   NaN   \n    6-12                            NaN             -1.000000   \n    above_12                   0.096774             -0.242282   \n...                                 ...                   ...   \n384 0-2                       -1.000000             -1.000000   \n    2-4                       -1.000000             -1.000000   \n    4-6                       -1.000000             -1.000000   \n    6-12                      -1.000000             -1.000000   \n    above_12                  -0.612903             -0.551337   \n\n              oxygen_saturation_diff_rel  icu  \nid  window                                     \n0   0-2                        -1.000000    0  \n    2-4                        -1.000000    0  \n    4-6                              NaN    0  \n    6-12                       -1.000000    0  \n    above_12                   -0.814433    1  \n...                                  ...  ...  \n384 0-2                        -1.000000    0  \n    2-4                        -1.000000    0  \n    4-6                        -1.000000    0  \n    6-12                       -1.000000    0  \n    above_12                   -0.835052    0  \n\n[1925 rows x 229 columns]"
     },
     "execution_count": 1,
     "metadata": {},
     "output_type": "execute_result"
    }
   ],
   "source": [
    "from pathlib import Path\n",
    "import pickle\n",
    "\n",
    "data_path = Path('../data/data.pkl')\n",
    "\n",
    "with data_path.open('rb') as file:\n",
    "    data = pickle.load(file)\n",
    "\n",
    "data"
   ]
  },
  {
   "cell_type": "markdown",
   "metadata": {},
   "source": [
    "## Dealing with rows"
   ]
  },
  {
   "cell_type": "markdown",
   "metadata": {},
   "source": [
    "Each patient's data comprehend 5 distinct rows, being one for each time window.\n",
    "Since these rows represent the same patient, several different strategies can be considered for how to deal with them.\n",
    "\n",
    "In this section those strategies will be explored."
   ]
  },
  {
   "cell_type": "markdown",
   "metadata": {},
   "source": [
    "### Note about time windows after patient admission"
   ]
  },
  {
   "cell_type": "markdown",
   "metadata": {},
   "source": [
    "Although the documentation suggests discarding rows (time windows) for which the patients had already been admitted to the ICU, there might be value in not doing so.\n",
    "\n",
    "Regardless of when the patient was admitted, all of his/her rows present values for a patient that would be admitted at some point in time."
   ]
  },
  {
   "cell_type": "code",
   "execution_count": 2,
   "metadata": {},
   "outputs": [
    {
     "data": {
      "text/html": "<div>\n<style scoped>\n    .dataframe tbody tr th:only-of-type {\n        vertical-align: middle;\n    }\n\n    .dataframe tbody tr th {\n        vertical-align: top;\n    }\n\n    .dataframe thead th {\n        text-align: right;\n    }\n</style>\n<table border=\"1\" class=\"dataframe\">\n  <thead>\n    <tr style=\"text-align: right;\">\n      <th>window</th>\n      <th>0-2</th>\n      <th>2-4</th>\n      <th>4-6</th>\n      <th>6-12</th>\n      <th>above_12</th>\n    </tr>\n    <tr>\n      <th>id</th>\n      <th></th>\n      <th></th>\n      <th></th>\n      <th></th>\n      <th></th>\n    </tr>\n  </thead>\n  <tbody>\n    <tr>\n      <th>11</th>\n      <td>0</td>\n      <td>0</td>\n      <td>0</td>\n      <td>1</td>\n      <td>1</td>\n    </tr>\n    <tr>\n      <th>14</th>\n      <td>0</td>\n      <td>0</td>\n      <td>1</td>\n      <td>1</td>\n      <td>1</td>\n    </tr>\n  </tbody>\n</table>\n</div>",
      "text/plain": "window  0-2  2-4  4-6  6-12  above_12\nid                                   \n11        0    0    0     1         1\n14        0    0    1     1         1"
     },
     "execution_count": 2,
     "metadata": {},
     "output_type": "execute_result"
    }
   ],
   "source": [
    "data.loc[[11, 14], 'icu'].unstack(1)"
   ]
  },
  {
   "cell_type": "markdown",
   "metadata": {},
   "source": [
    "\n",
    "Patient 11, for example, was admitted at the fourth time window.\n",
    "On one hand, this means that at the first three time windows his/her values were of a patient that would be admitted in the future.\n",
    "On the other hand, the last time window corresponds to values of a patient that had been already admitted.\n",
    "\n",
    "\n",
    "Therefore, a model trained only with rows for which patients had not been admitted would consider patient 11's first three time windows.\n",
    "It could be used to predict patient 14's admission, which was registered during the third time window.\n",
    "\n",
    "If patient 14 had values similar to those of patient 11 in the two first time windows, this model would be expected to be able to guess ICU need correctly.\n",
    "But if patient 14 was admitted into the hospital with values similar to patient 11's *last two* time window, there would be no reason to expect the model to make a correct prediction simply because it *may have never seen similar data*.\n",
    "That's because patient 11's last time windows would have been dropped due to ICU status.\n",
    "\n",
    "Nevertheless, a model trained against *every row* would have hope to be able to predict patient 14's admission regardless of the time window considered.\n",
    "\n",
    "In conclusion, every time window presents values for a patient that *will* be admitted (or not) at some point in time and should be considered.\n",
    "This is the approach that's going to be used in this work."
   ]
  },
  {
   "cell_type": "markdown",
   "metadata": {},
   "source": [
    "### One row per patient, first time window"
   ]
  },
  {
   "cell_type": "markdown",
   "metadata": {},
   "source": [
    "The documentation suggests using only the first time window for each patient.\n",
    "This is a straightforward way of dealing with the problem and may make the model more clinically relevant.\n",
    "This is because, by being fit to the first time window, the model might be able to catch the needing patients as soon as they get into the hospital.\n",
    "\n",
    "In this case, care must be taken to make sure *icu* indicates whether the patient was admitted at any point in time and not just on the first time window."
   ]
  },
  {
   "cell_type": "code",
   "execution_count": 3,
   "metadata": {},
   "outputs": [
    {
     "data": {
      "text/html": "<div>\n<style scoped>\n    .dataframe tbody tr th:only-of-type {\n        vertical-align: middle;\n    }\n\n    .dataframe tbody tr th {\n        vertical-align: top;\n    }\n\n    .dataframe thead th {\n        text-align: right;\n    }\n</style>\n<table border=\"1\" class=\"dataframe\">\n  <thead>\n    <tr style=\"text-align: right;\">\n      <th></th>\n      <th>age_above65</th>\n      <th>age_percentil</th>\n      <th>gender</th>\n      <th>disease_grouping_1</th>\n      <th>disease_grouping_2</th>\n      <th>disease_grouping_3</th>\n      <th>disease_grouping_4</th>\n      <th>disease_grouping_5</th>\n      <th>disease_grouping_6</th>\n      <th>htn</th>\n      <th>...</th>\n      <th>respiratory_rate_diff</th>\n      <th>temperature_diff</th>\n      <th>oxygen_saturation_diff</th>\n      <th>bloodpressure_diastolic_diff_rel</th>\n      <th>bloodpressure_sistolic_diff_rel</th>\n      <th>heart_rate_diff_rel</th>\n      <th>respiratory_rate_diff_rel</th>\n      <th>temperature_diff_rel</th>\n      <th>oxygen_saturation_diff_rel</th>\n      <th>icu</th>\n    </tr>\n    <tr>\n      <th>id</th>\n      <th></th>\n      <th></th>\n      <th></th>\n      <th></th>\n      <th></th>\n      <th></th>\n      <th></th>\n      <th></th>\n      <th></th>\n      <th></th>\n      <th></th>\n      <th></th>\n      <th></th>\n      <th></th>\n      <th></th>\n      <th></th>\n      <th></th>\n      <th></th>\n      <th></th>\n      <th></th>\n      <th></th>\n    </tr>\n  </thead>\n  <tbody>\n    <tr>\n      <th>0</th>\n      <td>1</td>\n      <td>60th</td>\n      <td>0</td>\n      <td>0.0</td>\n      <td>0.0</td>\n      <td>0.0</td>\n      <td>0.0</td>\n      <td>1.0</td>\n      <td>1.0</td>\n      <td>0.0</td>\n      <td>...</td>\n      <td>-1.0</td>\n      <td>-1.0</td>\n      <td>-1.0</td>\n      <td>-1.0</td>\n      <td>-1.0</td>\n      <td>-1.0</td>\n      <td>-1.0</td>\n      <td>-1.0</td>\n      <td>-1.0</td>\n      <td>1</td>\n    </tr>\n    <tr>\n      <th>1</th>\n      <td>1</td>\n      <td>90th</td>\n      <td>1</td>\n      <td>0.0</td>\n      <td>0.0</td>\n      <td>0.0</td>\n      <td>0.0</td>\n      <td>0.0</td>\n      <td>0.0</td>\n      <td>1.0</td>\n      <td>...</td>\n      <td>-1.0</td>\n      <td>-1.0</td>\n      <td>-1.0</td>\n      <td>-1.0</td>\n      <td>-1.0</td>\n      <td>-1.0</td>\n      <td>-1.0</td>\n      <td>-1.0</td>\n      <td>-1.0</td>\n      <td>1</td>\n    </tr>\n    <tr>\n      <th>2</th>\n      <td>0</td>\n      <td>10th</td>\n      <td>0</td>\n      <td>0.0</td>\n      <td>0.0</td>\n      <td>0.0</td>\n      <td>0.0</td>\n      <td>0.0</td>\n      <td>0.0</td>\n      <td>0.0</td>\n      <td>...</td>\n      <td>NaN</td>\n      <td>NaN</td>\n      <td>NaN</td>\n      <td>NaN</td>\n      <td>NaN</td>\n      <td>NaN</td>\n      <td>NaN</td>\n      <td>NaN</td>\n      <td>NaN</td>\n      <td>1</td>\n    </tr>\n    <tr>\n      <th>3</th>\n      <td>0</td>\n      <td>40th</td>\n      <td>1</td>\n      <td>0.0</td>\n      <td>0.0</td>\n      <td>0.0</td>\n      <td>0.0</td>\n      <td>0.0</td>\n      <td>0.0</td>\n      <td>0.0</td>\n      <td>...</td>\n      <td>NaN</td>\n      <td>NaN</td>\n      <td>NaN</td>\n      <td>NaN</td>\n      <td>NaN</td>\n      <td>NaN</td>\n      <td>NaN</td>\n      <td>NaN</td>\n      <td>NaN</td>\n      <td>0</td>\n    </tr>\n    <tr>\n      <th>4</th>\n      <td>0</td>\n      <td>10th</td>\n      <td>0</td>\n      <td>0.0</td>\n      <td>0.0</td>\n      <td>0.0</td>\n      <td>0.0</td>\n      <td>0.0</td>\n      <td>0.0</td>\n      <td>0.0</td>\n      <td>...</td>\n      <td>NaN</td>\n      <td>NaN</td>\n      <td>NaN</td>\n      <td>NaN</td>\n      <td>NaN</td>\n      <td>NaN</td>\n      <td>NaN</td>\n      <td>NaN</td>\n      <td>NaN</td>\n      <td>0</td>\n    </tr>\n    <tr>\n      <th>...</th>\n      <td>...</td>\n      <td>...</td>\n      <td>...</td>\n      <td>...</td>\n      <td>...</td>\n      <td>...</td>\n      <td>...</td>\n      <td>...</td>\n      <td>...</td>\n      <td>...</td>\n      <td>...</td>\n      <td>...</td>\n      <td>...</td>\n      <td>...</td>\n      <td>...</td>\n      <td>...</td>\n      <td>...</td>\n      <td>...</td>\n      <td>...</td>\n      <td>...</td>\n      <td>...</td>\n    </tr>\n    <tr>\n      <th>380</th>\n      <td>0</td>\n      <td>40th</td>\n      <td>1</td>\n      <td>0.0</td>\n      <td>0.0</td>\n      <td>0.0</td>\n      <td>0.0</td>\n      <td>0.0</td>\n      <td>0.0</td>\n      <td>0.0</td>\n      <td>...</td>\n      <td>-1.0</td>\n      <td>-1.0</td>\n      <td>-1.0</td>\n      <td>-1.0</td>\n      <td>-1.0</td>\n      <td>-1.0</td>\n      <td>-1.0</td>\n      <td>-1.0</td>\n      <td>-1.0</td>\n      <td>1</td>\n    </tr>\n    <tr>\n      <th>381</th>\n      <td>1</td>\n      <td>above_90th</td>\n      <td>0</td>\n      <td>0.0</td>\n      <td>0.0</td>\n      <td>0.0</td>\n      <td>0.0</td>\n      <td>0.0</td>\n      <td>0.0</td>\n      <td>0.0</td>\n      <td>...</td>\n      <td>NaN</td>\n      <td>NaN</td>\n      <td>NaN</td>\n      <td>NaN</td>\n      <td>NaN</td>\n      <td>NaN</td>\n      <td>NaN</td>\n      <td>NaN</td>\n      <td>NaN</td>\n      <td>0</td>\n    </tr>\n    <tr>\n      <th>382</th>\n      <td>0</td>\n      <td>50th</td>\n      <td>0</td>\n      <td>0.0</td>\n      <td>0.0</td>\n      <td>0.0</td>\n      <td>0.0</td>\n      <td>0.0</td>\n      <td>0.0</td>\n      <td>0.0</td>\n      <td>...</td>\n      <td>NaN</td>\n      <td>NaN</td>\n      <td>NaN</td>\n      <td>NaN</td>\n      <td>NaN</td>\n      <td>NaN</td>\n      <td>NaN</td>\n      <td>NaN</td>\n      <td>NaN</td>\n      <td>1</td>\n    </tr>\n    <tr>\n      <th>383</th>\n      <td>0</td>\n      <td>40th</td>\n      <td>1</td>\n      <td>0.0</td>\n      <td>0.0</td>\n      <td>0.0</td>\n      <td>0.0</td>\n      <td>0.0</td>\n      <td>0.0</td>\n      <td>0.0</td>\n      <td>...</td>\n      <td>NaN</td>\n      <td>NaN</td>\n      <td>NaN</td>\n      <td>NaN</td>\n      <td>NaN</td>\n      <td>NaN</td>\n      <td>NaN</td>\n      <td>NaN</td>\n      <td>NaN</td>\n      <td>0</td>\n    </tr>\n    <tr>\n      <th>384</th>\n      <td>0</td>\n      <td>50th</td>\n      <td>1</td>\n      <td>0.0</td>\n      <td>0.0</td>\n      <td>0.0</td>\n      <td>0.0</td>\n      <td>0.0</td>\n      <td>0.0</td>\n      <td>0.0</td>\n      <td>...</td>\n      <td>-1.0</td>\n      <td>-1.0</td>\n      <td>-1.0</td>\n      <td>-1.0</td>\n      <td>-1.0</td>\n      <td>-1.0</td>\n      <td>-1.0</td>\n      <td>-1.0</td>\n      <td>-1.0</td>\n      <td>0</td>\n    </tr>\n  </tbody>\n</table>\n<p>385 rows × 229 columns</p>\n</div>",
      "text/plain": "     age_above65 age_percentil  gender  disease_grouping_1  \\\nid                                                           \n0              1          60th       0                 0.0   \n1              1          90th       1                 0.0   \n2              0          10th       0                 0.0   \n3              0          40th       1                 0.0   \n4              0          10th       0                 0.0   \n..           ...           ...     ...                 ...   \n380            0          40th       1                 0.0   \n381            1    above_90th       0                 0.0   \n382            0          50th       0                 0.0   \n383            0          40th       1                 0.0   \n384            0          50th       1                 0.0   \n\n     disease_grouping_2  disease_grouping_3  disease_grouping_4  \\\nid                                                                \n0                   0.0                 0.0                 0.0   \n1                   0.0                 0.0                 0.0   \n2                   0.0                 0.0                 0.0   \n3                   0.0                 0.0                 0.0   \n4                   0.0                 0.0                 0.0   \n..                  ...                 ...                 ...   \n380                 0.0                 0.0                 0.0   \n381                 0.0                 0.0                 0.0   \n382                 0.0                 0.0                 0.0   \n383                 0.0                 0.0                 0.0   \n384                 0.0                 0.0                 0.0   \n\n     disease_grouping_5  disease_grouping_6  htn  ...  respiratory_rate_diff  \\\nid                                                ...                          \n0                   1.0                 1.0  0.0  ...                   -1.0   \n1                   0.0                 0.0  1.0  ...                   -1.0   \n2                   0.0                 0.0  0.0  ...                    NaN   \n3                   0.0                 0.0  0.0  ...                    NaN   \n4                   0.0                 0.0  0.0  ...                    NaN   \n..                  ...                 ...  ...  ...                    ...   \n380                 0.0                 0.0  0.0  ...                   -1.0   \n381                 0.0                 0.0  0.0  ...                    NaN   \n382                 0.0                 0.0  0.0  ...                    NaN   \n383                 0.0                 0.0  0.0  ...                    NaN   \n384                 0.0                 0.0  0.0  ...                   -1.0   \n\n     temperature_diff  oxygen_saturation_diff  \\\nid                                              \n0                -1.0                    -1.0   \n1                -1.0                    -1.0   \n2                 NaN                     NaN   \n3                 NaN                     NaN   \n4                 NaN                     NaN   \n..                ...                     ...   \n380              -1.0                    -1.0   \n381               NaN                     NaN   \n382               NaN                     NaN   \n383               NaN                     NaN   \n384              -1.0                    -1.0   \n\n     bloodpressure_diastolic_diff_rel  bloodpressure_sistolic_diff_rel  \\\nid                                                                       \n0                                -1.0                             -1.0   \n1                                -1.0                             -1.0   \n2                                 NaN                              NaN   \n3                                 NaN                              NaN   \n4                                 NaN                              NaN   \n..                                ...                              ...   \n380                              -1.0                             -1.0   \n381                               NaN                              NaN   \n382                               NaN                              NaN   \n383                               NaN                              NaN   \n384                              -1.0                             -1.0   \n\n     heart_rate_diff_rel  respiratory_rate_diff_rel  temperature_diff_rel  \\\nid                                                                          \n0                   -1.0                       -1.0                  -1.0   \n1                   -1.0                       -1.0                  -1.0   \n2                    NaN                        NaN                   NaN   \n3                    NaN                        NaN                   NaN   \n4                    NaN                        NaN                   NaN   \n..                   ...                        ...                   ...   \n380                 -1.0                       -1.0                  -1.0   \n381                  NaN                        NaN                   NaN   \n382                  NaN                        NaN                   NaN   \n383                  NaN                        NaN                   NaN   \n384                 -1.0                       -1.0                  -1.0   \n\n     oxygen_saturation_diff_rel  icu  \nid                                    \n0                          -1.0    1  \n1                          -1.0    1  \n2                           NaN    1  \n3                           NaN    0  \n4                           NaN    0  \n..                          ...  ...  \n380                        -1.0    1  \n381                         NaN    0  \n382                         NaN    1  \n383                         NaN    0  \n384                        -1.0    0  \n\n[385 rows x 229 columns]"
     },
     "execution_count": 3,
     "metadata": {},
     "output_type": "execute_result"
    }
   ],
   "source": [
    "import pandas as pd\n",
    "\n",
    "first_time_window = data.loc[(slice(None), '0-2'), :].droplevel('window').copy()\n",
    "\n",
    "# The aggregation max() gives 1 for the patients that were admitted at some\n",
    "# point in time.\n",
    "first_time_window.loc[:, 'icu'] = (\n",
    "    data.loc[:, 'icu']\n",
    "    .groupby('id')\n",
    "    .max()\n",
    ")\n",
    "\n",
    "first_time_window"
   ]
  },
  {
   "cell_type": "markdown",
   "metadata": {},
   "source": [
    "### One row per patient, aggregating"
   ]
  },
  {
   "cell_type": "markdown",
   "metadata": {},
   "source": [
    "One other way to reduce each patient's data to a single row is by aggregating them.\n",
    "This procedure could have the advantage of supplying the model with somewhat more information.\n",
    "If it produces better results than only taking the first time window is something to be tested.\n",
    "\n",
    "- Since the *demographics* are constant across time windows, the aggregating function can be just taking the *first* value.\n",
    "\n",
    "- As already seen, the *comorbidities* actually vary.\n",
    "Considering they're about the existence of diseases, it seems reasonable to consider them to be present whenever at least one time window is positive.\n",
    "\n",
    "- For the *labs* and *vitals*, the *mean* will be used.\n",
    "\n",
    "- *icu* should be aggregated as in the previous case."
   ]
  },
  {
   "cell_type": "code",
   "execution_count": 4,
   "metadata": {},
   "outputs": [
    {
     "data": {
      "text/html": "<div>\n<style scoped>\n    .dataframe tbody tr th:only-of-type {\n        vertical-align: middle;\n    }\n\n    .dataframe tbody tr th {\n        vertical-align: top;\n    }\n\n    .dataframe thead th {\n        text-align: right;\n    }\n</style>\n<table border=\"1\" class=\"dataframe\">\n  <thead>\n    <tr style=\"text-align: right;\">\n      <th></th>\n      <th>age_above65</th>\n      <th>age_percentil</th>\n      <th>gender</th>\n      <th>disease_grouping_1</th>\n      <th>disease_grouping_2</th>\n      <th>disease_grouping_3</th>\n      <th>disease_grouping_4</th>\n      <th>disease_grouping_5</th>\n      <th>disease_grouping_6</th>\n      <th>htn</th>\n      <th>...</th>\n      <th>respiratory_rate_diff</th>\n      <th>temperature_diff</th>\n      <th>oxygen_saturation_diff</th>\n      <th>bloodpressure_diastolic_diff_rel</th>\n      <th>bloodpressure_sistolic_diff_rel</th>\n      <th>heart_rate_diff_rel</th>\n      <th>respiratory_rate_diff_rel</th>\n      <th>temperature_diff_rel</th>\n      <th>oxygen_saturation_diff_rel</th>\n      <th>icu</th>\n    </tr>\n    <tr>\n      <th>id</th>\n      <th></th>\n      <th></th>\n      <th></th>\n      <th></th>\n      <th></th>\n      <th></th>\n      <th></th>\n      <th></th>\n      <th></th>\n      <th></th>\n      <th></th>\n      <th></th>\n      <th></th>\n      <th></th>\n      <th></th>\n      <th></th>\n      <th></th>\n      <th></th>\n      <th></th>\n      <th></th>\n      <th></th>\n    </tr>\n  </thead>\n  <tbody>\n    <tr>\n      <th>0</th>\n      <td>1</td>\n      <td>60th</td>\n      <td>0</td>\n      <td>0.0</td>\n      <td>0.0</td>\n      <td>0.0</td>\n      <td>0.0</td>\n      <td>1.0</td>\n      <td>1.0</td>\n      <td>0.0</td>\n      <td>...</td>\n      <td>-0.607843</td>\n      <td>-0.809524</td>\n      <td>-0.954545</td>\n      <td>-0.796656</td>\n      <td>-0.530814</td>\n      <td>-0.743487</td>\n      <td>-0.634409</td>\n      <td>-0.810570</td>\n      <td>-0.953608</td>\n      <td>1</td>\n    </tr>\n    <tr>\n      <th>1</th>\n      <td>1</td>\n      <td>90th</td>\n      <td>1</td>\n      <td>0.0</td>\n      <td>0.0</td>\n      <td>0.0</td>\n      <td>0.0</td>\n      <td>1.0</td>\n      <td>0.0</td>\n      <td>1.0</td>\n      <td>...</td>\n      <td>-0.600000</td>\n      <td>-0.747619</td>\n      <td>-0.959596</td>\n      <td>-0.718228</td>\n      <td>-0.726155</td>\n      <td>-0.836096</td>\n      <td>-0.634409</td>\n      <td>-0.748573</td>\n      <td>-0.960463</td>\n      <td>1</td>\n    </tr>\n    <tr>\n      <th>2</th>\n      <td>0</td>\n      <td>10th</td>\n      <td>0</td>\n      <td>0.0</td>\n      <td>0.0</td>\n      <td>0.0</td>\n      <td>0.0</td>\n      <td>0.0</td>\n      <td>0.0</td>\n      <td>0.0</td>\n      <td>...</td>\n      <td>-0.803922</td>\n      <td>-0.750000</td>\n      <td>-0.885522</td>\n      <td>-0.595604</td>\n      <td>-0.419448</td>\n      <td>-0.681860</td>\n      <td>-0.792832</td>\n      <td>-0.752732</td>\n      <td>-0.887561</td>\n      <td>1</td>\n    </tr>\n    <tr>\n      <th>3</th>\n      <td>0</td>\n      <td>40th</td>\n      <td>1</td>\n      <td>0.0</td>\n      <td>0.0</td>\n      <td>0.0</td>\n      <td>0.0</td>\n      <td>0.0</td>\n      <td>0.0</td>\n      <td>0.0</td>\n      <td>...</td>\n      <td>-0.784314</td>\n      <td>-0.682540</td>\n      <td>-0.723906</td>\n      <td>-0.769565</td>\n      <td>-0.685906</td>\n      <td>-0.689698</td>\n      <td>-0.776583</td>\n      <td>-0.682540</td>\n      <td>-0.724145</td>\n      <td>0</td>\n    </tr>\n    <tr>\n      <th>4</th>\n      <td>0</td>\n      <td>10th</td>\n      <td>0</td>\n      <td>0.0</td>\n      <td>0.0</td>\n      <td>0.0</td>\n      <td>0.0</td>\n      <td>0.0</td>\n      <td>0.0</td>\n      <td>1.0</td>\n      <td>...</td>\n      <td>-0.901961</td>\n      <td>-0.761905</td>\n      <td>-0.959596</td>\n      <td>-0.884058</td>\n      <td>-0.826611</td>\n      <td>-0.839287</td>\n      <td>-0.896057</td>\n      <td>-0.766042</td>\n      <td>-0.960291</td>\n      <td>0</td>\n    </tr>\n    <tr>\n      <th>...</th>\n      <td>...</td>\n      <td>...</td>\n      <td>...</td>\n      <td>...</td>\n      <td>...</td>\n      <td>...</td>\n      <td>...</td>\n      <td>...</td>\n      <td>...</td>\n      <td>...</td>\n      <td>...</td>\n      <td>...</td>\n      <td>...</td>\n      <td>...</td>\n      <td>...</td>\n      <td>...</td>\n      <td>...</td>\n      <td>...</td>\n      <td>...</td>\n      <td>...</td>\n      <td>...</td>\n    </tr>\n    <tr>\n      <th>380</th>\n      <td>0</td>\n      <td>40th</td>\n      <td>1</td>\n      <td>0.0</td>\n      <td>0.0</td>\n      <td>0.0</td>\n      <td>1.0</td>\n      <td>0.0</td>\n      <td>0.0</td>\n      <td>0.0</td>\n      <td>...</td>\n      <td>-0.838235</td>\n      <td>-0.880952</td>\n      <td>-0.929293</td>\n      <td>-0.876430</td>\n      <td>-0.779962</td>\n      <td>-0.888383</td>\n      <td>-0.811492</td>\n      <td>-0.883840</td>\n      <td>-0.929354</td>\n      <td>1</td>\n    </tr>\n    <tr>\n      <th>381</th>\n      <td>1</td>\n      <td>above_90th</td>\n      <td>0</td>\n      <td>1.0</td>\n      <td>0.0</td>\n      <td>0.0</td>\n      <td>0.0</td>\n      <td>0.0</td>\n      <td>0.0</td>\n      <td>0.0</td>\n      <td>...</td>\n      <td>-0.941176</td>\n      <td>-0.654762</td>\n      <td>-0.979798</td>\n      <td>-0.991304</td>\n      <td>-0.935754</td>\n      <td>-0.902335</td>\n      <td>-0.939068</td>\n      <td>-0.654898</td>\n      <td>-0.980026</td>\n      <td>0</td>\n    </tr>\n    <tr>\n      <th>382</th>\n      <td>0</td>\n      <td>50th</td>\n      <td>0</td>\n      <td>0.0</td>\n      <td>0.0</td>\n      <td>0.0</td>\n      <td>0.0</td>\n      <td>0.0</td>\n      <td>0.0</td>\n      <td>0.0</td>\n      <td>...</td>\n      <td>-0.725490</td>\n      <td>-0.833333</td>\n      <td>-0.946128</td>\n      <td>-0.837999</td>\n      <td>-0.745459</td>\n      <td>-0.872459</td>\n      <td>-0.730617</td>\n      <td>-0.832872</td>\n      <td>-0.945017</td>\n      <td>1</td>\n    </tr>\n    <tr>\n      <th>383</th>\n      <td>0</td>\n      <td>40th</td>\n      <td>1</td>\n      <td>0.0</td>\n      <td>0.0</td>\n      <td>0.0</td>\n      <td>0.0</td>\n      <td>0.0</td>\n      <td>0.0</td>\n      <td>0.0</td>\n      <td>...</td>\n      <td>-0.862745</td>\n      <td>-0.857143</td>\n      <td>-0.946128</td>\n      <td>-0.850932</td>\n      <td>-0.861989</td>\n      <td>-0.852417</td>\n      <td>-0.857826</td>\n      <td>-0.857536</td>\n      <td>-0.946175</td>\n      <td>0</td>\n    </tr>\n    <tr>\n      <th>384</th>\n      <td>0</td>\n      <td>50th</td>\n      <td>1</td>\n      <td>0.0</td>\n      <td>0.0</td>\n      <td>1.0</td>\n      <td>0.0</td>\n      <td>0.0</td>\n      <td>0.0</td>\n      <td>0.0</td>\n      <td>...</td>\n      <td>-0.929412</td>\n      <td>-0.909524</td>\n      <td>-0.967677</td>\n      <td>-0.940373</td>\n      <td>-0.917193</td>\n      <td>-0.952774</td>\n      <td>-0.922581</td>\n      <td>-0.910267</td>\n      <td>-0.967010</td>\n      <td>0</td>\n    </tr>\n  </tbody>\n</table>\n<p>385 rows × 229 columns</p>\n</div>",
      "text/plain": "     age_above65 age_percentil  gender  disease_grouping_1  \\\nid                                                           \n0              1          60th       0                 0.0   \n1              1          90th       1                 0.0   \n2              0          10th       0                 0.0   \n3              0          40th       1                 0.0   \n4              0          10th       0                 0.0   \n..           ...           ...     ...                 ...   \n380            0          40th       1                 0.0   \n381            1    above_90th       0                 1.0   \n382            0          50th       0                 0.0   \n383            0          40th       1                 0.0   \n384            0          50th       1                 0.0   \n\n     disease_grouping_2  disease_grouping_3  disease_grouping_4  \\\nid                                                                \n0                   0.0                 0.0                 0.0   \n1                   0.0                 0.0                 0.0   \n2                   0.0                 0.0                 0.0   \n3                   0.0                 0.0                 0.0   \n4                   0.0                 0.0                 0.0   \n..                  ...                 ...                 ...   \n380                 0.0                 0.0                 1.0   \n381                 0.0                 0.0                 0.0   \n382                 0.0                 0.0                 0.0   \n383                 0.0                 0.0                 0.0   \n384                 0.0                 1.0                 0.0   \n\n     disease_grouping_5  disease_grouping_6  htn  ...  respiratory_rate_diff  \\\nid                                                ...                          \n0                   1.0                 1.0  0.0  ...              -0.607843   \n1                   1.0                 0.0  1.0  ...              -0.600000   \n2                   0.0                 0.0  0.0  ...              -0.803922   \n3                   0.0                 0.0  0.0  ...              -0.784314   \n4                   0.0                 0.0  1.0  ...              -0.901961   \n..                  ...                 ...  ...  ...                    ...   \n380                 0.0                 0.0  0.0  ...              -0.838235   \n381                 0.0                 0.0  0.0  ...              -0.941176   \n382                 0.0                 0.0  0.0  ...              -0.725490   \n383                 0.0                 0.0  0.0  ...              -0.862745   \n384                 0.0                 0.0  0.0  ...              -0.929412   \n\n     temperature_diff  oxygen_saturation_diff  \\\nid                                              \n0           -0.809524               -0.954545   \n1           -0.747619               -0.959596   \n2           -0.750000               -0.885522   \n3           -0.682540               -0.723906   \n4           -0.761905               -0.959596   \n..                ...                     ...   \n380         -0.880952               -0.929293   \n381         -0.654762               -0.979798   \n382         -0.833333               -0.946128   \n383         -0.857143               -0.946128   \n384         -0.909524               -0.967677   \n\n     bloodpressure_diastolic_diff_rel  bloodpressure_sistolic_diff_rel  \\\nid                                                                       \n0                           -0.796656                        -0.530814   \n1                           -0.718228                        -0.726155   \n2                           -0.595604                        -0.419448   \n3                           -0.769565                        -0.685906   \n4                           -0.884058                        -0.826611   \n..                                ...                              ...   \n380                         -0.876430                        -0.779962   \n381                         -0.991304                        -0.935754   \n382                         -0.837999                        -0.745459   \n383                         -0.850932                        -0.861989   \n384                         -0.940373                        -0.917193   \n\n     heart_rate_diff_rel  respiratory_rate_diff_rel  temperature_diff_rel  \\\nid                                                                          \n0              -0.743487                  -0.634409             -0.810570   \n1              -0.836096                  -0.634409             -0.748573   \n2              -0.681860                  -0.792832             -0.752732   \n3              -0.689698                  -0.776583             -0.682540   \n4              -0.839287                  -0.896057             -0.766042   \n..                   ...                        ...                   ...   \n380            -0.888383                  -0.811492             -0.883840   \n381            -0.902335                  -0.939068             -0.654898   \n382            -0.872459                  -0.730617             -0.832872   \n383            -0.852417                  -0.857826             -0.857536   \n384            -0.952774                  -0.922581             -0.910267   \n\n     oxygen_saturation_diff_rel  icu  \nid                                    \n0                     -0.953608    1  \n1                     -0.960463    1  \n2                     -0.887561    1  \n3                     -0.724145    0  \n4                     -0.960291    0  \n..                          ...  ...  \n380                   -0.929354    1  \n381                   -0.980026    0  \n382                   -0.945017    1  \n383                   -0.946175    0  \n384                   -0.967010    0  \n\n[385 rows x 229 columns]"
     },
     "execution_count": 4,
     "metadata": {},
     "output_type": "execute_result"
    }
   ],
   "source": [
    "import json\n",
    "\n",
    "\n",
    "groups_path = Path('../data/groups.json')\n",
    "with groups_path.open('r') as file:\n",
    "    groups = json.load(file)\n",
    "\n",
    "agg_funcs_dict = {\n",
    "    'demographics': 'first',\n",
    "    'comorbidities': 'max',\n",
    "    'labs': 'mean',\n",
    "    'vitals': 'mean',\n",
    "}\n",
    "\n",
    "agg_funcs = {\n",
    "    feature: agg_funcs_dict[group]\n",
    "    for group, feature_list in groups.items()\n",
    "    for feature in feature_list\n",
    "}\n",
    "\n",
    "# icu is not in the groups dictionary.\n",
    "agg_funcs['icu'] = 'max'\n",
    "\n",
    "aggregated_data = (\n",
    "    data.groupby('id')\n",
    "    .agg(agg_funcs)\n",
    ")\n",
    "\n",
    "aggregated_data"
   ]
  },
  {
   "cell_type": "markdown",
   "metadata": {},
   "source": [
    "### One row per patient, but using every value."
   ]
  },
  {
   "cell_type": "markdown",
   "metadata": {},
   "source": [
    "Another option is to put every value a given patient has in a single row by using some kind of a \"pivot\" operation.\n",
    "The upside is that it results in a single row per patient, but without losing any information.\n",
    "The downside is that it can be much more complicated to use these values to make a predictive model."
   ]
  },
  {
   "cell_type": "code",
   "execution_count": 5,
   "metadata": {},
   "outputs": [
    {
     "data": {
      "text/html": "<div>\n<style scoped>\n    .dataframe tbody tr th:only-of-type {\n        vertical-align: middle;\n    }\n\n    .dataframe tbody tr th {\n        vertical-align: top;\n    }\n\n    .dataframe thead th {\n        text-align: right;\n    }\n</style>\n<table border=\"1\" class=\"dataframe\">\n  <thead>\n    <tr style=\"text-align: right;\">\n      <th></th>\n      <th>age_above65</th>\n      <th>age_percentil</th>\n      <th>gender</th>\n      <th>disease_grouping_1</th>\n      <th>disease_grouping_2</th>\n      <th>disease_grouping_3</th>\n      <th>disease_grouping_4</th>\n      <th>disease_grouping_5</th>\n      <th>disease_grouping_6</th>\n      <th>htn</th>\n      <th>...</th>\n      <th>temperature_diff_rel__2_4</th>\n      <th>temperature_diff_rel__4_6</th>\n      <th>temperature_diff_rel__6_12</th>\n      <th>temperature_diff_rel__above_12</th>\n      <th>oxygen_saturation_diff_rel__0_2</th>\n      <th>oxygen_saturation_diff_rel__2_4</th>\n      <th>oxygen_saturation_diff_rel__4_6</th>\n      <th>oxygen_saturation_diff_rel__6_12</th>\n      <th>oxygen_saturation_diff_rel__above_12</th>\n      <th>icu</th>\n    </tr>\n    <tr>\n      <th>id</th>\n      <th></th>\n      <th></th>\n      <th></th>\n      <th></th>\n      <th></th>\n      <th></th>\n      <th></th>\n      <th></th>\n      <th></th>\n      <th></th>\n      <th></th>\n      <th></th>\n      <th></th>\n      <th></th>\n      <th></th>\n      <th></th>\n      <th></th>\n      <th></th>\n      <th></th>\n      <th></th>\n      <th></th>\n    </tr>\n  </thead>\n  <tbody>\n    <tr>\n      <th>0</th>\n      <td>1</td>\n      <td>60th</td>\n      <td>0</td>\n      <td>0.0</td>\n      <td>0.0</td>\n      <td>0.0</td>\n      <td>0.0</td>\n      <td>1.0</td>\n      <td>1.0</td>\n      <td>0.0</td>\n      <td>...</td>\n      <td>-1.0</td>\n      <td>NaN</td>\n      <td>-1.000000</td>\n      <td>-0.242282</td>\n      <td>-1.0</td>\n      <td>-1.0</td>\n      <td>NaN</td>\n      <td>-1.000000</td>\n      <td>-0.814433</td>\n      <td>1</td>\n    </tr>\n    <tr>\n      <th>1</th>\n      <td>1</td>\n      <td>90th</td>\n      <td>1</td>\n      <td>0.0</td>\n      <td>0.0</td>\n      <td>0.0</td>\n      <td>0.0</td>\n      <td>1.0</td>\n      <td>0.0</td>\n      <td>1.0</td>\n      <td>...</td>\n      <td>-1.0</td>\n      <td>-1.000000</td>\n      <td>-0.882574</td>\n      <td>0.139709</td>\n      <td>-1.0</td>\n      <td>-1.0</td>\n      <td>-1.000000</td>\n      <td>-1.000000</td>\n      <td>-0.802317</td>\n      <td>1</td>\n    </tr>\n    <tr>\n      <th>2</th>\n      <td>0</td>\n      <td>10th</td>\n      <td>0</td>\n      <td>0.0</td>\n      <td>0.0</td>\n      <td>0.0</td>\n      <td>0.0</td>\n      <td>0.0</td>\n      <td>0.0</td>\n      <td>0.0</td>\n      <td>...</td>\n      <td>NaN</td>\n      <td>NaN</td>\n      <td>-1.000000</td>\n      <td>-0.505464</td>\n      <td>NaN</td>\n      <td>NaN</td>\n      <td>-0.961262</td>\n      <td>-0.801293</td>\n      <td>-0.900129</td>\n      <td>1</td>\n    </tr>\n    <tr>\n      <th>3</th>\n      <td>0</td>\n      <td>40th</td>\n      <td>1</td>\n      <td>0.0</td>\n      <td>0.0</td>\n      <td>0.0</td>\n      <td>0.0</td>\n      <td>0.0</td>\n      <td>0.0</td>\n      <td>0.0</td>\n      <td>...</td>\n      <td>NaN</td>\n      <td>-1.000000</td>\n      <td>-1.000000</td>\n      <td>-0.047619</td>\n      <td>NaN</td>\n      <td>NaN</td>\n      <td>-1.000000</td>\n      <td>-1.000000</td>\n      <td>-0.172436</td>\n      <td>0</td>\n    </tr>\n    <tr>\n      <th>4</th>\n      <td>0</td>\n      <td>10th</td>\n      <td>0</td>\n      <td>0.0</td>\n      <td>0.0</td>\n      <td>0.0</td>\n      <td>0.0</td>\n      <td>0.0</td>\n      <td>0.0</td>\n      <td>1.0</td>\n      <td>...</td>\n      <td>NaN</td>\n      <td>-0.953536</td>\n      <td>-0.698797</td>\n      <td>-0.645793</td>\n      <td>NaN</td>\n      <td>NaN</td>\n      <td>-0.980333</td>\n      <td>-0.960463</td>\n      <td>-0.940077</td>\n      <td>0</td>\n    </tr>\n    <tr>\n      <th>...</th>\n      <td>...</td>\n      <td>...</td>\n      <td>...</td>\n      <td>...</td>\n      <td>...</td>\n      <td>...</td>\n      <td>...</td>\n      <td>...</td>\n      <td>...</td>\n      <td>...</td>\n      <td>...</td>\n      <td>...</td>\n      <td>...</td>\n      <td>...</td>\n      <td>...</td>\n      <td>...</td>\n      <td>...</td>\n      <td>...</td>\n      <td>...</td>\n      <td>...</td>\n      <td>...</td>\n    </tr>\n    <tr>\n      <th>380</th>\n      <td>0</td>\n      <td>40th</td>\n      <td>1</td>\n      <td>0.0</td>\n      <td>0.0</td>\n      <td>0.0</td>\n      <td>1.0</td>\n      <td>0.0</td>\n      <td>0.0</td>\n      <td>0.0</td>\n      <td>...</td>\n      <td>NaN</td>\n      <td>-1.000000</td>\n      <td>-1.000000</td>\n      <td>-0.535361</td>\n      <td>-1.0</td>\n      <td>NaN</td>\n      <td>-1.000000</td>\n      <td>-1.000000</td>\n      <td>-0.717417</td>\n      <td>1</td>\n    </tr>\n    <tr>\n      <th>381</th>\n      <td>1</td>\n      <td>above_90th</td>\n      <td>0</td>\n      <td>1.0</td>\n      <td>0.0</td>\n      <td>0.0</td>\n      <td>0.0</td>\n      <td>0.0</td>\n      <td>0.0</td>\n      <td>0.0</td>\n      <td>...</td>\n      <td>NaN</td>\n      <td>NaN</td>\n      <td>-0.612627</td>\n      <td>-0.697169</td>\n      <td>NaN</td>\n      <td>NaN</td>\n      <td>NaN</td>\n      <td>-1.000000</td>\n      <td>-0.960052</td>\n      <td>0</td>\n    </tr>\n    <tr>\n      <th>382</th>\n      <td>0</td>\n      <td>50th</td>\n      <td>0</td>\n      <td>0.0</td>\n      <td>0.0</td>\n      <td>0.0</td>\n      <td>0.0</td>\n      <td>0.0</td>\n      <td>0.0</td>\n      <td>0.0</td>\n      <td>...</td>\n      <td>-1.0</td>\n      <td>NaN</td>\n      <td>-1.000000</td>\n      <td>-0.498615</td>\n      <td>NaN</td>\n      <td>-1.0</td>\n      <td>NaN</td>\n      <td>-1.000000</td>\n      <td>-0.835052</td>\n      <td>1</td>\n    </tr>\n    <tr>\n      <th>383</th>\n      <td>0</td>\n      <td>40th</td>\n      <td>1</td>\n      <td>0.0</td>\n      <td>0.0</td>\n      <td>0.0</td>\n      <td>0.0</td>\n      <td>0.0</td>\n      <td>0.0</td>\n      <td>0.0</td>\n      <td>...</td>\n      <td>NaN</td>\n      <td>-1.000000</td>\n      <td>-1.000000</td>\n      <td>-0.572609</td>\n      <td>NaN</td>\n      <td>NaN</td>\n      <td>-1.000000</td>\n      <td>-1.000000</td>\n      <td>-0.838524</td>\n      <td>0</td>\n    </tr>\n    <tr>\n      <th>384</th>\n      <td>0</td>\n      <td>50th</td>\n      <td>1</td>\n      <td>0.0</td>\n      <td>0.0</td>\n      <td>1.0</td>\n      <td>0.0</td>\n      <td>0.0</td>\n      <td>0.0</td>\n      <td>0.0</td>\n      <td>...</td>\n      <td>-1.0</td>\n      <td>-1.000000</td>\n      <td>-1.000000</td>\n      <td>-0.551337</td>\n      <td>-1.0</td>\n      <td>-1.0</td>\n      <td>-1.000000</td>\n      <td>-1.000000</td>\n      <td>-0.835052</td>\n      <td>0</td>\n    </tr>\n  </tbody>\n</table>\n<p>385 rows × 1093 columns</p>\n</div>",
      "text/plain": "     age_above65 age_percentil  gender  disease_grouping_1  \\\nid                                                           \n0              1          60th       0                 0.0   \n1              1          90th       1                 0.0   \n2              0          10th       0                 0.0   \n3              0          40th       1                 0.0   \n4              0          10th       0                 0.0   \n..           ...           ...     ...                 ...   \n380            0          40th       1                 0.0   \n381            1    above_90th       0                 1.0   \n382            0          50th       0                 0.0   \n383            0          40th       1                 0.0   \n384            0          50th       1                 0.0   \n\n     disease_grouping_2  disease_grouping_3  disease_grouping_4  \\\nid                                                                \n0                   0.0                 0.0                 0.0   \n1                   0.0                 0.0                 0.0   \n2                   0.0                 0.0                 0.0   \n3                   0.0                 0.0                 0.0   \n4                   0.0                 0.0                 0.0   \n..                  ...                 ...                 ...   \n380                 0.0                 0.0                 1.0   \n381                 0.0                 0.0                 0.0   \n382                 0.0                 0.0                 0.0   \n383                 0.0                 0.0                 0.0   \n384                 0.0                 1.0                 0.0   \n\n     disease_grouping_5  disease_grouping_6  htn  ...  \\\nid                                                ...   \n0                   1.0                 1.0  0.0  ...   \n1                   1.0                 0.0  1.0  ...   \n2                   0.0                 0.0  0.0  ...   \n3                   0.0                 0.0  0.0  ...   \n4                   0.0                 0.0  1.0  ...   \n..                  ...                 ...  ...  ...   \n380                 0.0                 0.0  0.0  ...   \n381                 0.0                 0.0  0.0  ...   \n382                 0.0                 0.0  0.0  ...   \n383                 0.0                 0.0  0.0  ...   \n384                 0.0                 0.0  0.0  ...   \n\n     temperature_diff_rel__2_4  temperature_diff_rel__4_6  \\\nid                                                          \n0                         -1.0                        NaN   \n1                         -1.0                  -1.000000   \n2                          NaN                        NaN   \n3                          NaN                  -1.000000   \n4                          NaN                  -0.953536   \n..                         ...                        ...   \n380                        NaN                  -1.000000   \n381                        NaN                        NaN   \n382                       -1.0                        NaN   \n383                        NaN                  -1.000000   \n384                       -1.0                  -1.000000   \n\n     temperature_diff_rel__6_12  temperature_diff_rel__above_12  \\\nid                                                                \n0                     -1.000000                       -0.242282   \n1                     -0.882574                        0.139709   \n2                     -1.000000                       -0.505464   \n3                     -1.000000                       -0.047619   \n4                     -0.698797                       -0.645793   \n..                          ...                             ...   \n380                   -1.000000                       -0.535361   \n381                   -0.612627                       -0.697169   \n382                   -1.000000                       -0.498615   \n383                   -1.000000                       -0.572609   \n384                   -1.000000                       -0.551337   \n\n     oxygen_saturation_diff_rel__0_2  oxygen_saturation_diff_rel__2_4  \\\nid                                                                      \n0                               -1.0                             -1.0   \n1                               -1.0                             -1.0   \n2                                NaN                              NaN   \n3                                NaN                              NaN   \n4                                NaN                              NaN   \n..                               ...                              ...   \n380                             -1.0                              NaN   \n381                              NaN                              NaN   \n382                              NaN                             -1.0   \n383                              NaN                              NaN   \n384                             -1.0                             -1.0   \n\n     oxygen_saturation_diff_rel__4_6  oxygen_saturation_diff_rel__6_12  \\\nid                                                                       \n0                                NaN                         -1.000000   \n1                          -1.000000                         -1.000000   \n2                          -0.961262                         -0.801293   \n3                          -1.000000                         -1.000000   \n4                          -0.980333                         -0.960463   \n..                               ...                               ...   \n380                        -1.000000                         -1.000000   \n381                              NaN                         -1.000000   \n382                              NaN                         -1.000000   \n383                        -1.000000                         -1.000000   \n384                        -1.000000                         -1.000000   \n\n     oxygen_saturation_diff_rel__above_12  icu  \nid                                              \n0                               -0.814433    1  \n1                               -0.802317    1  \n2                               -0.900129    1  \n3                               -0.172436    0  \n4                               -0.940077    0  \n..                                    ...  ...  \n380                             -0.717417    1  \n381                             -0.960052    0  \n382                             -0.835052    1  \n383                             -0.838524    0  \n384                             -0.835052    0  \n\n[385 rows x 1093 columns]"
     },
     "execution_count": 5,
     "metadata": {},
     "output_type": "execute_result"
    }
   ],
   "source": [
    "# Only labs and vitals have different values for each time window. The\n",
    "# resulting DataFrame has a MultiIndex (feature, time_window) for its columns.\n",
    "pivoted = data[groups['labs']+groups['vitals']].unstack('window')\n",
    "\n",
    "def flatten_index(multiindex, sep='__'):\n",
    "    '''\n",
    "    Turn ``MultiIndex`` into ``Index``.\n",
    "\n",
    "    Flattens the given ``MultiIndex`` by joining the various levels with\n",
    "    ``sep`` and returns its flattened version, replacing dashes (-) with\n",
    "    underscores (_).\n",
    "    '''\n",
    "    flat_index = sep.join(multiindex).replace('-', '_')\n",
    "\n",
    "    return flat_index\n",
    "\n",
    "pivoted.columns = pivoted.columns.map(flatten_index)\n",
    "\n",
    "# Reconstruct whole DataFrame by concatenating with other features aggregated.\n",
    "pivoted = pd.concat(\n",
    "    [\n",
    "        data[groups['demographics']+groups['comorbidities']].groupby('id').max(),\n",
    "        pivoted,\n",
    "        data['icu'].groupby('id').max(),\n",
    "    ],\n",
    "    axis=1,\n",
    ")\n",
    "\n",
    "pivoted"
   ]
  },
  {
   "cell_type": "markdown",
   "metadata": {},
   "source": [
    "### Every row"
   ]
  },
  {
   "cell_type": "markdown",
   "metadata": {},
   "source": [
    "Finally, using all the dataset's rows.\n",
    "This can be viewed as a kind of data augmentation, in which the data for each patient in perceived as data for 5 distinct patients (one for each time window).\n",
    "Given that each time window brings different values, this procedure will make it possible to supply the model with a lot more data, which may be helpfull to getting better predictions."
   ]
  },
  {
   "cell_type": "code",
   "execution_count": 6,
   "metadata": {},
   "outputs": [
    {
     "data": {
      "text/html": "<div>\n<style scoped>\n    .dataframe tbody tr th:only-of-type {\n        vertical-align: middle;\n    }\n\n    .dataframe tbody tr th {\n        vertical-align: top;\n    }\n\n    .dataframe thead th {\n        text-align: right;\n    }\n</style>\n<table border=\"1\" class=\"dataframe\">\n  <thead>\n    <tr style=\"text-align: right;\">\n      <th></th>\n      <th></th>\n      <th>age_above65</th>\n      <th>age_percentil</th>\n      <th>gender</th>\n      <th>disease_grouping_1</th>\n      <th>disease_grouping_2</th>\n      <th>disease_grouping_3</th>\n      <th>disease_grouping_4</th>\n      <th>disease_grouping_5</th>\n      <th>disease_grouping_6</th>\n      <th>htn</th>\n      <th>...</th>\n      <th>respiratory_rate_diff</th>\n      <th>temperature_diff</th>\n      <th>oxygen_saturation_diff</th>\n      <th>bloodpressure_diastolic_diff_rel</th>\n      <th>bloodpressure_sistolic_diff_rel</th>\n      <th>heart_rate_diff_rel</th>\n      <th>respiratory_rate_diff_rel</th>\n      <th>temperature_diff_rel</th>\n      <th>oxygen_saturation_diff_rel</th>\n      <th>icu</th>\n    </tr>\n    <tr>\n      <th>id</th>\n      <th>window</th>\n      <th></th>\n      <th></th>\n      <th></th>\n      <th></th>\n      <th></th>\n      <th></th>\n      <th></th>\n      <th></th>\n      <th></th>\n      <th></th>\n      <th></th>\n      <th></th>\n      <th></th>\n      <th></th>\n      <th></th>\n      <th></th>\n      <th></th>\n      <th></th>\n      <th></th>\n      <th></th>\n      <th></th>\n    </tr>\n  </thead>\n  <tbody>\n    <tr>\n      <th rowspan=\"5\" valign=\"top\">0</th>\n      <th>0-2</th>\n      <td>1</td>\n      <td>60th</td>\n      <td>0</td>\n      <td>0.0</td>\n      <td>0.0</td>\n      <td>0.0</td>\n      <td>0.0</td>\n      <td>1.0</td>\n      <td>1.0</td>\n      <td>0.0</td>\n      <td>...</td>\n      <td>-1.000000</td>\n      <td>-1.000000</td>\n      <td>-1.000000</td>\n      <td>-1.000000</td>\n      <td>-1.000000</td>\n      <td>-1.000000</td>\n      <td>-1.000000</td>\n      <td>-1.000000</td>\n      <td>-1.000000</td>\n      <td>0</td>\n    </tr>\n    <tr>\n      <th>2-4</th>\n      <td>1</td>\n      <td>60th</td>\n      <td>0</td>\n      <td>0.0</td>\n      <td>0.0</td>\n      <td>0.0</td>\n      <td>0.0</td>\n      <td>1.0</td>\n      <td>1.0</td>\n      <td>0.0</td>\n      <td>...</td>\n      <td>-1.000000</td>\n      <td>-1.000000</td>\n      <td>-1.000000</td>\n      <td>-1.000000</td>\n      <td>-1.000000</td>\n      <td>-1.000000</td>\n      <td>-1.000000</td>\n      <td>-1.000000</td>\n      <td>-1.000000</td>\n      <td>0</td>\n    </tr>\n    <tr>\n      <th>4-6</th>\n      <td>1</td>\n      <td>60th</td>\n      <td>0</td>\n      <td>0.0</td>\n      <td>0.0</td>\n      <td>0.0</td>\n      <td>0.0</td>\n      <td>1.0</td>\n      <td>1.0</td>\n      <td>0.0</td>\n      <td>...</td>\n      <td>NaN</td>\n      <td>NaN</td>\n      <td>NaN</td>\n      <td>NaN</td>\n      <td>NaN</td>\n      <td>NaN</td>\n      <td>NaN</td>\n      <td>NaN</td>\n      <td>NaN</td>\n      <td>0</td>\n    </tr>\n    <tr>\n      <th>6-12</th>\n      <td>1</td>\n      <td>60th</td>\n      <td>0</td>\n      <td>0.0</td>\n      <td>0.0</td>\n      <td>0.0</td>\n      <td>0.0</td>\n      <td>1.0</td>\n      <td>1.0</td>\n      <td>0.0</td>\n      <td>...</td>\n      <td>NaN</td>\n      <td>-1.000000</td>\n      <td>-1.000000</td>\n      <td>NaN</td>\n      <td>NaN</td>\n      <td>NaN</td>\n      <td>NaN</td>\n      <td>-1.000000</td>\n      <td>-1.000000</td>\n      <td>0</td>\n    </tr>\n    <tr>\n      <th>above_12</th>\n      <td>1</td>\n      <td>60th</td>\n      <td>0</td>\n      <td>0.0</td>\n      <td>0.0</td>\n      <td>0.0</td>\n      <td>0.0</td>\n      <td>1.0</td>\n      <td>1.0</td>\n      <td>0.0</td>\n      <td>...</td>\n      <td>0.176471</td>\n      <td>-0.238095</td>\n      <td>-0.818182</td>\n      <td>-0.389967</td>\n      <td>0.407558</td>\n      <td>-0.230462</td>\n      <td>0.096774</td>\n      <td>-0.242282</td>\n      <td>-0.814433</td>\n      <td>1</td>\n    </tr>\n    <tr>\n      <th>...</th>\n      <th>...</th>\n      <td>...</td>\n      <td>...</td>\n      <td>...</td>\n      <td>...</td>\n      <td>...</td>\n      <td>...</td>\n      <td>...</td>\n      <td>...</td>\n      <td>...</td>\n      <td>...</td>\n      <td>...</td>\n      <td>...</td>\n      <td>...</td>\n      <td>...</td>\n      <td>...</td>\n      <td>...</td>\n      <td>...</td>\n      <td>...</td>\n      <td>...</td>\n      <td>...</td>\n      <td>...</td>\n    </tr>\n    <tr>\n      <th rowspan=\"5\" valign=\"top\">384</th>\n      <th>0-2</th>\n      <td>0</td>\n      <td>50th</td>\n      <td>1</td>\n      <td>0.0</td>\n      <td>0.0</td>\n      <td>0.0</td>\n      <td>0.0</td>\n      <td>0.0</td>\n      <td>0.0</td>\n      <td>0.0</td>\n      <td>...</td>\n      <td>-1.000000</td>\n      <td>-1.000000</td>\n      <td>-1.000000</td>\n      <td>-1.000000</td>\n      <td>-1.000000</td>\n      <td>-1.000000</td>\n      <td>-1.000000</td>\n      <td>-1.000000</td>\n      <td>-1.000000</td>\n      <td>0</td>\n    </tr>\n    <tr>\n      <th>2-4</th>\n      <td>0</td>\n      <td>50th</td>\n      <td>1</td>\n      <td>0.0</td>\n      <td>0.0</td>\n      <td>0.0</td>\n      <td>0.0</td>\n      <td>0.0</td>\n      <td>0.0</td>\n      <td>0.0</td>\n      <td>...</td>\n      <td>-1.000000</td>\n      <td>-1.000000</td>\n      <td>-1.000000</td>\n      <td>-1.000000</td>\n      <td>-1.000000</td>\n      <td>-1.000000</td>\n      <td>-1.000000</td>\n      <td>-1.000000</td>\n      <td>-1.000000</td>\n      <td>0</td>\n    </tr>\n    <tr>\n      <th>4-6</th>\n      <td>0</td>\n      <td>50th</td>\n      <td>1</td>\n      <td>0.0</td>\n      <td>0.0</td>\n      <td>0.0</td>\n      <td>0.0</td>\n      <td>0.0</td>\n      <td>0.0</td>\n      <td>0.0</td>\n      <td>...</td>\n      <td>-1.000000</td>\n      <td>-1.000000</td>\n      <td>-1.000000</td>\n      <td>-1.000000</td>\n      <td>-1.000000</td>\n      <td>-1.000000</td>\n      <td>-1.000000</td>\n      <td>-1.000000</td>\n      <td>-1.000000</td>\n      <td>0</td>\n    </tr>\n    <tr>\n      <th>6-12</th>\n      <td>0</td>\n      <td>50th</td>\n      <td>1</td>\n      <td>0.0</td>\n      <td>0.0</td>\n      <td>0.0</td>\n      <td>0.0</td>\n      <td>0.0</td>\n      <td>0.0</td>\n      <td>0.0</td>\n      <td>...</td>\n      <td>-1.000000</td>\n      <td>-1.000000</td>\n      <td>-1.000000</td>\n      <td>-1.000000</td>\n      <td>-1.000000</td>\n      <td>-1.000000</td>\n      <td>-1.000000</td>\n      <td>-1.000000</td>\n      <td>-1.000000</td>\n      <td>0</td>\n    </tr>\n    <tr>\n      <th>above_12</th>\n      <td>0</td>\n      <td>50th</td>\n      <td>1</td>\n      <td>0.0</td>\n      <td>0.0</td>\n      <td>1.0</td>\n      <td>0.0</td>\n      <td>0.0</td>\n      <td>0.0</td>\n      <td>0.0</td>\n      <td>...</td>\n      <td>-0.647059</td>\n      <td>-0.547619</td>\n      <td>-0.838384</td>\n      <td>-0.701863</td>\n      <td>-0.585967</td>\n      <td>-0.763868</td>\n      <td>-0.612903</td>\n      <td>-0.551337</td>\n      <td>-0.835052</td>\n      <td>0</td>\n    </tr>\n  </tbody>\n</table>\n<p>1925 rows × 229 columns</p>\n</div>",
      "text/plain": "              age_above65 age_percentil  gender  disease_grouping_1  \\\nid  window                                                            \n0   0-2                 1          60th       0                 0.0   \n    2-4                 1          60th       0                 0.0   \n    4-6                 1          60th       0                 0.0   \n    6-12                1          60th       0                 0.0   \n    above_12            1          60th       0                 0.0   \n...                   ...           ...     ...                 ...   \n384 0-2                 0          50th       1                 0.0   \n    2-4                 0          50th       1                 0.0   \n    4-6                 0          50th       1                 0.0   \n    6-12                0          50th       1                 0.0   \n    above_12            0          50th       1                 0.0   \n\n              disease_grouping_2  disease_grouping_3  disease_grouping_4  \\\nid  window                                                                 \n0   0-2                      0.0                 0.0                 0.0   \n    2-4                      0.0                 0.0                 0.0   \n    4-6                      0.0                 0.0                 0.0   \n    6-12                     0.0                 0.0                 0.0   \n    above_12                 0.0                 0.0                 0.0   \n...                          ...                 ...                 ...   \n384 0-2                      0.0                 0.0                 0.0   \n    2-4                      0.0                 0.0                 0.0   \n    4-6                      0.0                 0.0                 0.0   \n    6-12                     0.0                 0.0                 0.0   \n    above_12                 0.0                 1.0                 0.0   \n\n              disease_grouping_5  disease_grouping_6  htn  ...  \\\nid  window                                                 ...   \n0   0-2                      1.0                 1.0  0.0  ...   \n    2-4                      1.0                 1.0  0.0  ...   \n    4-6                      1.0                 1.0  0.0  ...   \n    6-12                     1.0                 1.0  0.0  ...   \n    above_12                 1.0                 1.0  0.0  ...   \n...                          ...                 ...  ...  ...   \n384 0-2                      0.0                 0.0  0.0  ...   \n    2-4                      0.0                 0.0  0.0  ...   \n    4-6                      0.0                 0.0  0.0  ...   \n    6-12                     0.0                 0.0  0.0  ...   \n    above_12                 0.0                 0.0  0.0  ...   \n\n              respiratory_rate_diff  temperature_diff  oxygen_saturation_diff  \\\nid  window                                                                      \n0   0-2                   -1.000000         -1.000000               -1.000000   \n    2-4                   -1.000000         -1.000000               -1.000000   \n    4-6                         NaN               NaN                     NaN   \n    6-12                        NaN         -1.000000               -1.000000   \n    above_12               0.176471         -0.238095               -0.818182   \n...                             ...               ...                     ...   \n384 0-2                   -1.000000         -1.000000               -1.000000   \n    2-4                   -1.000000         -1.000000               -1.000000   \n    4-6                   -1.000000         -1.000000               -1.000000   \n    6-12                  -1.000000         -1.000000               -1.000000   \n    above_12              -0.647059         -0.547619               -0.838384   \n\n              bloodpressure_diastolic_diff_rel  \\\nid  window                                       \n0   0-2                              -1.000000   \n    2-4                              -1.000000   \n    4-6                                    NaN   \n    6-12                                   NaN   \n    above_12                         -0.389967   \n...                                        ...   \n384 0-2                              -1.000000   \n    2-4                              -1.000000   \n    4-6                              -1.000000   \n    6-12                             -1.000000   \n    above_12                         -0.701863   \n\n              bloodpressure_sistolic_diff_rel  heart_rate_diff_rel  \\\nid  window                                                           \n0   0-2                             -1.000000            -1.000000   \n    2-4                             -1.000000            -1.000000   \n    4-6                                   NaN                  NaN   \n    6-12                                  NaN                  NaN   \n    above_12                         0.407558            -0.230462   \n...                                       ...                  ...   \n384 0-2                             -1.000000            -1.000000   \n    2-4                             -1.000000            -1.000000   \n    4-6                             -1.000000            -1.000000   \n    6-12                            -1.000000            -1.000000   \n    above_12                        -0.585967            -0.763868   \n\n              respiratory_rate_diff_rel  temperature_diff_rel  \\\nid  window                                                      \n0   0-2                       -1.000000             -1.000000   \n    2-4                       -1.000000             -1.000000   \n    4-6                             NaN                   NaN   \n    6-12                            NaN             -1.000000   \n    above_12                   0.096774             -0.242282   \n...                                 ...                   ...   \n384 0-2                       -1.000000             -1.000000   \n    2-4                       -1.000000             -1.000000   \n    4-6                       -1.000000             -1.000000   \n    6-12                      -1.000000             -1.000000   \n    above_12                  -0.612903             -0.551337   \n\n              oxygen_saturation_diff_rel  icu  \nid  window                                     \n0   0-2                        -1.000000    0  \n    2-4                        -1.000000    0  \n    4-6                              NaN    0  \n    6-12                       -1.000000    0  \n    above_12                   -0.814433    1  \n...                                  ...  ...  \n384 0-2                        -1.000000    0  \n    2-4                        -1.000000    0  \n    4-6                        -1.000000    0  \n    6-12                       -1.000000    0  \n    above_12                   -0.835052    0  \n\n[1925 rows x 229 columns]"
     },
     "execution_count": 6,
     "metadata": {},
     "output_type": "execute_result"
    }
   ],
   "source": [
    "data"
   ]
  },
  {
   "cell_type": "markdown",
   "metadata": {},
   "source": [
    "### Summary"
   ]
  },
  {
   "cell_type": "markdown",
   "metadata": {},
   "source": [
    "Given the dataset's nature, it be can worked in several different ways in regard to the rows. For each patient, it is possible to\n",
    "\n",
    "- Take the first time window;\n",
    "- Aggregate every time window into a single value;\n",
    "- Pivot the data so that every value for the given patient is contained in a single row;\n",
    "- Use every row as is.\n",
    "\n",
    "In this project, modelling this predictive problem will be tried using each of these methods.\n",
    "Also, the time windows after the patient's admission will not be discarded."
   ]
  },
  {
   "cell_type": "markdown",
   "metadata": {},
   "source": [
    "## Discarding redundant columns"
   ]
  },
  {
   "cell_type": "markdown",
   "metadata": {},
   "source": [
    "Every *lab* and *vital* feature has associated with it a *diff* variable (defined as *max* - *min*). The *vitals* also have a *_diff_rel* variable (defined as *diff* / *median*).\n",
    "Since those two variables are directly obtained from the other ones, it could be a good option to not consider them in a first model, for the sake of dimensionality reduction."
   ]
  },
  {
   "cell_type": "code",
   "execution_count": 7,
   "metadata": {},
   "outputs": [
    {
     "data": {
      "text/html": "<div>\n<style scoped>\n    .dataframe tbody tr th:only-of-type {\n        vertical-align: middle;\n    }\n\n    .dataframe tbody tr th {\n        vertical-align: top;\n    }\n\n    .dataframe thead th {\n        text-align: right;\n    }\n</style>\n<table border=\"1\" class=\"dataframe\">\n  <thead>\n    <tr style=\"text-align: right;\">\n      <th></th>\n      <th></th>\n      <th>age_above65</th>\n      <th>age_percentil</th>\n      <th>gender</th>\n      <th>disease_grouping_1</th>\n      <th>disease_grouping_2</th>\n      <th>disease_grouping_3</th>\n      <th>disease_grouping_4</th>\n      <th>disease_grouping_5</th>\n      <th>disease_grouping_6</th>\n      <th>htn</th>\n      <th>...</th>\n      <th>respiratory_rate_min</th>\n      <th>temperature_min</th>\n      <th>oxygen_saturation_min</th>\n      <th>bloodpressure_diastolic_max</th>\n      <th>bloodpressure_sistolic_max</th>\n      <th>heart_rate_max</th>\n      <th>respiratory_rate_max</th>\n      <th>temperature_max</th>\n      <th>oxygen_saturation_max</th>\n      <th>icu</th>\n    </tr>\n    <tr>\n      <th>id</th>\n      <th>window</th>\n      <th></th>\n      <th></th>\n      <th></th>\n      <th></th>\n      <th></th>\n      <th></th>\n      <th></th>\n      <th></th>\n      <th></th>\n      <th></th>\n      <th></th>\n      <th></th>\n      <th></th>\n      <th></th>\n      <th></th>\n      <th></th>\n      <th></th>\n      <th></th>\n      <th></th>\n      <th></th>\n      <th></th>\n    </tr>\n  </thead>\n  <tbody>\n    <tr>\n      <th rowspan=\"5\" valign=\"top\">0</th>\n      <th>0-2</th>\n      <td>1</td>\n      <td>60th</td>\n      <td>0</td>\n      <td>0.0</td>\n      <td>0.0</td>\n      <td>0.0</td>\n      <td>0.0</td>\n      <td>1.0</td>\n      <td>1.0</td>\n      <td>0.0</td>\n      <td>...</td>\n      <td>-0.500000</td>\n      <td>0.208791</td>\n      <td>0.898990</td>\n      <td>-0.247863</td>\n      <td>-0.459459</td>\n      <td>-0.432836</td>\n      <td>-0.636364</td>\n      <td>-0.420290</td>\n      <td>0.736842</td>\n      <td>0</td>\n    </tr>\n    <tr>\n      <th>2-4</th>\n      <td>1</td>\n      <td>60th</td>\n      <td>0</td>\n      <td>0.0</td>\n      <td>0.0</td>\n      <td>0.0</td>\n      <td>0.0</td>\n      <td>1.0</td>\n      <td>1.0</td>\n      <td>0.0</td>\n      <td>...</td>\n      <td>-0.500000</td>\n      <td>0.714286</td>\n      <td>0.838384</td>\n      <td>-0.076923</td>\n      <td>-0.459459</td>\n      <td>-0.313433</td>\n      <td>-0.636364</td>\n      <td>0.246377</td>\n      <td>0.578947</td>\n      <td>0</td>\n    </tr>\n    <tr>\n      <th>4-6</th>\n      <td>1</td>\n      <td>60th</td>\n      <td>0</td>\n      <td>0.0</td>\n      <td>0.0</td>\n      <td>0.0</td>\n      <td>0.0</td>\n      <td>1.0</td>\n      <td>1.0</td>\n      <td>0.0</td>\n      <td>...</td>\n      <td>NaN</td>\n      <td>NaN</td>\n      <td>NaN</td>\n      <td>NaN</td>\n      <td>NaN</td>\n      <td>NaN</td>\n      <td>NaN</td>\n      <td>NaN</td>\n      <td>NaN</td>\n      <td>0</td>\n    </tr>\n    <tr>\n      <th>6-12</th>\n      <td>1</td>\n      <td>60th</td>\n      <td>0</td>\n      <td>0.0</td>\n      <td>0.0</td>\n      <td>0.0</td>\n      <td>0.0</td>\n      <td>1.0</td>\n      <td>1.0</td>\n      <td>0.0</td>\n      <td>...</td>\n      <td>NaN</td>\n      <td>0.318681</td>\n      <td>0.898990</td>\n      <td>NaN</td>\n      <td>NaN</td>\n      <td>NaN</td>\n      <td>NaN</td>\n      <td>-0.275362</td>\n      <td>0.736842</td>\n      <td>0</td>\n    </tr>\n    <tr>\n      <th>above_12</th>\n      <td>1</td>\n      <td>60th</td>\n      <td>0</td>\n      <td>0.0</td>\n      <td>0.0</td>\n      <td>0.0</td>\n      <td>0.0</td>\n      <td>1.0</td>\n      <td>1.0</td>\n      <td>0.0</td>\n      <td>...</td>\n      <td>-0.857143</td>\n      <td>0.098901</td>\n      <td>0.797980</td>\n      <td>-0.076923</td>\n      <td>0.286486</td>\n      <td>0.298507</td>\n      <td>0.272727</td>\n      <td>0.362319</td>\n      <td>0.947368</td>\n      <td>1</td>\n    </tr>\n    <tr>\n      <th>...</th>\n      <th>...</th>\n      <td>...</td>\n      <td>...</td>\n      <td>...</td>\n      <td>...</td>\n      <td>...</td>\n      <td>...</td>\n      <td>...</td>\n      <td>...</td>\n      <td>...</td>\n      <td>...</td>\n      <td>...</td>\n      <td>...</td>\n      <td>...</td>\n      <td>...</td>\n      <td>...</td>\n      <td>...</td>\n      <td>...</td>\n      <td>...</td>\n      <td>...</td>\n      <td>...</td>\n      <td>...</td>\n    </tr>\n    <tr>\n      <th rowspan=\"5\" valign=\"top\">384</th>\n      <th>0-2</th>\n      <td>0</td>\n      <td>50th</td>\n      <td>1</td>\n      <td>0.0</td>\n      <td>0.0</td>\n      <td>0.0</td>\n      <td>0.0</td>\n      <td>0.0</td>\n      <td>0.0</td>\n      <td>0.0</td>\n      <td>...</td>\n      <td>-0.428571</td>\n      <td>0.714286</td>\n      <td>0.919192</td>\n      <td>-0.299145</td>\n      <td>-0.502703</td>\n      <td>-0.164179</td>\n      <td>-0.575758</td>\n      <td>0.246377</td>\n      <td>0.789474</td>\n      <td>0</td>\n    </tr>\n    <tr>\n      <th>2-4</th>\n      <td>0</td>\n      <td>50th</td>\n      <td>1</td>\n      <td>0.0</td>\n      <td>0.0</td>\n      <td>0.0</td>\n      <td>0.0</td>\n      <td>0.0</td>\n      <td>0.0</td>\n      <td>0.0</td>\n      <td>...</td>\n      <td>-0.500000</td>\n      <td>0.472527</td>\n      <td>0.838384</td>\n      <td>-0.247863</td>\n      <td>-0.567568</td>\n      <td>-0.298507</td>\n      <td>-0.636364</td>\n      <td>-0.072464</td>\n      <td>0.578947</td>\n      <td>0</td>\n    </tr>\n    <tr>\n      <th>4-6</th>\n      <td>0</td>\n      <td>50th</td>\n      <td>1</td>\n      <td>0.0</td>\n      <td>0.0</td>\n      <td>0.0</td>\n      <td>0.0</td>\n      <td>0.0</td>\n      <td>0.0</td>\n      <td>0.0</td>\n      <td>...</td>\n      <td>-0.500000</td>\n      <td>0.472527</td>\n      <td>0.898990</td>\n      <td>-0.247863</td>\n      <td>-0.459459</td>\n      <td>-0.343284</td>\n      <td>-0.636364</td>\n      <td>-0.072464</td>\n      <td>0.736842</td>\n      <td>0</td>\n    </tr>\n    <tr>\n      <th>6-12</th>\n      <td>0</td>\n      <td>50th</td>\n      <td>1</td>\n      <td>0.0</td>\n      <td>0.0</td>\n      <td>0.0</td>\n      <td>0.0</td>\n      <td>0.0</td>\n      <td>0.0</td>\n      <td>0.0</td>\n      <td>...</td>\n      <td>-0.571429</td>\n      <td>0.560440</td>\n      <td>0.797980</td>\n      <td>-0.162393</td>\n      <td>-0.567568</td>\n      <td>-0.358209</td>\n      <td>-0.696970</td>\n      <td>0.043478</td>\n      <td>0.473684</td>\n      <td>0</td>\n    </tr>\n    <tr>\n      <th>above_12</th>\n      <td>0</td>\n      <td>50th</td>\n      <td>1</td>\n      <td>0.0</td>\n      <td>0.0</td>\n      <td>1.0</td>\n      <td>0.0</td>\n      <td>0.0</td>\n      <td>0.0</td>\n      <td>0.0</td>\n      <td>...</td>\n      <td>-0.785714</td>\n      <td>0.186813</td>\n      <td>0.777778</td>\n      <td>-0.247863</td>\n      <td>-0.470270</td>\n      <td>-0.149254</td>\n      <td>-0.515152</td>\n      <td>0.101449</td>\n      <td>0.842105</td>\n      <td>0</td>\n    </tr>\n  </tbody>\n</table>\n<p>1925 rows × 181 columns</p>\n</div>",
      "text/plain": "              age_above65 age_percentil  gender  disease_grouping_1  \\\nid  window                                                            \n0   0-2                 1          60th       0                 0.0   \n    2-4                 1          60th       0                 0.0   \n    4-6                 1          60th       0                 0.0   \n    6-12                1          60th       0                 0.0   \n    above_12            1          60th       0                 0.0   \n...                   ...           ...     ...                 ...   \n384 0-2                 0          50th       1                 0.0   \n    2-4                 0          50th       1                 0.0   \n    4-6                 0          50th       1                 0.0   \n    6-12                0          50th       1                 0.0   \n    above_12            0          50th       1                 0.0   \n\n              disease_grouping_2  disease_grouping_3  disease_grouping_4  \\\nid  window                                                                 \n0   0-2                      0.0                 0.0                 0.0   \n    2-4                      0.0                 0.0                 0.0   \n    4-6                      0.0                 0.0                 0.0   \n    6-12                     0.0                 0.0                 0.0   \n    above_12                 0.0                 0.0                 0.0   \n...                          ...                 ...                 ...   \n384 0-2                      0.0                 0.0                 0.0   \n    2-4                      0.0                 0.0                 0.0   \n    4-6                      0.0                 0.0                 0.0   \n    6-12                     0.0                 0.0                 0.0   \n    above_12                 0.0                 1.0                 0.0   \n\n              disease_grouping_5  disease_grouping_6  htn  ...  \\\nid  window                                                 ...   \n0   0-2                      1.0                 1.0  0.0  ...   \n    2-4                      1.0                 1.0  0.0  ...   \n    4-6                      1.0                 1.0  0.0  ...   \n    6-12                     1.0                 1.0  0.0  ...   \n    above_12                 1.0                 1.0  0.0  ...   \n...                          ...                 ...  ...  ...   \n384 0-2                      0.0                 0.0  0.0  ...   \n    2-4                      0.0                 0.0  0.0  ...   \n    4-6                      0.0                 0.0  0.0  ...   \n    6-12                     0.0                 0.0  0.0  ...   \n    above_12                 0.0                 0.0  0.0  ...   \n\n              respiratory_rate_min  temperature_min  oxygen_saturation_min  \\\nid  window                                                                   \n0   0-2                  -0.500000         0.208791               0.898990   \n    2-4                  -0.500000         0.714286               0.838384   \n    4-6                        NaN              NaN                    NaN   \n    6-12                       NaN         0.318681               0.898990   \n    above_12             -0.857143         0.098901               0.797980   \n...                            ...              ...                    ...   \n384 0-2                  -0.428571         0.714286               0.919192   \n    2-4                  -0.500000         0.472527               0.838384   \n    4-6                  -0.500000         0.472527               0.898990   \n    6-12                 -0.571429         0.560440               0.797980   \n    above_12             -0.785714         0.186813               0.777778   \n\n              bloodpressure_diastolic_max  bloodpressure_sistolic_max  \\\nid  window                                                              \n0   0-2                         -0.247863                   -0.459459   \n    2-4                         -0.076923                   -0.459459   \n    4-6                               NaN                         NaN   \n    6-12                              NaN                         NaN   \n    above_12                    -0.076923                    0.286486   \n...                                   ...                         ...   \n384 0-2                         -0.299145                   -0.502703   \n    2-4                         -0.247863                   -0.567568   \n    4-6                         -0.247863                   -0.459459   \n    6-12                        -0.162393                   -0.567568   \n    above_12                    -0.247863                   -0.470270   \n\n              heart_rate_max  respiratory_rate_max  temperature_max  \\\nid  window                                                            \n0   0-2            -0.432836             -0.636364        -0.420290   \n    2-4            -0.313433             -0.636364         0.246377   \n    4-6                  NaN                   NaN              NaN   \n    6-12                 NaN                   NaN        -0.275362   \n    above_12        0.298507              0.272727         0.362319   \n...                      ...                   ...              ...   \n384 0-2            -0.164179             -0.575758         0.246377   \n    2-4            -0.298507             -0.636364        -0.072464   \n    4-6            -0.343284             -0.636364        -0.072464   \n    6-12           -0.358209             -0.696970         0.043478   \n    above_12       -0.149254             -0.515152         0.101449   \n\n              oxygen_saturation_max  icu  \nid  window                                \n0   0-2                    0.736842    0  \n    2-4                    0.578947    0  \n    4-6                         NaN    0  \n    6-12                   0.736842    0  \n    above_12               0.947368    1  \n...                             ...  ...  \n384 0-2                    0.789474    0  \n    2-4                    0.578947    0  \n    4-6                    0.736842    0  \n    6-12                   0.473684    0  \n    above_12               0.842105    0  \n\n[1925 rows x 181 columns]"
     },
     "execution_count": 7,
     "metadata": {},
     "output_type": "execute_result"
    }
   ],
   "source": [
    "def drop_redundant_columns(df):\n",
    "    '''\n",
    "    Drop redundant columns from the ``DataFrame``.\n",
    "\n",
    "    Returns the ``DataFrame`` with the ``_diff`` and ``_diff_rel`` columns\n",
    "    removed.\n",
    "    '''\n",
    "    redundant_features = (\n",
    "        df.columns\n",
    "        .str.extract('(\\w+_diff(?:_rel)?(?:__.+)?)')\n",
    "        .squeeze()\n",
    "        .dropna()\n",
    "    )\n",
    "\n",
    "    out_df = df.drop(redundant_features, axis=1)\n",
    "\n",
    "    return out_df\n",
    "\n",
    "drop_redundant_columns(data)"
   ]
  },
  {
   "cell_type": "markdown",
   "metadata": {},
   "source": [
    "## Removing duplicated columns"
   ]
  },
  {
   "cell_type": "markdown",
   "metadata": {},
   "source": [
    "Some columns in this dataset are duplicated and should be removed."
   ]
  },
  {
   "cell_type": "markdown",
   "metadata": {},
   "source": [
    "### Comorbidities"
   ]
  },
  {
   "cell_type": "code",
   "execution_count": 8,
   "metadata": {},
   "outputs": [
    {
     "data": {
      "text/plain": "Index([], dtype='object')"
     },
     "execution_count": 8,
     "metadata": {},
     "output_type": "execute_result"
    }
   ],
   "source": [
    "duplicated_comorbidities = (\n",
    "    data.loc[:, groups['comorbidities']]\n",
    "    .columns[\n",
    "        data[groups['comorbidities']]\n",
    "        .T\n",
    "        .duplicated()\n",
    "    ]\n",
    ")\n",
    "\n",
    "duplicated_comorbidities"
   ]
  },
  {
   "cell_type": "markdown",
   "metadata": {},
   "source": [
    "### Demographics"
   ]
  },
  {
   "cell_type": "code",
   "execution_count": 9,
   "metadata": {},
   "outputs": [
    {
     "data": {
      "text/plain": "Index([], dtype='object')"
     },
     "execution_count": 9,
     "metadata": {},
     "output_type": "execute_result"
    }
   ],
   "source": [
    "duplicated_demographics = (\n",
    "    data.loc[:, groups['demographics']]\n",
    "    .columns[\n",
    "        data[groups['demographics']]\n",
    "        .T\n",
    "        .duplicated()\n",
    "    ]\n",
    ")\n",
    "\n",
    "duplicated_demographics"
   ]
  },
  {
   "cell_type": "markdown",
   "metadata": {},
   "source": [
    "### Labs"
   ]
  },
  {
   "cell_type": "code",
   "execution_count": 10,
   "metadata": {},
   "outputs": [
    {
     "data": {
      "text/plain": "Index(['albumin_mean', 'albumin_min', 'albumin_max', 'be_arterial_mean',\n       'be_arterial_min', 'be_arterial_max', 'be_arterial_diff',\n       'be_venous_mean', 'be_venous_min', 'be_venous_max',\n       ...\n       'ttpa_max', 'ttpa_diff', 'urea_mean', 'urea_min', 'urea_max',\n       'urea_diff', 'dimer_mean', 'dimer_min', 'dimer_max', 'dimer_diff'],\n      dtype='object', length=143)"
     },
     "execution_count": 10,
     "metadata": {},
     "output_type": "execute_result"
    }
   ],
   "source": [
    "duplicated_labs = (\n",
    "    data.loc[:, groups['labs']]\n",
    "    .columns[\n",
    "        data[groups['labs']]\n",
    "        .T\n",
    "        .duplicated()\n",
    "    ]\n",
    ")\n",
    "\n",
    "duplicated_labs"
   ]
  },
  {
   "cell_type": "code",
   "execution_count": 11,
   "metadata": {},
   "outputs": [
    {
     "data": {
      "text/plain": "diff      36\nmax       36\nmean      36\nmedian    36\nmin       36\ndtype: int64"
     },
     "execution_count": 11,
     "metadata": {},
     "output_type": "execute_result"
    }
   ],
   "source": [
    "data_dropped_labs = (\n",
    "    data\n",
    "    .loc[:, groups['labs']]\n",
    "    .drop(duplicated_labs, axis=1)\n",
    ")\n",
    "\n",
    "(\n",
    "    data[groups['labs']]\n",
    "    .columns\n",
    "    .str.extract('(max|mean|median|min|diff|diff_rel)$')\n",
    "    .value_counts()\n",
    ")"
   ]
  },
  {
   "cell_type": "markdown",
   "metadata": {},
   "source": [
    "After dropping every duplicated lab result, there are 36 columns remaining, all of them being *max*.\n",
    "Since there were originally 36 lab results, that implies every different value (*max*, *mean*, etc.) for each of them was repeated.\n",
    "That probably means only one lab test was collected in each time window (which would explain equal values for all statistics)."
   ]
  },
  {
   "cell_type": "markdown",
   "metadata": {},
   "source": [
    "### Vitals"
   ]
  },
  {
   "cell_type": "code",
   "execution_count": 12,
   "metadata": {},
   "outputs": [
    {
     "data": {
      "text/plain": "Index([], dtype='object')"
     },
     "execution_count": 12,
     "metadata": {},
     "output_type": "execute_result"
    }
   ],
   "source": [
    "duplicated_vitals = (\n",
    "    data.loc[:, groups['vitals']]\n",
    "    .columns[\n",
    "        data[groups['vitals']]\n",
    "        .T\n",
    "        .duplicated()\n",
    "    ]\n",
    ")\n",
    "\n",
    "duplicated_vitals"
   ]
  },
  {
   "cell_type": "markdown",
   "metadata": {},
   "source": [
    "### Removing duplicated columns"
   ]
  },
  {
   "cell_type": "markdown",
   "metadata": {},
   "source": [
    "Only the *labs* results are duplicated and for each feature all statistics are equal.\n",
    "For that reason, a function can be defined to drop all *labs* features but *max*."
   ]
  },
  {
   "cell_type": "code",
   "execution_count": 13,
   "metadata": {},
   "outputs": [
    {
     "data": {
      "text/html": "<div>\n<style scoped>\n    .dataframe tbody tr th:only-of-type {\n        vertical-align: middle;\n    }\n\n    .dataframe tbody tr th {\n        vertical-align: top;\n    }\n\n    .dataframe thead th {\n        text-align: right;\n    }\n</style>\n<table border=\"1\" class=\"dataframe\">\n  <thead>\n    <tr style=\"text-align: right;\">\n      <th></th>\n      <th></th>\n      <th>age_above65</th>\n      <th>age_percentil</th>\n      <th>gender</th>\n      <th>disease_grouping_1</th>\n      <th>disease_grouping_2</th>\n      <th>disease_grouping_3</th>\n      <th>disease_grouping_4</th>\n      <th>disease_grouping_5</th>\n      <th>disease_grouping_6</th>\n      <th>htn</th>\n      <th>...</th>\n      <th>respiratory_rate_diff</th>\n      <th>temperature_diff</th>\n      <th>oxygen_saturation_diff</th>\n      <th>bloodpressure_diastolic_diff_rel</th>\n      <th>bloodpressure_sistolic_diff_rel</th>\n      <th>heart_rate_diff_rel</th>\n      <th>respiratory_rate_diff_rel</th>\n      <th>temperature_diff_rel</th>\n      <th>oxygen_saturation_diff_rel</th>\n      <th>icu</th>\n    </tr>\n    <tr>\n      <th>id</th>\n      <th>window</th>\n      <th></th>\n      <th></th>\n      <th></th>\n      <th></th>\n      <th></th>\n      <th></th>\n      <th></th>\n      <th></th>\n      <th></th>\n      <th></th>\n      <th></th>\n      <th></th>\n      <th></th>\n      <th></th>\n      <th></th>\n      <th></th>\n      <th></th>\n      <th></th>\n      <th></th>\n      <th></th>\n      <th></th>\n    </tr>\n  </thead>\n  <tbody>\n    <tr>\n      <th rowspan=\"5\" valign=\"top\">0</th>\n      <th>0-2</th>\n      <td>1</td>\n      <td>60th</td>\n      <td>0</td>\n      <td>0.0</td>\n      <td>0.0</td>\n      <td>0.0</td>\n      <td>0.0</td>\n      <td>1.0</td>\n      <td>1.0</td>\n      <td>0.0</td>\n      <td>...</td>\n      <td>-1.000000</td>\n      <td>-1.000000</td>\n      <td>-1.000000</td>\n      <td>-1.000000</td>\n      <td>-1.000000</td>\n      <td>-1.000000</td>\n      <td>-1.000000</td>\n      <td>-1.000000</td>\n      <td>-1.000000</td>\n      <td>0</td>\n    </tr>\n    <tr>\n      <th>2-4</th>\n      <td>1</td>\n      <td>60th</td>\n      <td>0</td>\n      <td>0.0</td>\n      <td>0.0</td>\n      <td>0.0</td>\n      <td>0.0</td>\n      <td>1.0</td>\n      <td>1.0</td>\n      <td>0.0</td>\n      <td>...</td>\n      <td>-1.000000</td>\n      <td>-1.000000</td>\n      <td>-1.000000</td>\n      <td>-1.000000</td>\n      <td>-1.000000</td>\n      <td>-1.000000</td>\n      <td>-1.000000</td>\n      <td>-1.000000</td>\n      <td>-1.000000</td>\n      <td>0</td>\n    </tr>\n    <tr>\n      <th>4-6</th>\n      <td>1</td>\n      <td>60th</td>\n      <td>0</td>\n      <td>0.0</td>\n      <td>0.0</td>\n      <td>0.0</td>\n      <td>0.0</td>\n      <td>1.0</td>\n      <td>1.0</td>\n      <td>0.0</td>\n      <td>...</td>\n      <td>NaN</td>\n      <td>NaN</td>\n      <td>NaN</td>\n      <td>NaN</td>\n      <td>NaN</td>\n      <td>NaN</td>\n      <td>NaN</td>\n      <td>NaN</td>\n      <td>NaN</td>\n      <td>0</td>\n    </tr>\n    <tr>\n      <th>6-12</th>\n      <td>1</td>\n      <td>60th</td>\n      <td>0</td>\n      <td>0.0</td>\n      <td>0.0</td>\n      <td>0.0</td>\n      <td>0.0</td>\n      <td>1.0</td>\n      <td>1.0</td>\n      <td>0.0</td>\n      <td>...</td>\n      <td>NaN</td>\n      <td>-1.000000</td>\n      <td>-1.000000</td>\n      <td>NaN</td>\n      <td>NaN</td>\n      <td>NaN</td>\n      <td>NaN</td>\n      <td>-1.000000</td>\n      <td>-1.000000</td>\n      <td>0</td>\n    </tr>\n    <tr>\n      <th>above_12</th>\n      <td>1</td>\n      <td>60th</td>\n      <td>0</td>\n      <td>0.0</td>\n      <td>0.0</td>\n      <td>0.0</td>\n      <td>0.0</td>\n      <td>1.0</td>\n      <td>1.0</td>\n      <td>0.0</td>\n      <td>...</td>\n      <td>0.176471</td>\n      <td>-0.238095</td>\n      <td>-0.818182</td>\n      <td>-0.389967</td>\n      <td>0.407558</td>\n      <td>-0.230462</td>\n      <td>0.096774</td>\n      <td>-0.242282</td>\n      <td>-0.814433</td>\n      <td>1</td>\n    </tr>\n    <tr>\n      <th>...</th>\n      <th>...</th>\n      <td>...</td>\n      <td>...</td>\n      <td>...</td>\n      <td>...</td>\n      <td>...</td>\n      <td>...</td>\n      <td>...</td>\n      <td>...</td>\n      <td>...</td>\n      <td>...</td>\n      <td>...</td>\n      <td>...</td>\n      <td>...</td>\n      <td>...</td>\n      <td>...</td>\n      <td>...</td>\n      <td>...</td>\n      <td>...</td>\n      <td>...</td>\n      <td>...</td>\n      <td>...</td>\n    </tr>\n    <tr>\n      <th rowspan=\"5\" valign=\"top\">384</th>\n      <th>0-2</th>\n      <td>0</td>\n      <td>50th</td>\n      <td>1</td>\n      <td>0.0</td>\n      <td>0.0</td>\n      <td>0.0</td>\n      <td>0.0</td>\n      <td>0.0</td>\n      <td>0.0</td>\n      <td>0.0</td>\n      <td>...</td>\n      <td>-1.000000</td>\n      <td>-1.000000</td>\n      <td>-1.000000</td>\n      <td>-1.000000</td>\n      <td>-1.000000</td>\n      <td>-1.000000</td>\n      <td>-1.000000</td>\n      <td>-1.000000</td>\n      <td>-1.000000</td>\n      <td>0</td>\n    </tr>\n    <tr>\n      <th>2-4</th>\n      <td>0</td>\n      <td>50th</td>\n      <td>1</td>\n      <td>0.0</td>\n      <td>0.0</td>\n      <td>0.0</td>\n      <td>0.0</td>\n      <td>0.0</td>\n      <td>0.0</td>\n      <td>0.0</td>\n      <td>...</td>\n      <td>-1.000000</td>\n      <td>-1.000000</td>\n      <td>-1.000000</td>\n      <td>-1.000000</td>\n      <td>-1.000000</td>\n      <td>-1.000000</td>\n      <td>-1.000000</td>\n      <td>-1.000000</td>\n      <td>-1.000000</td>\n      <td>0</td>\n    </tr>\n    <tr>\n      <th>4-6</th>\n      <td>0</td>\n      <td>50th</td>\n      <td>1</td>\n      <td>0.0</td>\n      <td>0.0</td>\n      <td>0.0</td>\n      <td>0.0</td>\n      <td>0.0</td>\n      <td>0.0</td>\n      <td>0.0</td>\n      <td>...</td>\n      <td>-1.000000</td>\n      <td>-1.000000</td>\n      <td>-1.000000</td>\n      <td>-1.000000</td>\n      <td>-1.000000</td>\n      <td>-1.000000</td>\n      <td>-1.000000</td>\n      <td>-1.000000</td>\n      <td>-1.000000</td>\n      <td>0</td>\n    </tr>\n    <tr>\n      <th>6-12</th>\n      <td>0</td>\n      <td>50th</td>\n      <td>1</td>\n      <td>0.0</td>\n      <td>0.0</td>\n      <td>0.0</td>\n      <td>0.0</td>\n      <td>0.0</td>\n      <td>0.0</td>\n      <td>0.0</td>\n      <td>...</td>\n      <td>-1.000000</td>\n      <td>-1.000000</td>\n      <td>-1.000000</td>\n      <td>-1.000000</td>\n      <td>-1.000000</td>\n      <td>-1.000000</td>\n      <td>-1.000000</td>\n      <td>-1.000000</td>\n      <td>-1.000000</td>\n      <td>0</td>\n    </tr>\n    <tr>\n      <th>above_12</th>\n      <td>0</td>\n      <td>50th</td>\n      <td>1</td>\n      <td>0.0</td>\n      <td>0.0</td>\n      <td>1.0</td>\n      <td>0.0</td>\n      <td>0.0</td>\n      <td>0.0</td>\n      <td>0.0</td>\n      <td>...</td>\n      <td>-0.647059</td>\n      <td>-0.547619</td>\n      <td>-0.838384</td>\n      <td>-0.701863</td>\n      <td>-0.585967</td>\n      <td>-0.763868</td>\n      <td>-0.612903</td>\n      <td>-0.551337</td>\n      <td>-0.835052</td>\n      <td>0</td>\n    </tr>\n  </tbody>\n</table>\n<p>1925 rows × 85 columns</p>\n</div>",
      "text/plain": "              age_above65 age_percentil  gender  disease_grouping_1  \\\nid  window                                                            \n0   0-2                 1          60th       0                 0.0   \n    2-4                 1          60th       0                 0.0   \n    4-6                 1          60th       0                 0.0   \n    6-12                1          60th       0                 0.0   \n    above_12            1          60th       0                 0.0   \n...                   ...           ...     ...                 ...   \n384 0-2                 0          50th       1                 0.0   \n    2-4                 0          50th       1                 0.0   \n    4-6                 0          50th       1                 0.0   \n    6-12                0          50th       1                 0.0   \n    above_12            0          50th       1                 0.0   \n\n              disease_grouping_2  disease_grouping_3  disease_grouping_4  \\\nid  window                                                                 \n0   0-2                      0.0                 0.0                 0.0   \n    2-4                      0.0                 0.0                 0.0   \n    4-6                      0.0                 0.0                 0.0   \n    6-12                     0.0                 0.0                 0.0   \n    above_12                 0.0                 0.0                 0.0   \n...                          ...                 ...                 ...   \n384 0-2                      0.0                 0.0                 0.0   \n    2-4                      0.0                 0.0                 0.0   \n    4-6                      0.0                 0.0                 0.0   \n    6-12                     0.0                 0.0                 0.0   \n    above_12                 0.0                 1.0                 0.0   \n\n              disease_grouping_5  disease_grouping_6  htn  ...  \\\nid  window                                                 ...   \n0   0-2                      1.0                 1.0  0.0  ...   \n    2-4                      1.0                 1.0  0.0  ...   \n    4-6                      1.0                 1.0  0.0  ...   \n    6-12                     1.0                 1.0  0.0  ...   \n    above_12                 1.0                 1.0  0.0  ...   \n...                          ...                 ...  ...  ...   \n384 0-2                      0.0                 0.0  0.0  ...   \n    2-4                      0.0                 0.0  0.0  ...   \n    4-6                      0.0                 0.0  0.0  ...   \n    6-12                     0.0                 0.0  0.0  ...   \n    above_12                 0.0                 0.0  0.0  ...   \n\n              respiratory_rate_diff  temperature_diff  oxygen_saturation_diff  \\\nid  window                                                                      \n0   0-2                   -1.000000         -1.000000               -1.000000   \n    2-4                   -1.000000         -1.000000               -1.000000   \n    4-6                         NaN               NaN                     NaN   \n    6-12                        NaN         -1.000000               -1.000000   \n    above_12               0.176471         -0.238095               -0.818182   \n...                             ...               ...                     ...   \n384 0-2                   -1.000000         -1.000000               -1.000000   \n    2-4                   -1.000000         -1.000000               -1.000000   \n    4-6                   -1.000000         -1.000000               -1.000000   \n    6-12                  -1.000000         -1.000000               -1.000000   \n    above_12              -0.647059         -0.547619               -0.838384   \n\n              bloodpressure_diastolic_diff_rel  \\\nid  window                                       \n0   0-2                              -1.000000   \n    2-4                              -1.000000   \n    4-6                                    NaN   \n    6-12                                   NaN   \n    above_12                         -0.389967   \n...                                        ...   \n384 0-2                              -1.000000   \n    2-4                              -1.000000   \n    4-6                              -1.000000   \n    6-12                             -1.000000   \n    above_12                         -0.701863   \n\n              bloodpressure_sistolic_diff_rel  heart_rate_diff_rel  \\\nid  window                                                           \n0   0-2                             -1.000000            -1.000000   \n    2-4                             -1.000000            -1.000000   \n    4-6                                   NaN                  NaN   \n    6-12                                  NaN                  NaN   \n    above_12                         0.407558            -0.230462   \n...                                       ...                  ...   \n384 0-2                             -1.000000            -1.000000   \n    2-4                             -1.000000            -1.000000   \n    4-6                             -1.000000            -1.000000   \n    6-12                            -1.000000            -1.000000   \n    above_12                        -0.585967            -0.763868   \n\n              respiratory_rate_diff_rel  temperature_diff_rel  \\\nid  window                                                      \n0   0-2                       -1.000000             -1.000000   \n    2-4                       -1.000000             -1.000000   \n    4-6                             NaN                   NaN   \n    6-12                            NaN             -1.000000   \n    above_12                   0.096774             -0.242282   \n...                                 ...                   ...   \n384 0-2                       -1.000000             -1.000000   \n    2-4                       -1.000000             -1.000000   \n    4-6                       -1.000000             -1.000000   \n    6-12                      -1.000000             -1.000000   \n    above_12                  -0.612903             -0.551337   \n\n              oxygen_saturation_diff_rel  icu  \nid  window                                     \n0   0-2                        -1.000000    0  \n    2-4                        -1.000000    0  \n    4-6                              NaN    0  \n    6-12                       -1.000000    0  \n    above_12                   -0.814433    1  \n...                                  ...  ...  \n384 0-2                        -1.000000    0  \n    2-4                        -1.000000    0  \n    4-6                        -1.000000    0  \n    6-12                       -1.000000    0  \n    above_12                   -0.835052    0  \n\n[1925 rows x 85 columns]"
     },
     "execution_count": 13,
     "metadata": {},
     "output_type": "execute_result"
    }
   ],
   "source": [
    "def drop_duplicate_columns(data):\n",
    "    '''\n",
    "    Drop ``DataFrame``'s repeated columns.\n",
    "\n",
    "    Since the data only has duplicated columns in the ``labs`` category, they\n",
    "    can be dropped directly.\n",
    "    '''\n",
    "    cols_to_drop = (\n",
    "        data[groups['labs']].columns\n",
    "        .str.extract('(\\w+_(?:mean|median|min|diff|diff_rel)(?:__.+)?)')\n",
    "        # With only one capturing group, extract returns a single-column\n",
    "        # DataFrame, which squeeze then turns into a Series.\n",
    "        .squeeze()\n",
    "        .dropna()\n",
    "    )\n",
    "\n",
    "    data_dropped = data.drop(cols_to_drop, axis=1)\n",
    "\n",
    "    return data_dropped\n",
    "\n",
    "data_dropped_labs = drop_duplicate_columns(data)\n",
    "\n",
    "data_dropped_labs"
   ]
  }
 ],
 "metadata": {
  "kernelspec": {
   "display_name": "Python 3.9.2 64-bit ('covid-sirio-libanes': conda)",
   "name": "python392jvsc74a57bd09c8242bc265a9bf850d223c2c72e0ecec2b908f7fad0146577f7efeebce4158b"
  },
  "language_info": {
   "codemirror_mode": {
    "name": "ipython",
    "version": 3
   },
   "file_extension": ".py",
   "mimetype": "text/x-python",
   "name": "python",
   "nbconvert_exporter": "python",
   "pygments_lexer": "ipython3",
   "version": "3.9.2"
  },
  "metadata": {
   "interpreter": {
    "hash": "9c8242bc265a9bf850d223c2c72e0ecec2b908f7fad0146577f7efeebce4158b"
   }
  },
  "orig_nbformat": 2
 },
 "nbformat": 4,
 "nbformat_minor": 2
}